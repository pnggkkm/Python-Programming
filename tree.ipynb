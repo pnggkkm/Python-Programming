{
  "nbformat": 4,
  "nbformat_minor": 0,
  "metadata": {
    "colab": {
      "provenance": [],
      "authorship_tag": "ABX9TyPQWhzevNhG/wpEgmdCiiu9",
      "include_colab_link": true
    },
    "kernelspec": {
      "name": "python3",
      "display_name": "Python 3"
    },
    "language_info": {
      "name": "python"
    }
  },
  "cells": [
    {
      "cell_type": "markdown",
      "metadata": {
        "id": "view-in-github",
        "colab_type": "text"
      },
      "source": [
        "<a href=\"https://colab.research.google.com/github/pnggkkm/Python-Programming/blob/main/tree.ipynb\" target=\"_parent\"><img src=\"https://colab.research.google.com/assets/colab-badge.svg\" alt=\"Open In Colab\"/></a>"
      ]
    },
    {
      "cell_type": "code",
      "execution_count": null,
      "metadata": {
        "colab": {
          "base_uri": "https://localhost:8080/"
        },
        "id": "d_g1djF4-s4u",
        "outputId": "c6483a32-81e3-4185-91b1-6626b1daea26"
      },
      "outputs": [
        {
          "output_type": "stream",
          "name": "stdout",
          "text": [
            "10\n"
          ]
        }
      ],
      "source": [
        "class Node:\n",
        "   def __init__(self, data):\n",
        "      self.left = None\n",
        "      self.right = None\n",
        "      self.data = data\n",
        "   def PrintTree(self):\n",
        "      print(self.data)\n",
        "\n",
        "root = Node(10)\n",
        "root.PrintTree()"
      ]
    },
    {
      "cell_type": "code",
      "source": [
        "class Node:\n",
        "    def __init__(self, item):\n",
        "        self.left = None\n",
        "        self.right = None\n",
        "        self.val = item\n",
        "\n",
        "\n",
        "def inorder(root):\n",
        "\n",
        "    if root:\n",
        "        # Traverse left\n",
        "        inorder(root.left)\n",
        "        # Traverse root\n",
        "        print(str(root.val) + \"->\", end='')\n",
        "        # Traverse right\n",
        "        inorder(root.right)\n",
        "\n",
        "\n",
        "def postorder(root):\n",
        "\n",
        "    if root:\n",
        "        # Traverse left\n",
        "        postorder(root.left)\n",
        "        # Traverse right\n",
        "        postorder(root.right)\n",
        "        # Traverse root\n",
        "        print(str(root.val) + \"->\", end='')\n",
        "\n",
        "\n",
        "def preorder(root):\n",
        "\n",
        "    if root:\n",
        "        # Traverse root\n",
        "        print(str(root.val) + \"->\", end='')\n",
        "        # Traverse left\n",
        "        preorder(root.left)\n",
        "        # Traverse right\n",
        "        preorder(root.right)\n",
        "\n",
        "\n",
        "root = Node(1)\n",
        "root.left = Node(2)\n",
        "root.right = Node(3)\n",
        "root.left.left = Node(4)\n",
        "root.left.right = Node(5)\n",
        "\n",
        "print(\"Inorder traversal \")\n",
        "inorder(root)\n",
        "\n",
        "print(\"\\nPreorder traversal \")\n",
        "preorder(root)\n",
        "\n",
        "print(\"\\nPostorder traversal \")\n",
        "postorder(root)"
      ],
      "metadata": {
        "colab": {
          "base_uri": "https://localhost:8080/"
        },
        "id": "m49jA8SEQSq_",
        "outputId": "7cbbaf4c-8460-4c5e-e848-82cac40128d6"
      },
      "execution_count": null,
      "outputs": [
        {
          "output_type": "stream",
          "name": "stdout",
          "text": [
            "Inorder traversal \n",
            "4->2->5->1->3->\n",
            "Preorder traversal \n",
            "1->2->4->5->3->\n",
            "Postorder traversal \n",
            "4->5->2->3->1->"
          ]
        }
      ]
    },
    {
      "cell_type": "code",
      "source": [
        "class BinaryTreeNode:\n",
        "    def __init__(self, data):\n",
        "        self.data = data\n",
        "        self.leftChild = None\n",
        "        self.rightChild = None\n",
        "\n",
        "\n",
        "node1 = BinaryTreeNode(50)\n",
        "node2 = BinaryTreeNode(20)\n",
        "node3 = BinaryTreeNode(45)\n",
        "node4 = BinaryTreeNode(11)\n",
        "node5 = BinaryTreeNode(15)\n",
        "node6 = BinaryTreeNode(30)\n",
        "node7 = BinaryTreeNode(78)\n",
        "\n",
        "node1.leftChild = node2\n",
        "node1.rightChild = node3\n",
        "node2.leftChild = node4\n",
        "node2.rightChild = node5\n",
        "node3.leftChild = node6\n",
        "node3.rightChild = node7\n",
        "\n",
        "print(\"Root Node is:\")\n",
        "print(node1.data)\n",
        "\n",
        "print(\"left child of the node is:\")\n",
        "print(node1.leftChild.data)\n",
        "\n",
        "print(\"right child of the node is:\")\n",
        "print(node1.rightChild.data)\n",
        "\n",
        "print(\"Node is:\")\n",
        "print(node2.data)\n",
        "\n",
        "print(\"left child of the node is:\")\n",
        "print(node2.leftChild.data)\n",
        "\n",
        "print(\"right child of the node is:\")\n",
        "print(node2.rightChild.data)\n",
        "\n",
        "print(\"Node is:\")\n",
        "print(node3.data)\n",
        "\n",
        "print(\"left child of the node is:\")\n",
        "print(node3.leftChild.data)\n",
        "\n",
        "print(\"right child of the node is:\")\n",
        "print(node3.rightChild.data)\n",
        "\n",
        "print(\"Node is:\")\n",
        "print(node4.data)\n",
        "\n",
        "print(\"left child of the node is:\")\n",
        "print(node4.leftChild)\n",
        "\n",
        "print(\"right child of the node is:\")\n",
        "print(node4.rightChild)\n",
        "\n",
        "print(\"Node is:\")\n",
        "print(node5.data)\n",
        "\n",
        "print(\"left child of the node is:\")\n",
        "print(node5.leftChild)\n",
        "\n",
        "print(\"right child of the node is:\")\n",
        "print(node5.rightChild)\n",
        "\n",
        "print(\"Node is:\")\n",
        "print(node6.data)\n",
        "\n",
        "print(\"left child of the node is:\")\n",
        "print(node6.leftChild)\n",
        "\n",
        "print(\"right child of the node is:\")\n",
        "print(node6.rightChild)\n",
        "\n",
        "print(\"Node is:\")\n",
        "print(node7.data)\n",
        "\n",
        "print(\"left child of the node is:\")\n",
        "print(node7.leftChild)\n",
        "\n",
        "print(\"right child of the node is:\")\n",
        "print(node7.rightChild)"
      ],
      "metadata": {
        "colab": {
          "base_uri": "https://localhost:8080/"
        },
        "id": "saTyskMFSTju",
        "outputId": "474e213e-c529-44f6-fc84-b54b7d27b641"
      },
      "execution_count": null,
      "outputs": [
        {
          "output_type": "stream",
          "name": "stdout",
          "text": [
            "Root Node is:\n",
            "50\n",
            "left child of the node is:\n",
            "20\n",
            "right child of the node is:\n",
            "45\n",
            "Node is:\n",
            "20\n",
            "left child of the node is:\n",
            "11\n",
            "right child of the node is:\n",
            "15\n",
            "Node is:\n",
            "45\n",
            "left child of the node is:\n",
            "30\n",
            "right child of the node is:\n",
            "78\n",
            "Node is:\n",
            "11\n",
            "left child of the node is:\n",
            "None\n",
            "right child of the node is:\n",
            "None\n",
            "Node is:\n",
            "15\n",
            "left child of the node is:\n",
            "None\n",
            "right child of the node is:\n",
            "None\n",
            "Node is:\n",
            "30\n",
            "left child of the node is:\n",
            "None\n",
            "right child of the node is:\n",
            "None\n",
            "Node is:\n",
            "78\n",
            "left child of the node is:\n",
            "None\n",
            "right child of the node is:\n",
            "None\n"
          ]
        }
      ]
    },
    {
      "cell_type": "code",
      "source": [
        "print(node1.leftChild)"
      ],
      "metadata": {
        "colab": {
          "base_uri": "https://localhost:8080/"
        },
        "id": "TAGpkEIayBWf",
        "outputId": "5acf199b-c3ad-4128-ec0f-fbb6e64a5ec9"
      },
      "execution_count": null,
      "outputs": [
        {
          "output_type": "stream",
          "name": "stdout",
          "text": [
            "<__main__.BinaryTreeNode object at 0x7ba5741ec040>\n"
          ]
        }
      ]
    }
  ]
}