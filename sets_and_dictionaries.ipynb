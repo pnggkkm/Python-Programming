{
  "nbformat": 4,
  "nbformat_minor": 0,
  "metadata": {
    "colab": {
      "provenance": [],
      "authorship_tag": "ABX9TyPo2AICRiVg1o2q2iM0fqvx",
      "include_colab_link": true
    },
    "kernelspec": {
      "name": "python3",
      "display_name": "Python 3"
    },
    "language_info": {
      "name": "python"
    }
  },
  "cells": [
    {
      "cell_type": "markdown",
      "metadata": {
        "id": "view-in-github",
        "colab_type": "text"
      },
      "source": [
        "<a href=\"https://colab.research.google.com/github/pnggkkm/Python-Programming/blob/main/sets_and_dictionaries.ipynb\" target=\"_parent\"><img src=\"https://colab.research.google.com/assets/colab-badge.svg\" alt=\"Open In Colab\"/></a>"
      ]
    },
    {
      "cell_type": "markdown",
      "source": [
        "**Python Sets**\n",
        "unordered\n",
        "Mutable\n",
        "values are unique"
      ],
      "metadata": {
        "id": "zdpLS2Ra54uS"
      }
    },
    {
      "cell_type": "code",
      "execution_count": null,
      "metadata": {
        "id": "Xbz9vTC45mJ_"
      },
      "outputs": [],
      "source": [
        "s={10,20,30,40,50,60,70}"
      ]
    },
    {
      "cell_type": "code",
      "source": [
        "print(s)"
      ],
      "metadata": {
        "colab": {
          "base_uri": "https://localhost:8080/"
        },
        "id": "cZ03MTVA6aJ0",
        "outputId": "8232f80b-0fb2-44a3-c9ed-e8c27bd9aaa1"
      },
      "execution_count": null,
      "outputs": [
        {
          "output_type": "stream",
          "name": "stdout",
          "text": [
            "{50, 20, 70, 40, 10, 60, 30}\n"
          ]
        }
      ]
    },
    {
      "cell_type": "markdown",
      "source": [
        "**Python sets cannot be accessed with an index**"
      ],
      "metadata": {
        "id": "IXfa4IMF6dWG"
      }
    },
    {
      "cell_type": "code",
      "source": [
        "print(s[0])"
      ],
      "metadata": {
        "colab": {
          "base_uri": "https://localhost:8080/",
          "height": 176
        },
        "id": "LwNvMYYJ6ctR",
        "outputId": "afdca9d2-da1c-48fe-da39-0df4aec56b05"
      },
      "execution_count": null,
      "outputs": [
        {
          "output_type": "error",
          "ename": "TypeError",
          "evalue": "'set' object is not subscriptable",
          "traceback": [
            "\u001b[0;31m---------------------------------------------------------------------------\u001b[0m",
            "\u001b[0;31mTypeError\u001b[0m                                 Traceback (most recent call last)",
            "\u001b[0;32m<ipython-input-4-5605e14cbe49>\u001b[0m in \u001b[0;36m<cell line: 1>\u001b[0;34m()\u001b[0m\n\u001b[0;32m----> 1\u001b[0;31m \u001b[0mprint\u001b[0m\u001b[0;34m(\u001b[0m\u001b[0ms\u001b[0m\u001b[0;34m[\u001b[0m\u001b[0;36m0\u001b[0m\u001b[0;34m]\u001b[0m\u001b[0;34m)\u001b[0m\u001b[0;34m\u001b[0m\u001b[0;34m\u001b[0m\u001b[0m\n\u001b[0m",
            "\u001b[0;31mTypeError\u001b[0m: 'set' object is not subscriptable"
          ]
        }
      ]
    },
    {
      "cell_type": "markdown",
      "source": [
        "**sets can contain any elements**"
      ],
      "metadata": {
        "id": "cV8uo4PU8X9Z"
      }
    },
    {
      "cell_type": "code",
      "source": [
        "student={\"student1\",1,87.5,8.9}"
      ],
      "metadata": {
        "id": "SQGp4FEy6pJH"
      },
      "execution_count": null,
      "outputs": []
    },
    {
      "cell_type": "code",
      "source": [
        "print(student)"
      ],
      "metadata": {
        "colab": {
          "base_uri": "https://localhost:8080/"
        },
        "id": "UZAbePjx8lPv",
        "outputId": "95ed27b7-6504-4794-c2be-3412e15c2e3d"
      },
      "execution_count": null,
      "outputs": [
        {
          "output_type": "stream",
          "name": "stdout",
          "text": [
            "{8.9, 1, 'student1', 87.5}\n"
          ]
        }
      ]
    },
    {
      "cell_type": "markdown",
      "source": [
        "**Set has only unique Values**"
      ],
      "metadata": {
        "id": "DQa3-FC_8tiu"
      }
    },
    {
      "cell_type": "code",
      "source": [
        "s1={10,20,30,40,50,60,10,20,30}"
      ],
      "metadata": {
        "id": "uWtdIe548szh"
      },
      "execution_count": null,
      "outputs": []
    },
    {
      "cell_type": "code",
      "source": [
        "print(s1)"
      ],
      "metadata": {
        "colab": {
          "base_uri": "https://localhost:8080/"
        },
        "id": "HR1K8_Xm87SP",
        "outputId": "94679240-d0fd-4524-fbd8-eba74c4a24b2"
      },
      "execution_count": null,
      "outputs": [
        {
          "output_type": "stream",
          "name": "stdout",
          "text": [
            "{50, 20, 40, 10, 60, 30}\n"
          ]
        }
      ]
    },
    {
      "cell_type": "markdown",
      "source": [
        "**set can be used for removing duplicate in the list or tuple**"
      ],
      "metadata": {
        "id": "Q4EafHD79fWO"
      }
    },
    {
      "cell_type": "code",
      "source": [
        "l=[10,30,60,70,80,30,10]"
      ],
      "metadata": {
        "id": "SRGkVwuL9c8R"
      },
      "execution_count": null,
      "outputs": []
    },
    {
      "cell_type": "code",
      "source": [
        "print(l)"
      ],
      "metadata": {
        "colab": {
          "base_uri": "https://localhost:8080/"
        },
        "id": "UDt9EATJ-ALD",
        "outputId": "e5bd5b46-040f-470a-84b8-12147ff277d4"
      },
      "execution_count": null,
      "outputs": [
        {
          "output_type": "stream",
          "name": "stdout",
          "text": [
            "[10, 30, 60, 70, 80, 30, 10]\n"
          ]
        }
      ]
    },
    {
      "cell_type": "code",
      "source": [
        "conl = set(l)"
      ],
      "metadata": {
        "id": "200vo-0i-HLa"
      },
      "execution_count": null,
      "outputs": []
    },
    {
      "cell_type": "code",
      "source": [
        "conl"
      ],
      "metadata": {
        "colab": {
          "base_uri": "https://localhost:8080/"
        },
        "id": "wp_f5ld6-PbF",
        "outputId": "c4695f2c-d3b3-4c79-aae7-d94d226d5670"
      },
      "execution_count": null,
      "outputs": [
        {
          "output_type": "execute_result",
          "data": {
            "text/plain": [
              "{10, 30, 60, 70, 80}"
            ]
          },
          "metadata": {},
          "execution_count": 12
        }
      ]
    },
    {
      "cell_type": "code",
      "source": [
        "l=list(conl)"
      ],
      "metadata": {
        "id": "JMGXHuXL-SZu"
      },
      "execution_count": null,
      "outputs": []
    },
    {
      "cell_type": "code",
      "source": [
        "print(l)"
      ],
      "metadata": {
        "colab": {
          "base_uri": "https://localhost:8080/"
        },
        "id": "X570-ZZ9-eCP",
        "outputId": "5498a0b4-8ffd-465b-fb37-ab52701c9245"
      },
      "execution_count": null,
      "outputs": [
        {
          "output_type": "stream",
          "name": "stdout",
          "text": [
            "[70, 10, 80, 60, 30]\n"
          ]
        }
      ]
    },
    {
      "cell_type": "markdown",
      "source": [
        "**set functions**"
      ],
      "metadata": {
        "id": "XE_Z1T-Q-qeD"
      }
    },
    {
      "cell_type": "markdown",
      "source": [
        "**add()**"
      ],
      "metadata": {
        "id": "-id3xjLT-84b"
      }
    },
    {
      "cell_type": "code",
      "source": [
        "companies={\"hero\",\"honda\",\"suzuki\",\"ampere\"}"
      ],
      "metadata": {
        "id": "ANL8fR9t-yYs"
      },
      "execution_count": null,
      "outputs": []
    },
    {
      "cell_type": "code",
      "source": [
        "companies.add(\"bajaj\")"
      ],
      "metadata": {
        "id": "mx3Lxse7_K6o"
      },
      "execution_count": null,
      "outputs": []
    },
    {
      "cell_type": "code",
      "source": [
        "print(companies)"
      ],
      "metadata": {
        "colab": {
          "base_uri": "https://localhost:8080/"
        },
        "id": "iLQUutVe_PoT",
        "outputId": "11590d62-2e7b-4832-ab7f-69deb8f56800"
      },
      "execution_count": null,
      "outputs": [
        {
          "output_type": "stream",
          "name": "stdout",
          "text": [
            "{'bajaj', 'honda', 'suzuki', 'ampere', 'hero'}\n"
          ]
        }
      ]
    },
    {
      "cell_type": "markdown",
      "source": [
        "**clear()**"
      ],
      "metadata": {
        "id": "U5yxSgpe_WxS"
      }
    },
    {
      "cell_type": "code",
      "source": [
        "companies.clear()"
      ],
      "metadata": {
        "id": "eqf4QrtD_WZw"
      },
      "execution_count": null,
      "outputs": []
    },
    {
      "cell_type": "code",
      "source": [
        "print(companies)"
      ],
      "metadata": {
        "colab": {
          "base_uri": "https://localhost:8080/"
        },
        "id": "WzyDhJJN_pQz",
        "outputId": "de17fa71-2258-450c-941d-a4d31a0bdb78"
      },
      "execution_count": null,
      "outputs": [
        {
          "output_type": "stream",
          "name": "stdout",
          "text": [
            "set()\n"
          ]
        }
      ]
    },
    {
      "cell_type": "markdown",
      "source": [
        "**copy()**"
      ],
      "metadata": {
        "id": "xWU2GzIh_xgL"
      }
    },
    {
      "cell_type": "code",
      "source": [
        "companies = {\"Hero\", \"Honda\", \"Bajaj\"}\n",
        "x = companies.copy()\n",
        "print(x)\n",
        "x.add(\"Ampere\")\n",
        "print(x)\n",
        "print(companies)"
      ],
      "metadata": {
        "colab": {
          "base_uri": "https://localhost:8080/"
        },
        "id": "TCayZaGeANW2",
        "outputId": "f23083c4-3051-4433-cb81-a111fdbd6a96"
      },
      "execution_count": null,
      "outputs": [
        {
          "output_type": "stream",
          "name": "stdout",
          "text": [
            "{'Honda', 'Hero', 'Bajaj'}\n",
            "{'Ampere', 'Honda', 'Hero', 'Bajaj'}\n",
            "{'Honda', 'Hero', 'Bajaj'}\n"
          ]
        }
      ]
    },
    {
      "cell_type": "markdown",
      "source": [
        "**difference()**"
      ],
      "metadata": {
        "id": "RFTFNE9OAoCl"
      }
    },
    {
      "cell_type": "code",
      "source": [
        "x = {\"Hero\", \"Honda\", \"Suzuki\"}\n",
        "y = {\"Ampere\", \"Ola\", \"Hero\", \"Suzuki\"}\n",
        "\n",
        "z = x.difference(y)\n",
        "\n",
        "print(z)"
      ],
      "metadata": {
        "colab": {
          "base_uri": "https://localhost:8080/"
        },
        "id": "0g7v5-dBAroH",
        "outputId": "4571b7aa-14e5-4f41-9f83-2197421352c4"
      },
      "execution_count": null,
      "outputs": [
        {
          "output_type": "stream",
          "name": "stdout",
          "text": [
            "{'Honda'}\n"
          ]
        }
      ]
    },
    {
      "cell_type": "code",
      "source": [
        "type(z)"
      ],
      "metadata": {
        "colab": {
          "base_uri": "https://localhost:8080/"
        },
        "id": "vlnluur6_BEj",
        "outputId": "f0190c23-8944-40c5-f66d-2107f7c4c365"
      },
      "execution_count": null,
      "outputs": [
        {
          "output_type": "execute_result",
          "data": {
            "text/plain": [
              "set"
            ]
          },
          "metadata": {},
          "execution_count": 5
        }
      ]
    },
    {
      "cell_type": "markdown",
      "source": [
        "**difference_update()**"
      ],
      "metadata": {
        "id": "Z8wrRCcPBax5"
      }
    },
    {
      "cell_type": "code",
      "source": [
        "x = {\"Hero\", \"Honda\", \"Suzuki\"}\n",
        "y = {\"Ampere\", \"Ola\", \"Hero\"}\n",
        "\n",
        "x.difference_update(y)\n",
        "\n",
        "print(x)"
      ],
      "metadata": {
        "colab": {
          "base_uri": "https://localhost:8080/"
        },
        "id": "oPkcjkI6BjCp",
        "outputId": "4546cda0-f132-4917-f9c6-c24c7712b080"
      },
      "execution_count": null,
      "outputs": [
        {
          "output_type": "stream",
          "name": "stdout",
          "text": [
            "{'Suzuki', 'Honda'}\n"
          ]
        }
      ]
    },
    {
      "cell_type": "markdown",
      "source": [
        "**discard()**"
      ],
      "metadata": {
        "id": "3gWbXTe9GFlD"
      }
    },
    {
      "cell_type": "code",
      "source": [
        "y={'Hero', 'Ola', 'Ampere'}\n",
        "print(y)"
      ],
      "metadata": {
        "colab": {
          "base_uri": "https://localhost:8080/"
        },
        "id": "rafmWdx4F_KG",
        "outputId": "d34a94c4-9fe1-47dc-a3a2-ad902cdc64eb"
      },
      "execution_count": null,
      "outputs": [
        {
          "output_type": "stream",
          "name": "stdout",
          "text": [
            "{'Ampere', 'Hero', 'Ola'}\n"
          ]
        }
      ]
    },
    {
      "cell_type": "code",
      "source": [
        "y.discard(\"Ampere\")"
      ],
      "metadata": {
        "id": "IN-Cb1e8GQzm"
      },
      "execution_count": null,
      "outputs": []
    },
    {
      "cell_type": "code",
      "source": [
        "print(y)"
      ],
      "metadata": {
        "colab": {
          "base_uri": "https://localhost:8080/"
        },
        "id": "EHNxleVfGX7u",
        "outputId": "2a12645d-4f5c-42c7-dace-8715f7ad00f6"
      },
      "execution_count": null,
      "outputs": [
        {
          "output_type": "stream",
          "name": "stdout",
          "text": [
            "{'Hero', 'Ola'}\n"
          ]
        }
      ]
    },
    {
      "cell_type": "markdown",
      "source": [
        "**intersection()**"
      ],
      "metadata": {
        "id": "2Z0uTKKyGiuu"
      }
    },
    {
      "cell_type": "code",
      "source": [
        "set1 = {10,20,50,70,90}\n",
        "set2 = {30,40,50,60,70,90}\n",
        "\n",
        "set3=set1.intersection(set2)\n",
        "print(set3)"
      ],
      "metadata": {
        "colab": {
          "base_uri": "https://localhost:8080/"
        },
        "id": "y4xZeTPaGh1v",
        "outputId": "56bb26f5-4669-487e-fedb-fed80c349be6"
      },
      "execution_count": null,
      "outputs": [
        {
          "output_type": "stream",
          "name": "stdout",
          "text": [
            "{50, 90, 70}\n"
          ]
        }
      ]
    },
    {
      "cell_type": "markdown",
      "source": [
        "**update()**"
      ],
      "metadata": {
        "id": "3omyCEF9HGA3"
      }
    },
    {
      "cell_type": "code",
      "source": [
        "set1={1,2,3}\n",
        "set2={4,5,6}\n",
        "set1.update(set2)\n",
        "print(set1)"
      ],
      "metadata": {
        "colab": {
          "base_uri": "https://localhost:8080/"
        },
        "id": "LnSKs8baHJYD",
        "outputId": "f8ee7a32-cd21-4abf-f65a-33005491faaf"
      },
      "execution_count": null,
      "outputs": [
        {
          "output_type": "stream",
          "name": "stdout",
          "text": [
            "{1, 2, 3, 4, 5, 6}\n"
          ]
        }
      ]
    },
    {
      "cell_type": "markdown",
      "source": [
        "**union()**"
      ],
      "metadata": {
        "id": "-o29vzygIPt-"
      }
    },
    {
      "cell_type": "code",
      "source": [
        "companies = {\"Hero\", \"Honda\", \"Bajaj\"}\n",
        "companies1 = {\"Mahindra\", \"Maruti\", \"Tata\",\"Bajaj\"}\n",
        "\n",
        "allcompanies = companies.union(companies1)\n",
        "\n",
        "print(allcompanies)\n"
      ],
      "metadata": {
        "colab": {
          "base_uri": "https://localhost:8080/"
        },
        "id": "tlwE-PbNIJqx",
        "outputId": "f2d3fadc-bc5f-49a9-bed9-e079d6a40e1d"
      },
      "execution_count": null,
      "outputs": [
        {
          "output_type": "stream",
          "name": "stdout",
          "text": [
            "{'Mahindra', 'Bajaj', 'Tata', 'Hero', 'Honda', 'Maruti'}\n"
          ]
        }
      ]
    },
    {
      "cell_type": "markdown",
      "source": [
        "**remove()**"
      ],
      "metadata": {
        "id": "-rcNcFg7J_rG"
      }
    },
    {
      "cell_type": "code",
      "source": [
        "allcompanies.remove(\"Honda\")"
      ],
      "metadata": {
        "id": "uQF_7ktpJe0T"
      },
      "execution_count": null,
      "outputs": []
    },
    {
      "cell_type": "code",
      "source": [
        "print(allcompanies)"
      ],
      "metadata": {
        "colab": {
          "base_uri": "https://localhost:8080/"
        },
        "id": "oePXucnkKK27",
        "outputId": "6774c622-df04-43be-99f2-3d73ca654805"
      },
      "execution_count": null,
      "outputs": [
        {
          "output_type": "stream",
          "name": "stdout",
          "text": [
            "{'Mahindra', 'Hero', 'Tata', 'Bajaj', 'Maruti'}\n"
          ]
        }
      ]
    },
    {
      "cell_type": "markdown",
      "source": [
        "**difference between remove() and discard()**"
      ],
      "metadata": {
        "id": "Pc4Qmt84K2Vc"
      }
    },
    {
      "cell_type": "code",
      "source": [
        "print(allcompanies)"
      ],
      "metadata": {
        "colab": {
          "base_uri": "https://localhost:8080/"
        },
        "id": "6Z5DcJn8KOOM",
        "outputId": "6871e058-e11b-43d9-b1be-91a729c26b51"
      },
      "execution_count": null,
      "outputs": [
        {
          "output_type": "stream",
          "name": "stdout",
          "text": [
            "{'Mahindra', 'Bajaj', 'Tata', 'Hero', 'Honda', 'Maruti'}\n"
          ]
        }
      ]
    },
    {
      "cell_type": "code",
      "source": [
        "allcompanies.remove(\"Ampere\")"
      ],
      "metadata": {
        "colab": {
          "base_uri": "https://localhost:8080/",
          "height": 176
        },
        "id": "eSMjHVR6Lsaq",
        "outputId": "eb0d80e0-a12d-4ed2-ace7-c7825910cb14"
      },
      "execution_count": null,
      "outputs": [
        {
          "output_type": "error",
          "ename": "KeyError",
          "evalue": "'Ampere'",
          "traceback": [
            "\u001b[0;31m---------------------------------------------------------------------------\u001b[0m",
            "\u001b[0;31mKeyError\u001b[0m                                  Traceback (most recent call last)",
            "\u001b[0;32m<ipython-input-16-0e66df8f3e2f>\u001b[0m in \u001b[0;36m<cell line: 1>\u001b[0;34m()\u001b[0m\n\u001b[0;32m----> 1\u001b[0;31m \u001b[0mallcompanies\u001b[0m\u001b[0;34m.\u001b[0m\u001b[0mremove\u001b[0m\u001b[0;34m(\u001b[0m\u001b[0;34m\"Ampere\"\u001b[0m\u001b[0;34m)\u001b[0m\u001b[0;34m\u001b[0m\u001b[0;34m\u001b[0m\u001b[0m\n\u001b[0m",
            "\u001b[0;31mKeyError\u001b[0m: 'Ampere'"
          ]
        }
      ]
    },
    {
      "cell_type": "code",
      "source": [
        "allcompanies.discard(\"Ampere\")"
      ],
      "metadata": {
        "id": "Q14qlhkhL3Iq"
      },
      "execution_count": null,
      "outputs": []
    },
    {
      "cell_type": "code",
      "source": [
        "print(allcompanies)"
      ],
      "metadata": {
        "colab": {
          "base_uri": "https://localhost:8080/"
        },
        "id": "HSi7SSMwL-_l",
        "outputId": "3d0552cd-b2d5-4f8a-a88b-a9f7f212c63b"
      },
      "execution_count": null,
      "outputs": [
        {
          "output_type": "stream",
          "name": "stdout",
          "text": [
            "{'Mahindra', 'Hero', 'Tata', 'Bajaj', 'Maruti'}\n"
          ]
        }
      ]
    },
    {
      "cell_type": "markdown",
      "source": [
        "**pop()**"
      ],
      "metadata": {
        "id": "9TYU8qmf4LLE"
      }
    },
    {
      "cell_type": "code",
      "source": [
        "c1 = allcompanies.pop()"
      ],
      "metadata": {
        "id": "pmm0Fj5H2yw5"
      },
      "execution_count": null,
      "outputs": []
    },
    {
      "cell_type": "code",
      "source": [
        "print(c1)"
      ],
      "metadata": {
        "colab": {
          "base_uri": "https://localhost:8080/"
        },
        "id": "mnX4UDjh4o8g",
        "outputId": "29463644-d71b-483a-9bdc-22df635fe3e1"
      },
      "execution_count": null,
      "outputs": [
        {
          "output_type": "stream",
          "name": "stdout",
          "text": [
            "Mahindra\n"
          ]
        }
      ]
    },
    {
      "cell_type": "code",
      "source": [
        "print(allcompanies)"
      ],
      "metadata": {
        "colab": {
          "base_uri": "https://localhost:8080/"
        },
        "id": "yvPhm0Fu4tuk",
        "outputId": "ae6abcc4-8438-4cf7-b57b-ce1a1cd24278"
      },
      "execution_count": null,
      "outputs": [
        {
          "output_type": "stream",
          "name": "stdout",
          "text": [
            "{'Hero', 'Tata', 'Bajaj', 'Maruti'}\n"
          ]
        }
      ]
    },
    {
      "cell_type": "markdown",
      "source": [
        "**issubset()**"
      ],
      "metadata": {
        "id": "Ryukvce146JF"
      }
    },
    {
      "cell_type": "code",
      "source": [
        "x = {1,2,3,4}\n",
        "y = {1,2,3,5,6,7,8,9,10,11,12}\n",
        "\n",
        "z = x.issubset(y)\n",
        "\n",
        "print(z)"
      ],
      "metadata": {
        "colab": {
          "base_uri": "https://localhost:8080/"
        },
        "id": "AKneBni14wmb",
        "outputId": "5b8a9fe8-d92a-4e5c-8a94-2b0915d662fa"
      },
      "execution_count": null,
      "outputs": [
        {
          "output_type": "stream",
          "name": "stdout",
          "text": [
            "False\n"
          ]
        }
      ]
    },
    {
      "cell_type": "code",
      "source": [
        "x = {1,2,3,4}\n",
        "y = {1,2,3,5,6,7,8,9,10,11,12}\n",
        "\n",
        "z = x.issubset(y)\n",
        "\n",
        "print(z)"
      ],
      "metadata": {
        "colab": {
          "base_uri": "https://localhost:8080/"
        },
        "id": "ogkS0xE45HkK",
        "outputId": "a8690c6b-5a04-45d5-b427-429dee49a8a1"
      },
      "execution_count": null,
      "outputs": [
        {
          "output_type": "stream",
          "name": "stdout",
          "text": [
            "False\n"
          ]
        }
      ]
    },
    {
      "cell_type": "markdown",
      "source": [
        "**issuperset()**"
      ],
      "metadata": {
        "id": "yWLoXYfb5ltO"
      }
    },
    {
      "cell_type": "code",
      "source": [
        "x = {1,2,3,4}\n",
        "y = {1,2,3,4,5,6,7,8,9,10,11,12}\n",
        "\n",
        "z = y.issuperset(x)\n",
        "\n",
        "print(z)"
      ],
      "metadata": {
        "colab": {
          "base_uri": "https://localhost:8080/"
        },
        "id": "q_Y8rww45NZo",
        "outputId": "7950532d-5586-446e-fb51-f239a6fb22ae"
      },
      "execution_count": null,
      "outputs": [
        {
          "output_type": "stream",
          "name": "stdout",
          "text": [
            "True\n"
          ]
        }
      ]
    },
    {
      "cell_type": "code",
      "source": [
        "x = {1,2,3,4}\n",
        "y = {1,2,3,5,6,7,8,9,10,11,12}\n",
        "\n",
        "\n",
        "z = y.issuperset(x)\n",
        "\n",
        "print(z)"
      ],
      "metadata": {
        "colab": {
          "base_uri": "https://localhost:8080/"
        },
        "id": "4W1DvCkT5zyF",
        "outputId": "9045df03-4755-48b1-d758-9eafc16157de"
      },
      "execution_count": null,
      "outputs": [
        {
          "output_type": "stream",
          "name": "stdout",
          "text": [
            "False\n"
          ]
        }
      ]
    },
    {
      "cell_type": "markdown",
      "source": [
        "**Dictionaries**"
      ],
      "metadata": {
        "id": "jxVfeK2C56dA"
      }
    },
    {
      "cell_type": "markdown",
      "source": [
        "1. Dictionaries are mutable\n",
        "2. Dictionaries are Dynamic\n",
        "3. it is in the form of Key:value\n",
        "4. The Dictionary elements can be accesses via \"Key\"\n"
      ],
      "metadata": {
        "id": "UeySbn8y7ROS"
      }
    },
    {
      "cell_type": "markdown",
      "source": [
        "**Defining a dictionary**"
      ],
      "metadata": {
        "id": "-VZC-KBt7_i8"
      }
    },
    {
      "cell_type": "code",
      "source": [
        "student1 = {\"Name\":\"xyz\",\"Roll No\":25, \"CGPA\": 7.6, \"Attendance\":89}"
      ],
      "metadata": {
        "id": "j6JKEkmD59r5"
      },
      "execution_count": null,
      "outputs": []
    },
    {
      "cell_type": "code",
      "source": [
        "print(student1)"
      ],
      "metadata": {
        "colab": {
          "base_uri": "https://localhost:8080/"
        },
        "id": "lhDwESug9ajM",
        "outputId": "a10417a3-3a10-4c1d-ee0b-ae3da6571b6c"
      },
      "execution_count": null,
      "outputs": [
        {
          "output_type": "stream",
          "name": "stdout",
          "text": [
            "{'Name': 'xyz', 'Roll No': 25, 'CGPA': 7.6, 'Attendance': 89}\n"
          ]
        }
      ]
    },
    {
      "cell_type": "code",
      "source": [
        "print(student1.keys())"
      ],
      "metadata": {
        "colab": {
          "base_uri": "https://localhost:8080/"
        },
        "id": "uD4wlo-F9hKI",
        "outputId": "de4a9d0f-3182-4733-c245-df667e97dcba"
      },
      "execution_count": null,
      "outputs": [
        {
          "output_type": "stream",
          "name": "stdout",
          "text": [
            "dict_keys(['Name', 'Roll No', 'CGPA', 'Attendance'])\n"
          ]
        }
      ]
    },
    {
      "cell_type": "code",
      "source": [
        "print(student1.values())"
      ],
      "metadata": {
        "colab": {
          "base_uri": "https://localhost:8080/"
        },
        "id": "mDfQuaBL9qKP",
        "outputId": "2feb6aa8-87fc-4ee9-c6c6-32d2eb3550b2"
      },
      "execution_count": null,
      "outputs": [
        {
          "output_type": "stream",
          "name": "stdout",
          "text": [
            "dict_values(['xyz', 25, 7.6, 89])\n"
          ]
        }
      ]
    },
    {
      "cell_type": "code",
      "source": [
        "student1[\"CGPA\"]"
      ],
      "metadata": {
        "colab": {
          "base_uri": "https://localhost:8080/"
        },
        "id": "rXyyriIi9xXu",
        "outputId": "b50cf376-545a-4e8b-c028-b696874b8a06"
      },
      "execution_count": null,
      "outputs": [
        {
          "output_type": "execute_result",
          "data": {
            "text/plain": [
              "7.6"
            ]
          },
          "metadata": {},
          "execution_count": 29
        }
      ]
    },
    {
      "cell_type": "markdown",
      "source": [
        "**Adding Values to the Dictionary**"
      ],
      "metadata": {
        "id": "Lp9pU3n799da"
      }
    },
    {
      "cell_type": "code",
      "source": [
        "student1[\"semester\"]=3"
      ],
      "metadata": {
        "id": "KLQaPDjR-DRp"
      },
      "execution_count": null,
      "outputs": []
    },
    {
      "cell_type": "code",
      "source": [
        "print(student1)"
      ],
      "metadata": {
        "colab": {
          "base_uri": "https://localhost:8080/"
        },
        "id": "IcC9rEvi-WAY",
        "outputId": "74428ab6-3faf-43a9-bf20-e4318eacdc43"
      },
      "execution_count": null,
      "outputs": [
        {
          "output_type": "stream",
          "name": "stdout",
          "text": [
            "{'Name': 'xyz', 'Roll No': 25, 'CGPA': 7.6, 'Attendance': 89, 'year': 'Third', 'semester': 3}\n"
          ]
        }
      ]
    },
    {
      "cell_type": "markdown",
      "source": [
        "**Dictionary Methods**"
      ],
      "metadata": {
        "id": "r6OSBa3H-ZqN"
      }
    },
    {
      "cell_type": "markdown",
      "source": [
        "**pop()**"
      ],
      "metadata": {
        "id": "Vt0_JExf_J03"
      }
    },
    {
      "cell_type": "code",
      "source": [
        "print(student1)"
      ],
      "metadata": {
        "colab": {
          "base_uri": "https://localhost:8080/"
        },
        "id": "GsZqJVeK-eOM",
        "outputId": "1d9343f9-2efd-403e-9b35-3c25d555636b"
      },
      "execution_count": null,
      "outputs": [
        {
          "output_type": "stream",
          "name": "stdout",
          "text": [
            "{'Name': 'xyz', 'Roll No': 25, 'CGPA': 7.6, 'Attendance': 89, 'year': 'Third'}\n"
          ]
        }
      ]
    },
    {
      "cell_type": "code",
      "source": [
        "student1.pop(\"year\")"
      ],
      "metadata": {
        "colab": {
          "base_uri": "https://localhost:8080/",
          "height": 35
        },
        "id": "rtBSvCY3_WPm",
        "outputId": "970ca101-b8b2-406a-e76d-041263ec14fa"
      },
      "execution_count": null,
      "outputs": [
        {
          "output_type": "execute_result",
          "data": {
            "text/plain": [
              "'Third'"
            ],
            "application/vnd.google.colaboratory.intrinsic+json": {
              "type": "string"
            }
          },
          "metadata": {},
          "execution_count": 34
        }
      ]
    },
    {
      "cell_type": "code",
      "source": [
        "print(student1)"
      ],
      "metadata": {
        "colab": {
          "base_uri": "https://localhost:8080/"
        },
        "id": "YE-jZohe_dC0",
        "outputId": "df002051-74fd-41c3-815c-4084d2e64290"
      },
      "execution_count": null,
      "outputs": [
        {
          "output_type": "stream",
          "name": "stdout",
          "text": [
            "{'Name': 'xyz', 'Roll No': 25, 'CGPA': 7.6, 'Attendance': 89, 'semester': 3}\n"
          ]
        }
      ]
    },
    {
      "cell_type": "markdown",
      "source": [
        "**popitem()**"
      ],
      "metadata": {
        "id": "sDr8O-6P_pxB"
      }
    },
    {
      "cell_type": "code",
      "source": [
        "student1.popitem()"
      ],
      "metadata": {
        "colab": {
          "base_uri": "https://localhost:8080/"
        },
        "id": "Y0mcAwqL_gK9",
        "outputId": "e8797d6e-e227-4b15-da7a-5e0b2bf726a1"
      },
      "execution_count": null,
      "outputs": [
        {
          "output_type": "execute_result",
          "data": {
            "text/plain": [
              "('semester', 3)"
            ]
          },
          "metadata": {},
          "execution_count": 36
        }
      ]
    },
    {
      "cell_type": "code",
      "source": [
        "print(student1)"
      ],
      "metadata": {
        "colab": {
          "base_uri": "https://localhost:8080/"
        },
        "id": "plXoxr-R_wxE",
        "outputId": "26795191-7d1d-4155-cfb0-3be0518fc967"
      },
      "execution_count": null,
      "outputs": [
        {
          "output_type": "stream",
          "name": "stdout",
          "text": [
            "{'Name': 'xyz', 'Roll No': 25, 'CGPA': 7.6, 'Attendance': 89}\n"
          ]
        }
      ]
    },
    {
      "cell_type": "markdown",
      "source": [
        "update()"
      ],
      "metadata": {
        "id": "sjGIREyvZAHA"
      }
    },
    {
      "cell_type": "code",
      "source": [
        "student1.update({\"year\":2})"
      ],
      "metadata": {
        "id": "m8-QpefW_0mw"
      },
      "execution_count": null,
      "outputs": []
    },
    {
      "cell_type": "code",
      "source": [
        "print(student1)"
      ],
      "metadata": {
        "colab": {
          "base_uri": "https://localhost:8080/"
        },
        "id": "xc7mMk7HZONy",
        "outputId": "413f697d-053f-4a0e-aab3-f83e03445977"
      },
      "execution_count": null,
      "outputs": [
        {
          "output_type": "stream",
          "name": "stdout",
          "text": [
            "{'Name': 'xyz', 'Roll No': 25, 'CGPA': 7.6, 'Attendance': 89, 'year': 2}\n"
          ]
        }
      ]
    },
    {
      "cell_type": "code",
      "source": [
        "student1.update({\"semester\":3,\"branch\":\"IT\", \"college\":\"ABC\"})"
      ],
      "metadata": {
        "id": "bT2PiDrnZUyd"
      },
      "execution_count": null,
      "outputs": []
    },
    {
      "cell_type": "code",
      "source": [
        "print(student1)"
      ],
      "metadata": {
        "colab": {
          "base_uri": "https://localhost:8080/"
        },
        "id": "djDS0Q4CIFzH",
        "outputId": "25282e72-c944-4c77-c081-694707004388"
      },
      "execution_count": null,
      "outputs": [
        {
          "output_type": "stream",
          "name": "stdout",
          "text": [
            "{'Name': 'xyz', 'Roll No': 25, 'CGPA': 7.6, 'Attendance': 89, 'year': 2, 'semester': 3, 'branch': 'IT', 'college': 'ABC'}\n"
          ]
        }
      ]
    },
    {
      "cell_type": "code",
      "source": [
        "student1[\"marks\"]=[70,80,80]"
      ],
      "metadata": {
        "id": "5GogEedQILZu"
      },
      "execution_count": null,
      "outputs": []
    },
    {
      "cell_type": "code",
      "source": [
        "print(student1)"
      ],
      "metadata": {
        "colab": {
          "base_uri": "https://localhost:8080/"
        },
        "id": "wuwG-XhNIvZ_",
        "outputId": "58610eb0-164a-4709-9586-fc11cd403876"
      },
      "execution_count": null,
      "outputs": [
        {
          "output_type": "stream",
          "name": "stdout",
          "text": [
            "{'Name': 'xyz', 'Roll No': 25, 'CGPA': 7.6, 'Attendance': 89, 'year': 2, 'semester': 3, 'branch': 'IT', 'college': 'ABC', 'marks': [70, 80, 80]}\n"
          ]
        }
      ]
    },
    {
      "cell_type": "code",
      "source": [
        "l=[[1,2,4],[5,6,7]]"
      ],
      "metadata": {
        "id": "cVPMOMcmJHsZ"
      },
      "execution_count": null,
      "outputs": []
    },
    {
      "cell_type": "code",
      "source": [
        "l=[(\"one\",1),(\"two\",2),(\"three\",3)]\n",
        "d=dict(l)\n",
        "print(d)"
      ],
      "metadata": {
        "colab": {
          "base_uri": "https://localhost:8080/"
        },
        "id": "LqJcMsLiJbUg",
        "outputId": "78ffc963-6f3d-4ff2-810d-5e7e933bc0b3"
      },
      "execution_count": null,
      "outputs": [
        {
          "output_type": "stream",
          "name": "stdout",
          "text": [
            "{'one': 1, 'two': 2, 'three': 3}\n"
          ]
        }
      ]
    },
    {
      "cell_type": "code",
      "source": [
        "l1=[1,2,3,4]\n",
        "l=(\"one\",\"two\",\"three\",\"four\")\n",
        "d=zip(l1,l)\n",
        "print(dict(d))"
      ],
      "metadata": {
        "colab": {
          "base_uri": "https://localhost:8080/"
        },
        "id": "ugVZlDLTKeqa",
        "outputId": "9766749d-dad8-4192-99de-10265600bbd7"
      },
      "execution_count": null,
      "outputs": [
        {
          "output_type": "stream",
          "name": "stdout",
          "text": [
            "{1: 'one', 2: 'two', 3: 'three', 4: 'four'}\n"
          ]
        }
      ]
    },
    {
      "cell_type": "markdown",
      "source": [
        "**items()**"
      ],
      "metadata": {
        "id": "ulgIGAHfZxW6"
      }
    },
    {
      "cell_type": "code",
      "source": [
        "student1.items()"
      ],
      "metadata": {
        "colab": {
          "base_uri": "https://localhost:8080/"
        },
        "id": "3QMBFtIaZ0BI",
        "outputId": "69cf2ca5-d0aa-4f58-8688-01ab6e97f11b"
      },
      "execution_count": null,
      "outputs": [
        {
          "output_type": "execute_result",
          "data": {
            "text/plain": [
              "dict_items([('Name', 'xyz'), ('Roll No', 25), ('CGPA', 7.6), ('year', 2), ('semester', 3), ('branch', 'IT')])"
            ]
          },
          "metadata": {},
          "execution_count": 17
        }
      ]
    },
    {
      "cell_type": "markdown",
      "source": [
        "**get()**"
      ],
      "metadata": {
        "id": "7l6pXiExaKJZ"
      }
    },
    {
      "cell_type": "code",
      "source": [
        "x=student1.get(\"Roll No\")\n",
        "print(x)"
      ],
      "metadata": {
        "colab": {
          "base_uri": "https://localhost:8080/"
        },
        "id": "41MFo16RaA-J",
        "outputId": "b1fffa90-bffb-4641-d19a-53de26c05bbb"
      },
      "execution_count": null,
      "outputs": [
        {
          "output_type": "stream",
          "name": "stdout",
          "text": [
            "25\n"
          ]
        }
      ]
    }
  ]
}