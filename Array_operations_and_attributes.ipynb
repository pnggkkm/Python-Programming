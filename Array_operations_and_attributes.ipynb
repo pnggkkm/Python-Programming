{
  "nbformat": 4,
  "nbformat_minor": 0,
  "metadata": {
    "colab": {
      "provenance": [],
      "authorship_tag": "ABX9TyOO0vyPjhFVECFmQALykpE+",
      "include_colab_link": true
    },
    "kernelspec": {
      "name": "python3",
      "display_name": "Python 3"
    },
    "language_info": {
      "name": "python"
    }
  },
  "cells": [
    {
      "cell_type": "markdown",
      "metadata": {
        "id": "view-in-github",
        "colab_type": "text"
      },
      "source": [
        "<a href=\"https://colab.research.google.com/github/pnggkkm/Python-Programming/blob/main/Array_operations_and_attributes.ipynb\" target=\"_parent\"><img src=\"https://colab.research.google.com/assets/colab-badge.svg\" alt=\"Open In Colab\"/></a>"
      ]
    },
    {
      "cell_type": "markdown",
      "source": [
        "**Array Operations**"
      ],
      "metadata": {
        "id": "Ohf_WMGAYvZe"
      }
    },
    {
      "cell_type": "markdown",
      "source": [
        "**Arithmetic Operations**"
      ],
      "metadata": {
        "id": "bz2saXUhY2hU"
      }
    },
    {
      "cell_type": "markdown",
      "source": [
        "**Element-wise Addition:**\n",
        "\n",
        "Element-wise addition of two vectors is a simple operation where corresponding elements from each vector are added together to produce a new vector.\n",
        "\n",
        "For example, if you have two vectors u = [1, 2] and v = [3, 4], the element-wise addition would be calculated as follows:\n",
        "\n",
        "The first element of u (1) is added to the first element of v (3), resulting in the first element of the result vector (4).\n",
        "The second element of u (2) is added to the second element of v (4), resulting in the second element of the result vector (6).\n",
        "So, the result of element-wise addition of u and v would be [4, 6]. Each element in the result vector is the sum of the corresponding elements in the input vectors. This operation can be performed efficiently in NumPy using the + operator on the NumPy arrays representing the vectors."
      ],
      "metadata": {
        "id": "NI_qdmq4ZAm3"
      }
    },
    {
      "cell_type": "code",
      "execution_count": null,
      "metadata": {
        "colab": {
          "base_uri": "https://localhost:8080/"
        },
        "id": "z0fsMZIxq9kd",
        "outputId": "f82a0eaf-ee2a-4e4e-b0ce-c5f5748bfc75"
      },
      "outputs": [
        {
          "output_type": "stream",
          "name": "stdout",
          "text": [
            "[4 6]\n"
          ]
        }
      ],
      "source": [
        "import numpy as np\n",
        "\n",
        "u = np.array([1, 2])\n",
        "v = np.array([3, 4])\n",
        "\n",
        "# Element-wise addition\n",
        "result = u + v\n",
        "print(result)\n",
        "# Output: [4 6]\n"
      ]
    },
    {
      "cell_type": "markdown",
      "source": [
        "**Element-wise Subtraction:**"
      ],
      "metadata": {
        "id": "vHSGybcAZg9u"
      }
    },
    {
      "cell_type": "code",
      "source": [
        "import numpy as np\n",
        "\n",
        "u = np.array([1, 2])\n",
        "v = np.array([3, 4])\n",
        "\n",
        "# Element-wise subtraction\n",
        "result = u - v\n",
        "print(result)\n",
        "# Output: [-2 -2]\n"
      ],
      "metadata": {
        "colab": {
          "base_uri": "https://localhost:8080/"
        },
        "id": "DiWT82y0ZoT_",
        "outputId": "3b6ef954-77e3-4ad9-ac77-415636805d66"
      },
      "execution_count": null,
      "outputs": [
        {
          "output_type": "stream",
          "name": "stdout",
          "text": [
            "[-2 -2]\n"
          ]
        }
      ]
    },
    {
      "cell_type": "markdown",
      "source": [
        "**Element-wise Multiplication:**"
      ],
      "metadata": {
        "id": "IKK1QgKIZxQd"
      }
    },
    {
      "cell_type": "code",
      "source": [
        "import numpy as np\n",
        "\n",
        "u = np.array([1, 2])\n",
        "v = np.array([3, 4])\n",
        "\n",
        "# Element-wise multiplication\n",
        "result = u * v\n",
        "print(result)\n",
        "# Output: [3 8]\n"
      ],
      "metadata": {
        "colab": {
          "base_uri": "https://localhost:8080/"
        },
        "id": "moB0KI8eZuTN",
        "outputId": "fea1feef-adaf-42b6-9c72-95d89890cce6"
      },
      "execution_count": null,
      "outputs": [
        {
          "output_type": "stream",
          "name": "stdout",
          "text": [
            "[3 8]\n"
          ]
        }
      ]
    },
    {
      "cell_type": "markdown",
      "source": [
        "**Element-wise Division:**"
      ],
      "metadata": {
        "id": "rF2kha2bZ4TG"
      }
    },
    {
      "cell_type": "code",
      "source": [
        "import numpy as np\n",
        "\n",
        "u = np.array([10, 20])\n",
        "v = np.array([2, 4])\n",
        "\n",
        "# Element-wise division\n",
        "result = u / v\n",
        "print(result)"
      ],
      "metadata": {
        "colab": {
          "base_uri": "https://localhost:8080/"
        },
        "id": "mjLrnedmZ7bu",
        "outputId": "5db58887-a268-46fb-b763-9406f0eb13ba"
      },
      "execution_count": null,
      "outputs": [
        {
          "output_type": "stream",
          "name": "stdout",
          "text": [
            "[5. 5.]\n"
          ]
        }
      ]
    },
    {
      "cell_type": "markdown",
      "source": [
        "**Dot Product**\n",
        "\n",
        "The dot product of two vectors is a mathematical operation that takes two vectors and returns a scalar. It is also known as the scalar product or inner product. The dot product is calculated by multiplying the corresponding elements of the two vectors and then summing up the products.\n",
        "\n",
        "For example, if you have two vectors u = [1, 2, 3] and v = [4, 5, 6], the dot product would be calculated as follows:\n",
        "\n",
        "Multiply the first element of u (1) with the first element of v (4), and add it to the product of the second element of u (2) and the second element of v (5), and finally add the product of the third element of u (3) and the third element of v (6).\n",
        "Mathematically, this is expressed as: 1*4 + 2*5 + 3*6 = 4 + 10 + 18 = 32.\n",
        "So, the dot product of u and v is 32. In general, the dot product of two vectors u and v of the same length n is calculated as:\n",
        "\n",
        "u⋅v=u\n",
        "1\n",
        "​\n",
        " ×v\n",
        "1\n",
        "​\n",
        " +u\n",
        "2\n",
        "​\n",
        " ×v\n",
        "2\n",
        "​\n",
        " +…+u\n",
        "n\n",
        "​\n",
        " ×v\n",
        "n\n",
        "​\n",
        "\n",
        "\n",
        "The dot product is useful in many areas of mathematics and physics, including geometry, mechanics, and signal processing. In NumPy, you can calculate the dot product of two arrays using the numpy.dot() function ."
      ],
      "metadata": {
        "id": "wMf41s4MagMx"
      }
    },
    {
      "cell_type": "code",
      "source": [
        "import numpy as np\n",
        "\n",
        "u = np.array([1, 2])\n",
        "v = np.array([3, 4])\n",
        "\n",
        "# Dot product\n",
        "result = np.dot(u, v)\n",
        "print(result)\n",
        "# Output: 11\n"
      ],
      "metadata": {
        "colab": {
          "base_uri": "https://localhost:8080/"
        },
        "id": "Ca5UBs-ma2LO",
        "outputId": "c04adb92-233c-4258-fbdd-495b54d496d1"
      },
      "execution_count": null,
      "outputs": [
        {
          "output_type": "stream",
          "name": "stdout",
          "text": [
            "11\n"
          ]
        }
      ]
    },
    {
      "cell_type": "markdown",
      "source": [
        "**More Examples of Arithmetic Operations**\n",
        "\n"
      ],
      "metadata": {
        "id": "WOhE0EPGa90I"
      }
    },
    {
      "cell_type": "code",
      "source": [
        "import numpy as np\n",
        "\n",
        "arr1 = np.array([[1, 2], [3, 4]])\n",
        "arr2 = np.array([[5, 6], [7, 8]])\n",
        "\n",
        "# Element-wise addition\n",
        "result = arr1 + arr2\n",
        "print(result)\n",
        "# Output:\n",
        "# [[ 6  8]\n",
        "#  [10 12]]\n"
      ],
      "metadata": {
        "colab": {
          "base_uri": "https://localhost:8080/"
        },
        "id": "wf_hDCxJbNfL",
        "outputId": "9250fbdc-913d-4afb-aeae-0499c78bcd35"
      },
      "execution_count": null,
      "outputs": [
        {
          "output_type": "stream",
          "name": "stdout",
          "text": [
            "[[ 6  8]\n",
            " [10 12]]\n"
          ]
        }
      ]
    },
    {
      "cell_type": "code",
      "source": [
        "import numpy as np\n",
        "\n",
        "arr1 = np.array([[1, 2], [3, 4]])\n",
        "arr2 = np.array([[5, 6], [7, 8]])\n",
        "\n",
        "# Element-wise subtraction\n",
        "result = arr1 - arr2\n",
        "print(result)\n",
        "# Output:\n",
        "# [[-4 -4]\n",
        "#  [-4 -4]]\n"
      ],
      "metadata": {
        "colab": {
          "base_uri": "https://localhost:8080/"
        },
        "id": "8YoQI2oMbPnK",
        "outputId": "86d0697f-9c68-48e2-b8bb-a1b00033ca6c"
      },
      "execution_count": null,
      "outputs": [
        {
          "output_type": "stream",
          "name": "stdout",
          "text": [
            "[[-4 -4]\n",
            " [-4 -4]]\n"
          ]
        }
      ]
    },
    {
      "cell_type": "code",
      "source": [
        "import numpy as np\n",
        "\n",
        "arr1 = np.array([[1, 2], [3, 4]])\n",
        "arr2 = np.array([[5, 6], [7, 8]])\n",
        "\n",
        "# Element-wise multiplication\n",
        "result = arr1 * arr2\n",
        "print(result)\n",
        "# Output:\n",
        "# [[ 5 12]\n",
        "#  [21 32]]\n"
      ],
      "metadata": {
        "colab": {
          "base_uri": "https://localhost:8080/"
        },
        "id": "fws9qQiwbSyj",
        "outputId": "e83cefed-1e40-4d4e-c785-b6a66908d2a0"
      },
      "execution_count": null,
      "outputs": [
        {
          "output_type": "stream",
          "name": "stdout",
          "text": [
            "[[ 5 12]\n",
            " [21 32]]\n"
          ]
        }
      ]
    },
    {
      "cell_type": "markdown",
      "source": [
        "**Scalar Operations**"
      ],
      "metadata": {
        "id": "bM6pucvmlW8S"
      }
    },
    {
      "cell_type": "code",
      "source": [
        "import numpy as np\n",
        "\n",
        "arr = np.array([1, 2, 3, 4, 5])\n",
        "\n",
        "# Element-wise addition\n",
        "result = arr + 10\n",
        "print(result)\n",
        "# Output: [11 12 13 14 15]\n"
      ],
      "metadata": {
        "colab": {
          "base_uri": "https://localhost:8080/"
        },
        "id": "w1Xt5FWNlaTD",
        "outputId": "9432ab40-6b10-4444-942d-bf02c06416bf"
      },
      "execution_count": null,
      "outputs": [
        {
          "output_type": "stream",
          "name": "stdout",
          "text": [
            "[11 12 13 14 15]\n"
          ]
        }
      ]
    },
    {
      "cell_type": "code",
      "source": [
        "import numpy as np\n",
        "\n",
        "arr = np.array([1, 2, 3, 4, 5])\n",
        "\n",
        "# Element-wise subtraction\n",
        "result = arr - 2\n",
        "print(result)\n",
        "# Output: [-1  0  1  2  3]\n"
      ],
      "metadata": {
        "colab": {
          "base_uri": "https://localhost:8080/"
        },
        "id": "6PKfnE5clkEI",
        "outputId": "f15359e8-caf9-438c-c61b-f88e4d2de81e"
      },
      "execution_count": null,
      "outputs": [
        {
          "output_type": "stream",
          "name": "stdout",
          "text": [
            "[-1  0  1  2  3]\n"
          ]
        }
      ]
    },
    {
      "cell_type": "code",
      "source": [
        "import numpy as np\n",
        "\n",
        "arr = np.array([1, 2, 3, 4, 5])\n",
        "\n",
        "# Element-wise multiplication\n",
        "result = arr * 3\n",
        "print(result)\n",
        "# Output: [ 3  6  9 12 15]\n"
      ],
      "metadata": {
        "colab": {
          "base_uri": "https://localhost:8080/"
        },
        "id": "o4Dg_AiQloPE",
        "outputId": "69b72595-fd29-4c7f-88b9-2a854a462c0a"
      },
      "execution_count": null,
      "outputs": [
        {
          "output_type": "stream",
          "name": "stdout",
          "text": [
            "[ 3  6  9 12 15]\n"
          ]
        }
      ]
    },
    {
      "cell_type": "code",
      "source": [
        "import numpy as np\n",
        "\n",
        "arr = np.array([1, 2, 3, 4, 5])\n",
        "\n",
        "# Element-wise division\n",
        "result = arr / 2\n",
        "print(result)\n",
        "# Output: [0.5 1.  1.5 2.  2.5]\n"
      ],
      "metadata": {
        "colab": {
          "base_uri": "https://localhost:8080/"
        },
        "id": "f-aNOb_vlrng",
        "outputId": "51aeebb9-7bf1-4ea9-f540-69eb7faf5721"
      },
      "execution_count": null,
      "outputs": [
        {
          "output_type": "stream",
          "name": "stdout",
          "text": [
            "[0.5 1.  1.5 2.  2.5]\n"
          ]
        }
      ]
    },
    {
      "cell_type": "code",
      "source": [
        "import numpy as np\n",
        "\n",
        "arr = np.array([1, 2, 3, 4, 5])\n",
        "\n",
        "# Element-wise exponentiation\n",
        "result = arr ** 2\n",
        "print(result)\n",
        "# Output: [ 1  4  9 16 25]\n"
      ],
      "metadata": {
        "colab": {
          "base_uri": "https://localhost:8080/"
        },
        "id": "kdSvinaPlwof",
        "outputId": "3fb0c503-9b44-4f3d-8eee-831dfd25f99f"
      },
      "execution_count": null,
      "outputs": [
        {
          "output_type": "stream",
          "name": "stdout",
          "text": [
            "[ 1  4  9 16 25]\n"
          ]
        }
      ]
    },
    {
      "cell_type": "markdown",
      "source": [
        "**type()**\n",
        "In NumPy, arrays are represented by the numpy.ndarray class. When you create a NumPy array, it is an instance of this class. You can use the type() function to check the type of a NumPy array."
      ],
      "metadata": {
        "id": "I4ptpnvJmc4M"
      }
    },
    {
      "cell_type": "code",
      "source": [
        "import numpy as np\n",
        "\n",
        "arr = np.array([1, 2, 3, 4, 5])\n",
        "print(type(arr))  # Output: <class 'numpy.ndarray'>\n"
      ],
      "metadata": {
        "colab": {
          "base_uri": "https://localhost:8080/"
        },
        "id": "kW_mRupqRSIX",
        "outputId": "6f82a56e-2102-4f3d-8cba-28866be1f7a5"
      },
      "execution_count": null,
      "outputs": [
        {
          "output_type": "stream",
          "name": "stdout",
          "text": [
            "<class 'numpy.ndarray'>\n"
          ]
        }
      ]
    },
    {
      "cell_type": "markdown",
      "source": [
        "**'size' attribute**\n",
        "\n",
        "\n",
        "In NumPy, you can get the size of an array (i.e., the total number of elements in the array) using the size attribute of the array."
      ],
      "metadata": {
        "id": "WUIlw6BpRfFl"
      }
    },
    {
      "cell_type": "code",
      "source": [
        "import numpy as np\n",
        "\n",
        "arr = np.array([[1, 2, 3]])\n",
        "\n",
        "# Get the size of the array\n",
        "arr_size = arr.size\n",
        "print(arr_size)\n"
      ],
      "metadata": {
        "colab": {
          "base_uri": "https://localhost:8080/"
        },
        "id": "V63SezsFRrwM",
        "outputId": "2ea66cfc-07a3-4a27-9b9d-14340824e6e2"
      },
      "execution_count": null,
      "outputs": [
        {
          "output_type": "stream",
          "name": "stdout",
          "text": [
            "3\n"
          ]
        }
      ]
    },
    {
      "cell_type": "code",
      "source": [
        "import numpy as np\n",
        "\n",
        "arr = np.array([[1, 2, 3], [4, 5, 6]])\n",
        "\n",
        "# Get the size of the array\n",
        "arr_size = arr.size\n",
        "print(arr_size)  # Output: 6\n"
      ],
      "metadata": {
        "colab": {
          "base_uri": "https://localhost:8080/"
        },
        "id": "IJsHePLmRnDY",
        "outputId": "0c119c04-c164-44fa-d4ca-57586280f161"
      },
      "execution_count": null,
      "outputs": [
        {
          "output_type": "stream",
          "name": "stdout",
          "text": [
            "6\n"
          ]
        }
      ]
    },
    {
      "cell_type": "markdown",
      "source": [
        "**understanding Dimensions**\n",
        "\n",
        "**axis**\n",
        "\n",
        "In NumPy, the term \"axis\" refers to a specific dimension of an array. Each axis is identified by an integer, starting from 0 for the first axis. For example, in a 2D array (matrix), axis 0 refers to the rows, and axis 1 refers to the columns.\n",
        "\n",
        "Consider a 2D array [[1, 2, 3], [4, 5, 6]]:\n",
        "\n",
        "Axis 0 (rows): [1, 2, 3] and [4, 5, 6]\n",
        "Axis 1 (columns): [1, 4], [2, 5], [3, 6]\n",
        "Here's a breakdown of the axes for arrays of different dimensions:\n",
        "\n",
        "For a 1D array, there is only one axis (axis 0), representing the elements along that axis.\n",
        "For a 2D array, axis 0 represents the rows, and axis 1 represents the columns.\n",
        "For arrays with more than 2 dimensions, each additional dimension adds a new axis."
      ],
      "metadata": {
        "id": "Qm7MbREVTffQ"
      }
    },
    {
      "cell_type": "markdown",
      "source": [
        "**dimension**\n",
        "\n",
        "The dimension of an array in NumPy refers to the number of axes or directions along which the array extends. Each axis is also called a dimension. Here are some simple examples to illustrate dimensions:"
      ],
      "metadata": {
        "id": "21CYklSVTwkK"
      }
    },
    {
      "cell_type": "markdown",
      "source": [
        "**0-Dimensional Array (Scalar):**\n",
        "\n",
        "An array with zero dimensions is called a scalar. It represents a single value."
      ],
      "metadata": {
        "id": "qMivgEiST8-n"
      }
    },
    {
      "cell_type": "code",
      "source": [
        "import numpy as np\n",
        "\n",
        "arr = np.array(42)  # 0-dimensional array\n",
        "print(arr)\n",
        "print(\"Dimensions:\", arr.ndim)  # Output: 0\n"
      ],
      "metadata": {
        "colab": {
          "base_uri": "https://localhost:8080/"
        },
        "id": "saG32mU1UBTU",
        "outputId": "28702d46-2d67-4899-bdf3-73d74d290fff"
      },
      "execution_count": null,
      "outputs": [
        {
          "output_type": "stream",
          "name": "stdout",
          "text": [
            "42\n",
            "Dimensions: 0\n"
          ]
        }
      ]
    },
    {
      "cell_type": "markdown",
      "source": [
        "**1-Dimensional Array (Vector):**\n",
        "\n",
        "An array with one dimension is like a list of values. It has a single axis."
      ],
      "metadata": {
        "id": "ZChhMEo7UJwh"
      }
    },
    {
      "cell_type": "code",
      "source": [
        "import numpy as np\n",
        "\n",
        "arr = np.array([1, 2, 3, 4, 5])  # 1-dimensional array\n",
        "print(arr)\n",
        "print(\"Dimensions:\", arr.ndim)  # Output: 1\n"
      ],
      "metadata": {
        "colab": {
          "base_uri": "https://localhost:8080/"
        },
        "id": "_BZ89BqdT7uq",
        "outputId": "6785c9e4-c84d-4add-bfde-1a141fa00a63"
      },
      "execution_count": null,
      "outputs": [
        {
          "output_type": "stream",
          "name": "stdout",
          "text": [
            "[1 2 3 4 5]\n",
            "Dimensions: 1\n"
          ]
        }
      ]
    },
    {
      "cell_type": "markdown",
      "source": [
        "**2-Dimensional Array (Matrix):**\n",
        "An array with two dimensions represents a matrix with rows and columns."
      ],
      "metadata": {
        "id": "mntgqVgKV6g0"
      }
    },
    {
      "cell_type": "code",
      "source": [
        "import numpy as np\n",
        "\n",
        "arr = np.array([[1, 2, 3], [4, 5, 6]])  # 2-dimensional array\n",
        "print(arr)\n",
        "print(\"Dimensions:\", arr.ndim)  # Output: 2\n"
      ],
      "metadata": {
        "colab": {
          "base_uri": "https://localhost:8080/"
        },
        "id": "uicV53vgV_ym",
        "outputId": "e431a695-930f-477a-94f7-b220c8b4460b"
      },
      "execution_count": null,
      "outputs": [
        {
          "output_type": "stream",
          "name": "stdout",
          "text": [
            "[[1 2 3]\n",
            " [4 5 6]]\n",
            "Dimensions: 2\n"
          ]
        }
      ]
    },
    {
      "cell_type": "markdown",
      "source": [
        "**'shape' attribute**\n",
        "\n",
        "In NumPy, the shape attribute of an array gives the dimensions of the array. It is a tuple of integers indicating the size of the array along each dimension. For example, for a 2D array (matrix) with 3 rows and 4 columns, the shape would be (3, 4)."
      ],
      "metadata": {
        "id": "L0IHCgjBZaCb"
      }
    },
    {
      "cell_type": "code",
      "source": [
        "import numpy as np\n",
        "\n",
        "arr = np.array([[1, 2, 3], [4, 5, 6]])\n",
        "print(arr.shape)  # Output: (2, 3)\n"
      ],
      "metadata": {
        "colab": {
          "base_uri": "https://localhost:8080/"
        },
        "id": "HmGjZI9fZXoO",
        "outputId": "a448b0d9-8360-48d7-abbb-85448e3ce872"
      },
      "execution_count": 8,
      "outputs": [
        {
          "output_type": "stream",
          "name": "stdout",
          "text": [
            "(2, 3)\n"
          ]
        }
      ]
    },
    {
      "cell_type": "markdown",
      "source": [
        "In this example, arr has 2 rows and 3 columns, so arr.shape returns (2, 3). This means arr is a 2D array with 2 rows and 3 columns.\n",
        "\n",
        "The shape attribute is useful for understanding the structure of an array and for performing operations that depend on the array's dimensions."
      ],
      "metadata": {
        "id": "Os3X-uVxZ6vJ"
      }
    },
    {
      "cell_type": "markdown",
      "source": [
        "Here are some more examples of using the shape attribute with NumPy arrays:"
      ],
      "metadata": {
        "id": "_-FnxYf0aF-_"
      }
    },
    {
      "cell_type": "markdown",
      "source": [
        "**1D Array (Vector):**"
      ],
      "metadata": {
        "id": "bmpjmb-NaIFz"
      }
    },
    {
      "cell_type": "code",
      "source": [
        "import numpy as np\n",
        "\n",
        "arr = np.array([1, 2, 3, 4, 5])\n",
        "print(arr.shape)  # Output: (5,)\n"
      ],
      "metadata": {
        "colab": {
          "base_uri": "https://localhost:8080/"
        },
        "id": "IkUfR8keadI-",
        "outputId": "425737db-dd59-41d7-92fc-64136dc72071"
      },
      "execution_count": 9,
      "outputs": [
        {
          "output_type": "stream",
          "name": "stdout",
          "text": [
            "(5,)\n"
          ]
        }
      ]
    },
    {
      "cell_type": "markdown",
      "source": [
        "In NumPy, the shape attribute of an array always returns a tuple representing the dimensions of the array. For a 1D array, the shape tuple contains a single element, which is the number of elements in the array. However, to differentiate between a 1D array and a scalar value (which also has a shape but is considered 0D), NumPy includes a comma after the number of elements to indicate that it is a tuple and not just an integer."
      ],
      "metadata": {
        "id": "Qsk9mRWna0Q1"
      }
    }
  ]
}