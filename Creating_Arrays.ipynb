{
  "nbformat": 4,
  "nbformat_minor": 0,
  "metadata": {
    "colab": {
      "provenance": [],
      "authorship_tag": "ABX9TyMM1M8YX2ANCYLZh5EnTcXN",
      "include_colab_link": true
    },
    "kernelspec": {
      "name": "python3",
      "display_name": "Python 3"
    },
    "language_info": {
      "name": "python"
    }
  },
  "cells": [
    {
      "cell_type": "markdown",
      "metadata": {
        "id": "view-in-github",
        "colab_type": "text"
      },
      "source": [
        "<a href=\"https://colab.research.google.com/github/pnggkkm/Python-Programming/blob/main/Creating_Arrays.ipynb\" target=\"_parent\"><img src=\"https://colab.research.google.com/assets/colab-badge.svg\" alt=\"Open In Colab\"/></a>"
      ]
    },
    {
      "cell_type": "markdown",
      "source": [
        "NumPy (Numerical Python) is an open source Python library that’s used in almost every field of science and engineering. It’s the universal standard for working with numerical data in Python, and it’s at the core of the scientific Python and PyData ecosystems.\n",
        " It provides ndarray, a homogeneous n-dimensional array object, with methods to efficiently operate on it. NumPy can be used to perform a wide variety of mathematical operations on arrays. It adds powerful data structures to Python that guarantee efficient calculations with arrays and matrices and it supplies an enormous library of high-level mathematical functions that operate on these arrays and matrices.\n",
        "\n",
        "\n",
        "A NumPy array is a powerful data structure provided by the NumPy library in Python. It is used to store and manipulate large arrays of numerical data efficiently. Here are some key features of NumPy arrays:\n",
        "\n",
        "Efficient Storage: NumPy arrays are more memory-efficient than Python lists, especially for large arrays of data. This efficiency is achieved through the use of contiguous blocks of memory.\n",
        "Fast Operations: NumPy provides a large set of functions and operations that can be applied directly to arrays, allowing for fast and efficient computation. These operations are implemented in C, which is much faster than Python's native operations.\n",
        "Multidimensional: NumPy arrays can have multiple dimensions, allowing you to work with matrices and higher-dimensional data structures easily. This makes NumPy particularly useful for scientific computing and data analysis.\n",
        "Broadcasting: NumPy arrays support broadcasting, which allows you to perform operations on arrays of different shapes. NumPy automatically handles the broadcasting by making copies of the smaller array to match the shape of the larger array.\n",
        "Indexing and Slicing: NumPy arrays support advanced indexing and slicing operations, allowing you to extract and manipulate subsets of the array efficiently.\n",
        "Vectorized Operations: NumPy arrays support vectorized operations, which means that you can apply operations to entire arrays at once, rather than looping over individual elements. This leads to faster and more concise code."
      ],
      "metadata": {
        "id": "sR2_Uw9uELhu"
      }
    },
    {
      "cell_type": "markdown",
      "source": [
        "**Scalar**\n",
        "A scalar quantity is a quantity that can be defined by its magnitude (or numerical value ) alone.\n",
        "Examples of scalars are volume, density, speed, energy, mass"
      ],
      "metadata": {
        "id": "wCspsA0AEmlL"
      }
    },
    {
      "cell_type": "markdown",
      "source": [
        "**Creating an array with scalar**\n",
        "\n",
        "In NumPy, you can create an array from a scalar (single value) using the numpy.array() function. Here's how you can do it:"
      ],
      "metadata": {
        "id": "_4IqLSVEFOVh"
      }
    },
    {
      "cell_type": "code",
      "execution_count": 3,
      "metadata": {
        "colab": {
          "base_uri": "https://localhost:8080/"
        },
        "id": "jsdjgXmiEF_9",
        "outputId": "ef4d6af4-0081-44bd-b893-a7e441807a24"
      },
      "outputs": [
        {
          "output_type": "stream",
          "name": "stdout",
          "text": [
            "42\n"
          ]
        }
      ],
      "source": [
        "import numpy as np\n",
        "\n",
        "arr = np.array(42)\n",
        "\n",
        "print(arr)"
      ]
    },
    {
      "cell_type": "markdown",
      "source": [
        "In this example, the numpy.array() function takes a scalar value (scalar_value) and creates a NumPy array with that value. The resulting array will have the same data type as the input scalar."
      ],
      "metadata": {
        "id": "eSR-UO3GMvgC"
      }
    },
    {
      "cell_type": "markdown",
      "source": [
        "**Creating a Single Dimensional array**\n",
        "A single-dimensional array, often simply called a \"1D array,\" is a fundamental data structure in programming that stores a collection of elements of the same data type in a linear sequence. In Python, the NumPy library provides a powerful implementation of 1D arrays through its numpy.array class."
      ],
      "metadata": {
        "id": "Xmi2C_hPKePi"
      }
    },
    {
      "cell_type": "markdown",
      "source": [
        "**Method 1** Conversion from other Python structures (i.e. lists and tuples)"
      ],
      "metadata": {
        "id": "-AATP0fHK4OC"
      }
    },
    {
      "cell_type": "markdown",
      "source": [
        "**Key features of 1D arrays include:**\n",
        "\n",
        "**Homogeneous Data:** All elements in a 1D array must be of the same data type, unlike Python lists, which can hold elements of different types.\n",
        "Fixed Size: Once created, the size of a 1D array is fixed and cannot be changed. You can't directly append or remove elements; instead, you create a new array with the desired elements.\n",
        "\n",
        "**Efficient Storage:** NumPy's 1D arrays are more memory-efficient than Python lists, especially for large arrays, due to the use of contiguous blocks of memory.\n",
        "\n",
        "**Vectorized Operations:**NumPy arrays support vectorized operations, allowing you to perform element-wise operations on the entire array without the need for explicit loops.\n",
        "Indexing and Slicing: You can access individual elements or slices of a 1D array using square brackets, similar to Python lists."
      ],
      "metadata": {
        "id": "1JStywSnN2fx"
      }
    },
    {
      "cell_type": "code",
      "source": [
        "a = np.array([1, 2, 3, 4, 5])\n",
        "print(a)"
      ],
      "metadata": {
        "colab": {
          "base_uri": "https://localhost:8080/"
        },
        "id": "FmpBxRloKnGz",
        "outputId": "137ef71c-03d5-459e-e1b2-f702d5992b15"
      },
      "execution_count": 2,
      "outputs": [
        {
          "output_type": "stream",
          "name": "stdout",
          "text": [
            "[1 2 3 4 5]\n"
          ]
        }
      ]
    },
    {
      "cell_type": "code",
      "source": [
        "import numpy as np\n",
        "\n",
        "# Create a tuple\n",
        "tuple_data = (1, 2, 3, 4, 5)\n",
        "\n",
        "# Create a NumPy array from the tuple\n",
        "array_from_tuple = np.array(tuple_data)\n",
        "\n",
        "# Print the array\n",
        "print(array_from_tuple)\n"
      ],
      "metadata": {
        "colab": {
          "base_uri": "https://localhost:8080/"
        },
        "id": "fsy-69f6LIYF",
        "outputId": "6d46bb3c-dc13-48b2-a133-6f015a58e24b"
      },
      "execution_count": 4,
      "outputs": [
        {
          "output_type": "stream",
          "name": "stdout",
          "text": [
            "[1 2 3 4 5]\n"
          ]
        }
      ]
    },
    {
      "cell_type": "markdown",
      "source": [
        "**dtype Parameter**\n",
        "You can create a NumPy array with a specific data type using the dtype parameter in the numpy.array() function. Here's an example:"
      ],
      "metadata": {
        "id": "GMJqeviePOgg"
      }
    },
    {
      "cell_type": "code",
      "source": [
        "import numpy as np\n",
        "\n",
        "# Create an array with a specified data type (float32 in this case)\n",
        "arr = np.array([1, 2, 3, 4, 5], dtype=np.float32)\n",
        "\n",
        "# Print the array and its data type\n",
        "print(arr)\n",
        "print(\"Data type:\", arr.dtype)\n"
      ],
      "metadata": {
        "colab": {
          "base_uri": "https://localhost:8080/"
        },
        "id": "-VR6EgKjOaxP",
        "outputId": "b34dbec7-df73-433e-b989-b02a3a5fda90"
      },
      "execution_count": 6,
      "outputs": [
        {
          "output_type": "stream",
          "name": "stdout",
          "text": [
            "[1. 2. 3. 4. 5.]\n",
            "Data type: float32\n"
          ]
        }
      ]
    },
    {
      "cell_type": "markdown",
      "source": [
        "**Creating a 2 Dimensional Array**\n"
      ],
      "metadata": {
        "id": "X3mtT1bBb-uh"
      }
    },
    {
      "cell_type": "code",
      "source": [
        "import numpy as np\n",
        "\n",
        "arr = np.array([[1, 2, 3], [4, 5, 6]])\n",
        "\n",
        "print(arr)\n"
      ],
      "metadata": {
        "colab": {
          "base_uri": "https://localhost:8080/"
        },
        "id": "JAIwWfi_cH7R",
        "outputId": "2802a1f1-ffd8-4bc3-f120-713c0bc89db7"
      },
      "execution_count": 7,
      "outputs": [
        {
          "output_type": "stream",
          "name": "stdout",
          "text": [
            "[[1 2 3]\n",
            " [4 5 6]]\n"
          ]
        }
      ]
    },
    {
      "cell_type": "markdown",
      "source": [
        "creates a 2D NumPy array (matrix) arr with 2 rows and 3 columns, filled with the values [[1, 2, 3], [4, 5, 6]]"
      ],
      "metadata": {
        "id": "IAGNtOB4cQBQ"
      }
    },
    {
      "cell_type": "markdown",
      "source": [
        "**Three Dimensional Array**\n",
        "\n",
        "A three-dimensional (3D) array, also known as a tensor, is a data structure that stores values in a three-dimensional grid. An array that has 2-D arrays (matrices) as its elements is called 3-D array. In NumPy, you can create and manipulate 3D arrays using the numpy.array() function."
      ],
      "metadata": {
        "id": "EZmfc9Wwc8iD"
      }
    },
    {
      "cell_type": "code",
      "source": [
        "import numpy as np\n",
        "\n",
        "# Create a 3D array\n",
        "arr_3d = np.array([[[1, 2, 3], [4, 5, 6]], [[7, 8, 9], [10, 11, 12]]])\n",
        "\n",
        "# Print the array\n",
        "print(arr_3d)\n"
      ],
      "metadata": {
        "colab": {
          "base_uri": "https://localhost:8080/"
        },
        "id": "J9-3FlTicLbS",
        "outputId": "ab82d952-96d3-4415-a820-225c7e97a07b"
      },
      "execution_count": 8,
      "outputs": [
        {
          "output_type": "stream",
          "name": "stdout",
          "text": [
            "[[[ 1  2  3]\n",
            "  [ 4  5  6]]\n",
            "\n",
            " [[ 7  8  9]\n",
            "  [10 11 12]]]\n"
          ]
        }
      ]
    },
    {
      "cell_type": "markdown",
      "source": [
        "**using np.zeros() to create arrays**\n"
      ],
      "metadata": {
        "id": "jczNagiadpyL"
      }
    },
    {
      "cell_type": "code",
      "source": [
        "import numpy as np\n",
        "\n",
        "# Create a 1D array filled with zeros of length 5\n",
        "zeros_array = np.zeros(5)\n",
        "\n",
        "# Print the array\n",
        "print(zeros_array)\n"
      ],
      "metadata": {
        "colab": {
          "base_uri": "https://localhost:8080/"
        },
        "id": "pDzuC27seU41",
        "outputId": "3b2c354c-7fe8-48bb-dc7b-9e45406fd307"
      },
      "execution_count": 9,
      "outputs": [
        {
          "output_type": "stream",
          "name": "stdout",
          "text": [
            "[0. 0. 0. 0. 0.]\n"
          ]
        }
      ]
    },
    {
      "cell_type": "code",
      "source": [
        "import numpy as np\n",
        "\n",
        "# Create a 2D array filled with zeros\n",
        "zeros_array = np.zeros((3, 4))\n",
        "\n",
        "# Print the array\n",
        "print(zeros_array)\n"
      ],
      "metadata": {
        "colab": {
          "base_uri": "https://localhost:8080/"
        },
        "id": "YG-Oww06elfv",
        "outputId": "ba9bb2f5-7e4b-4843-c6d7-793f4a9ad87f"
      },
      "execution_count": 10,
      "outputs": [
        {
          "output_type": "stream",
          "name": "stdout",
          "text": [
            "[[0. 0. 0. 0.]\n",
            " [0. 0. 0. 0.]\n",
            " [0. 0. 0. 0.]]\n"
          ]
        }
      ]
    },
    {
      "cell_type": "markdown",
      "source": [
        "The NumPy function np.zeros((3,4)) creates a 2D array (matrix) filled with zeros. The argument (3,4) specifies the shape of the array, where 3 is the number of rows and 4 is the number of columns. Here's how you can create and print this array:"
      ],
      "metadata": {
        "id": "_PfeztUtehdk"
      }
    },
    {
      "cell_type": "markdown",
      "source": [
        "The **np.ones()** function in NumPy is used to create an array filled with ones. It can be used to create arrays of any dimension (1D, 2D, 3D, etc.) with all elements initialized to 1. The function takes the desired shape of the array as an argument. Here are some examples:"
      ],
      "metadata": {
        "id": "IzDptoWsfHi3"
      }
    },
    {
      "cell_type": "markdown",
      "source": [
        "**Creating a 1D array filled with ones:**"
      ],
      "metadata": {
        "id": "ZxtW9ouqfKKV"
      }
    },
    {
      "cell_type": "code",
      "source": [
        "import numpy as np\n",
        "\n",
        "# Create a 1D array with 5 elements, all initialized to 1\n",
        "ones_array_1d = np.ones(5)\n",
        "\n",
        "# Print the array\n",
        "print(ones_array_1d)\n"
      ],
      "metadata": {
        "colab": {
          "base_uri": "https://localhost:8080/"
        },
        "id": "TB3TgWY9ebLL",
        "outputId": "0e088b6d-7f82-4f4b-d237-8b4613329385"
      },
      "execution_count": 11,
      "outputs": [
        {
          "output_type": "stream",
          "name": "stdout",
          "text": [
            "[1. 1. 1. 1. 1.]\n"
          ]
        }
      ]
    },
    {
      "cell_type": "markdown",
      "source": [
        "**Creating a 2D array filled with ones:**"
      ],
      "metadata": {
        "id": "UYSKIVOmfYHU"
      }
    },
    {
      "cell_type": "code",
      "source": [
        "import numpy as np\n",
        "\n",
        "# Create a 2D array with 2 rows and 3 columns, all initialized to 1\n",
        "ones_array_2d = np.ones((2, 3))\n",
        "\n",
        "# Print the array\n",
        "print(ones_array_2d)\n"
      ],
      "metadata": {
        "colab": {
          "base_uri": "https://localhost:8080/"
        },
        "id": "jn7S_Zesfceg",
        "outputId": "96986ffb-c120-4f4b-afaf-eaa2caf09eeb"
      },
      "execution_count": 12,
      "outputs": [
        {
          "output_type": "stream",
          "name": "stdout",
          "text": [
            "[[1. 1. 1.]\n",
            " [1. 1. 1.]]\n"
          ]
        }
      ]
    },
    {
      "cell_type": "markdown",
      "source": [
        "**Creating a 3D array filled with ones:**"
      ],
      "metadata": {
        "id": "7Dm1z8ZFfgQT"
      }
    },
    {
      "cell_type": "code",
      "source": [
        "import numpy as np\n",
        "\n",
        "# Create a 3D array with shape (2, 3, 4), all initialized to 1\n",
        "ones_array_3d = np.ones((2, 3, 4))\n",
        "\n",
        "# Print the array\n",
        "print(ones_array_3d)\n"
      ],
      "metadata": {
        "colab": {
          "base_uri": "https://localhost:8080/"
        },
        "id": "Rfz2b7hMfkOM",
        "outputId": "afc4b713-fa6b-4b07-d5bb-1445078bf86e"
      },
      "execution_count": 13,
      "outputs": [
        {
          "output_type": "stream",
          "name": "stdout",
          "text": [
            "[[[1. 1. 1. 1.]\n",
            "  [1. 1. 1. 1.]\n",
            "  [1. 1. 1. 1.]]\n",
            "\n",
            " [[1. 1. 1. 1.]\n",
            "  [1. 1. 1. 1.]\n",
            "  [1. 1. 1. 1.]]]\n"
          ]
        }
      ]
    },
    {
      "cell_type": "markdown",
      "source": [
        "**np.arange()**\n",
        "np.arange() is a NumPy function used to create an array containing evenly spaced values within a specified range. It is similar to Python's built-in range() function but returns an array instead of a list. The np.arange() function takes the start, stop, and step size as arguments and generates values from the start value up to (but not including) the stop value, with the specified step size.\n",
        "\n",
        "Here's the basic syntax of np.arange():"
      ],
      "metadata": {
        "id": "yVTHK1J3gvTr"
      }
    },
    {
      "cell_type": "code",
      "source": [
        "import numpy as np\n",
        "\n",
        "# Syntax: np.arange(start, stop, step)\n",
        "# Generates values from start to stop (exclusive) with the specified step\n",
        "arr = np.arange(0, 10, 2)  # Generates values from 0 to 10 (exclusive) with a step of 2\n",
        "print(arr)  # Output: [0 2 4 6 8]\n"
      ],
      "metadata": {
        "colab": {
          "base_uri": "https://localhost:8080/"
        },
        "id": "zzb6jYM1g6P4",
        "outputId": "c4f84de7-83a6-448d-e4ef-6832ea2b2297"
      },
      "execution_count": 14,
      "outputs": [
        {
          "output_type": "stream",
          "name": "stdout",
          "text": [
            "[0 2 4 6 8]\n"
          ]
        }
      ]
    },
    {
      "cell_type": "markdown",
      "source": [
        "In this example, np.arange(0, 10, 2) creates an array with values [0, 2, 4, 6, 8], starting from 0, up to (but not including) 10, with a step size of 2.\n",
        "\n",
        "You can also use np.arange() with a single argument to generate values from 0 up to (but not including) the specified number with a default step size of 1:"
      ],
      "metadata": {
        "id": "1jndmz0dhRCX"
      }
    },
    {
      "cell_type": "code",
      "source": [
        "arr = np.arange(5)  # Equivalent to np.arange(0, 5, 1)\n",
        "print(arr)  # Output: [0 1 2 3 4]\n"
      ],
      "metadata": {
        "colab": {
          "base_uri": "https://localhost:8080/"
        },
        "id": "6P46DuNIhFsI",
        "outputId": "4c0b69c0-2f84-4d2b-8169-1a1bb88ba3c1"
      },
      "execution_count": 15,
      "outputs": [
        {
          "output_type": "stream",
          "name": "stdout",
          "text": [
            "[0 1 2 3 4]\n"
          ]
        }
      ]
    },
    {
      "cell_type": "markdown",
      "source": [
        "**np.linspace()**\n",
        "np.linspace() is another NumPy function used to create an array of evenly spaced numbers over a specified interval. Unlike np.arange(), which generates values with a specified step size, np.linspace() generates values with a specified number of points within the interval.\n",
        "\n",
        "Here's the basic syntax of np.linspace():"
      ],
      "metadata": {
        "id": "370gnGGWh0ym"
      }
    },
    {
      "cell_type": "code",
      "source": [
        "import numpy as np\n",
        "\n",
        "# Syntax: np.linspace(start, stop, num)\n",
        "# Generates 'num' evenly spaced values from start to stop (inclusive)\n",
        "#arr = np.linspace(start, stop, num)\n",
        "\n",
        "# Example:\n",
        "arr = np.linspace(0, 2, 9)  # Generates 9 values from 0 to 2 (inclusive)\n",
        "print(arr)  # Output: [0.   0.25 0.5  0.75 1.   1.25 1.5  1.75 2. ]\n"
      ],
      "metadata": {
        "colab": {
          "base_uri": "https://localhost:8080/"
        },
        "id": "riUUjciJh7Rj",
        "outputId": "50151908-0862-44a2-ea4f-7668fccf335b"
      },
      "execution_count": 17,
      "outputs": [
        {
          "output_type": "stream",
          "name": "stdout",
          "text": [
            "[0.   0.25 0.5  0.75 1.   1.25 1.5  1.75 2.  ]\n"
          ]
        }
      ]
    },
    {
      "cell_type": "code",
      "source": [
        "import numpy as np\n",
        "\n",
        "arr = np.linspace(0, 10, 5)\n",
        "print(arr)"
      ],
      "metadata": {
        "colab": {
          "base_uri": "https://localhost:8080/"
        },
        "id": "IuYmOrlmiF3s",
        "outputId": "41ef1458-1ce1-4caa-d1c0-dd9824c91243"
      },
      "execution_count": 21,
      "outputs": [
        {
          "output_type": "stream",
          "name": "stdout",
          "text": [
            "[ 0.   2.5  5.   7.5 10. ]\n"
          ]
        }
      ]
    },
    {
      "cell_type": "markdown",
      "source": [
        "np.linspace() is particularly useful when you need a specific number of points within an interval, such as when plotting functions or generating test data for numerical simulations."
      ],
      "metadata": {
        "id": "G4gQyCPgilcS"
      }
    },
    {
      "cell_type": "markdown",
      "source": [
        "**np.full()**\n",
        "np.full() is a NumPy function used to create an array filled with a specified value. It takes the shape of the desired array and the fill value as arguments and returns a new array with the specified shape and filled with the specified value.\n",
        "\n",
        "Here's the basic syntax of np.full():"
      ],
      "metadata": {
        "id": "X1G9KI31jBoN"
      }
    },
    {
      "cell_type": "code",
      "source": [
        "import numpy as np\n",
        "\n",
        "# Syntax: np.full(shape, fill_value)\n",
        "# Creates a new array with the specified shape and filled with the specified value\n",
        "#arr = np.full(shape, fill_value)\n",
        "\n",
        "# Example:\n",
        "arr = np.full((3, 4), 5)  # Creates a 3x4 array filled with the value 5\n",
        "print(arr)\n"
      ],
      "metadata": {
        "colab": {
          "base_uri": "https://localhost:8080/"
        },
        "id": "AxnGpyiEinGk",
        "outputId": "7e6a5c85-6c30-4130-eedd-ed8390203d41"
      },
      "execution_count": 22,
      "outputs": [
        {
          "output_type": "stream",
          "name": "stdout",
          "text": [
            "[[5 5 5 5]\n",
            " [5 5 5 5]\n",
            " [5 5 5 5]]\n"
          ]
        }
      ]
    },
    {
      "cell_type": "markdown",
      "source": [
        "In this example, np.full((3, 4), 5) creates a 3x4 array filled with the value 5."
      ],
      "metadata": {
        "id": "JAzX3dgPjVaX"
      }
    },
    {
      "cell_type": "markdown",
      "source": [
        "For a single-dimensional array, np.full() works similarly but with a single integer argument specifying the length of the array instead of a tuple for shape. Here's how you would use np.full() to create a 1D array:"
      ],
      "metadata": {
        "id": "n3ic_lvmjdYh"
      }
    },
    {
      "cell_type": "code",
      "source": [
        "import numpy as np\n",
        "\n",
        "# Syntax: np.full(length, fill_value)\n",
        "# Creates a new 1D array with the specified length and filled with the specified value\n",
        "arr = np.full(5, 10)  # Creates a 1D array of length 5 filled with the value 10\n",
        "print(arr)\n"
      ],
      "metadata": {
        "colab": {
          "base_uri": "https://localhost:8080/"
        },
        "id": "BL63dwSGjYn2",
        "outputId": "99a5cccd-73ee-4d76-ed91-4512e775c471"
      },
      "execution_count": 23,
      "outputs": [
        {
          "output_type": "stream",
          "name": "stdout",
          "text": [
            "[10 10 10 10 10]\n"
          ]
        }
      ]
    },
    {
      "cell_type": "markdown",
      "source": [
        "In this example, np.full(5, 10) creates a 1D array of length 5 filled with the value 10. The resulting array is [10 10 10 10 10]."
      ],
      "metadata": {
        "id": "usuWGhZ1jl-U"
      }
    },
    {
      "cell_type": "markdown",
      "source": [
        "**np.eye()**\n",
        "\n",
        "\n",
        "np.eye() is a NumPy function used to create a 2D array (matrix) with ones on the diagonal and zeros elsewhere, often called an identity matrix. It takes a single integer argument N and returns an N x N identity matrix.\n",
        "\n",
        "Here's the basic syntax of np.eye():"
      ],
      "metadata": {
        "id": "TkUJjy4jlXqQ"
      }
    },
    {
      "cell_type": "code",
      "source": [
        "import numpy as np\n",
        "\n",
        "# Syntax: np.eye(N)\n",
        "# Creates an N x N identity matrix\n",
        "#arr = np.eye(N)\n",
        "\n",
        "# Example:\n",
        "arr = np.eye(3)  # Creates a 3x3 identity matrix\n",
        "print(arr)\n",
        "\n"
      ],
      "metadata": {
        "id": "oNiZglE-jnlc"
      },
      "execution_count": null,
      "outputs": []
    },
    {
      "cell_type": "markdown",
      "source": [
        "**np.empty()**\n",
        "\n",
        "np.empty() is a NumPy function that creates an array without initializing its values. The function takes the shape of the array as an argument and returns a new array with uninitialized values. The values in the array are not set to any particular initial value and will depend on the state of the memory at the time the array is created. It is important to note that the np.empty() function does not guarantee that the array will be filled with zeros or any other specific value."
      ],
      "metadata": {
        "id": "u-koEMA5JmSs"
      }
    },
    {
      "cell_type": "code",
      "source": [
        "import numpy as np\n",
        "\n",
        "# Syntax: np.empty(shape)\n",
        "# Creates a new array with the specified shape without initializing its values\n",
        "# Example:\n",
        "arr = np.empty((2, 3))  # Creates a 2x3 array without initializing its values\n",
        "print(arr)\n"
      ],
      "metadata": {
        "colab": {
          "base_uri": "https://localhost:8080/"
        },
        "id": "s8UmHTeCJlJn",
        "outputId": "931aa046-134d-4d01-cf53-53d0942c810f"
      },
      "execution_count": 2,
      "outputs": [
        {
          "output_type": "stream",
          "name": "stdout",
          "text": [
            "[[4.89167785e-310 0.00000000e+000 2.05833592e-312]\n",
            " [6.79038654e-313 2.14321575e-312 2.27053550e-312]]\n"
          ]
        }
      ]
    },
    {
      "cell_type": "markdown",
      "source": [
        "In this example, np.empty((2, 3)) creates a 2x3 array without initializing its values. The values in the array will depend on the state of the memory at the time the array is created and may not be predictable or meaningful."
      ],
      "metadata": {
        "id": "RzVXsW_LKdmQ"
      }
    }
  ]
}