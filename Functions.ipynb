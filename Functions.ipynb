{
  "nbformat": 4,
  "nbformat_minor": 0,
  "metadata": {
    "colab": {
      "provenance": [],
      "authorship_tag": "ABX9TyOz3QNWpcpyTqjyXKgNOLlz",
      "include_colab_link": true
    },
    "kernelspec": {
      "name": "python3",
      "display_name": "Python 3"
    },
    "language_info": {
      "name": "python"
    }
  },
  "cells": [
    {
      "cell_type": "markdown",
      "metadata": {
        "id": "view-in-github",
        "colab_type": "text"
      },
      "source": [
        "<a href=\"https://colab.research.google.com/github/pnggkkm/Python-Programming/blob/main/Functions.ipynb\" target=\"_parent\"><img src=\"https://colab.research.google.com/assets/colab-badge.svg\" alt=\"Open In Colab\"/></a>"
      ]
    },
    {
      "cell_type": "markdown",
      "source": [
        "**Need for Functions**"
      ],
      "metadata": {
        "id": "RvKf2KG1i3v-"
      }
    },
    {
      "cell_type": "code",
      "execution_count": null,
      "metadata": {
        "colab": {
          "base_uri": "https://localhost:8080/"
        },
        "id": "Y8yfM3hcio78",
        "outputId": "c105a1af-cb61-4f58-a85d-5ab2af9b2068"
      },
      "outputs": [
        {
          "output_type": "stream",
          "name": "stdout",
          "text": [
            "Enter a value for a10\n",
            "Enter a value for b20\n",
            "30\n"
          ]
        }
      ],
      "source": [
        "a=int(input(\"Enter a value for a\"))\n",
        "b=int(input(\"Enter a value for b\"))\n",
        "c=a+b\n",
        "print(c)"
      ]
    },
    {
      "cell_type": "code",
      "source": [
        "a=int(input(\"Enter a value for a\"))\n",
        "b=int(input(\"Enter a value for b\"))\n",
        "c=a+b\n",
        "print(c)\n",
        "a=int(input(\"Enter a value for a\"))\n",
        "b=int(input(\"Enter a value for b\"))\n",
        "c=a+b\n",
        "print(c)\n",
        "a=int(input(\"Enter a value for a\"))\n",
        "b=int(input(\"Enter a value for b\"))\n",
        "c=a+b\n",
        "print(c)"
      ],
      "metadata": {
        "colab": {
          "base_uri": "https://localhost:8080/"
        },
        "id": "Z9hLc_1bi9cw",
        "outputId": "fde8c0e7-d01a-4d6c-94dc-c10bc9eaad33"
      },
      "execution_count": null,
      "outputs": [
        {
          "output_type": "stream",
          "name": "stdout",
          "text": [
            "Enter a value for a20\n",
            "Enter a value for b30\n",
            "50\n",
            "Enter a value for a1\n",
            "Enter a value for b2\n",
            "3\n",
            "Enter a value for a30\n",
            "Enter a value for b30\n",
            "60\n"
          ]
        }
      ]
    },
    {
      "cell_type": "code",
      "source": [
        "def add():\n",
        "  a=int(input(\"Enter a value for a\"))\n",
        "  b=int(input(\"Enter a value for b\"))\n",
        "  c=a+b\n",
        "  print(c)\n",
        "\n",
        "add()\n",
        "add()\n",
        "add()"
      ],
      "metadata": {
        "colab": {
          "base_uri": "https://localhost:8080/"
        },
        "id": "5YrARiQAjby6",
        "outputId": "39334943-88f2-457e-fee5-224999e2b4e4"
      },
      "execution_count": null,
      "outputs": [
        {
          "output_type": "stream",
          "name": "stdout",
          "text": [
            "Enter a value for a1\n",
            "Enter a value for b2\n",
            "3\n",
            "Enter a value for a20\n",
            "Enter a value for b30\n",
            "50\n",
            "Enter a value for a45\n",
            "Enter a value for b50\n",
            "95\n"
          ]
        }
      ]
    },
    {
      "cell_type": "markdown",
      "source": [
        "**passing parameters to the function**"
      ],
      "metadata": {
        "id": "gLzR3dZgjweu"
      }
    },
    {
      "cell_type": "code",
      "source": [
        "def display(a):\n",
        "  print(a)\n",
        "\n",
        "display(100)"
      ],
      "metadata": {
        "colab": {
          "base_uri": "https://localhost:8080/"
        },
        "id": "lJ6Vc1FHj9Md",
        "outputId": "413afd87-036b-4661-e483-d89b4d1dfad3"
      },
      "execution_count": null,
      "outputs": [
        {
          "output_type": "stream",
          "name": "stdout",
          "text": [
            "100\n"
          ]
        }
      ]
    },
    {
      "cell_type": "code",
      "source": [
        "def display(a):\n",
        "  print(a)\n",
        "x=int(input(\"Enter a value for x\"))\n",
        "display(x)"
      ],
      "metadata": {
        "colab": {
          "base_uri": "https://localhost:8080/"
        },
        "id": "c-d7S1ClkOJh",
        "outputId": "2083fd79-b1bb-4ab0-ef0c-18aa27678140"
      },
      "execution_count": null,
      "outputs": [
        {
          "output_type": "stream",
          "name": "stdout",
          "text": [
            "Enter a value for x50\n",
            "50\n"
          ]
        }
      ]
    },
    {
      "cell_type": "markdown",
      "source": [
        "passing multile parameters to the function"
      ],
      "metadata": {
        "id": "kSN_qh4YkkZ6"
      }
    },
    {
      "cell_type": "code",
      "source": [
        "def add(a,b):\n",
        "  c=a+b\n",
        "  print(c)\n",
        "x=int(input(\"Enter a value for x\"))\n",
        "y=int(input(\"Enter a value for y\"))\n",
        "add(x,y)"
      ],
      "metadata": {
        "colab": {
          "base_uri": "https://localhost:8080/"
        },
        "id": "Ew2tI9CNke17",
        "outputId": "db9915cc-1964-44bb-9447-9f58e0669a67"
      },
      "execution_count": null,
      "outputs": [
        {
          "output_type": "stream",
          "name": "stdout",
          "text": [
            "Enter a value for x50\n",
            "Enter a value for y70\n",
            "120\n"
          ]
        }
      ]
    },
    {
      "cell_type": "markdown",
      "source": [
        "x,y are called as the **Actual Parameters(Arguments)**\n",
        "a,b are called as the **Formal Parameters**\n"
      ],
      "metadata": {
        "id": "RGsML6iUsK09"
      }
    },
    {
      "cell_type": "markdown",
      "source": [
        "**Positional Arguments**\n",
        "During a function call, values passed through arguments should be in the order of parameters in the function definition. This is called positional arguments.\n"
      ],
      "metadata": {
        "id": "tuw3gPXItOgu"
      }
    },
    {
      "cell_type": "code",
      "source": [],
      "metadata": {
        "id": "rbeW7eMkx6f3"
      },
      "execution_count": null,
      "outputs": []
    },
    {
      "cell_type": "code",
      "source": [
        "def subtract(a,b):\n",
        "  c=a-b\n",
        "  print(c)\n",
        "x=20\n",
        "y=10\n",
        "subtract(x,y)\n",
        "subtract(y,x)\n"
      ],
      "metadata": {
        "colab": {
          "base_uri": "https://localhost:8080/"
        },
        "id": "7ReJj8iqsJ2s",
        "outputId": "4665aa31-5426-44ff-f134-3d8f637b4f9b"
      },
      "execution_count": null,
      "outputs": [
        {
          "output_type": "stream",
          "name": "stdout",
          "text": [
            "10\n",
            "-10\n"
          ]
        }
      ]
    },
    {
      "cell_type": "markdown",
      "source": [
        "**Default Arguments**"
      ],
      "metadata": {
        "id": "Sqhp10_pxHvR"
      }
    },
    {
      "cell_type": "code",
      "source": [
        "def add(a,b=5):\n",
        "  c=a+b\n",
        "  print(c)\n",
        "add(10)"
      ],
      "metadata": {
        "colab": {
          "base_uri": "https://localhost:8080/"
        },
        "id": "zwiU5toZxwLZ",
        "outputId": "e6b399f9-4a14-47ee-b409-62f2f60bf6c0"
      },
      "execution_count": null,
      "outputs": [
        {
          "output_type": "stream",
          "name": "stdout",
          "text": [
            "15\n"
          ]
        }
      ]
    },
    {
      "cell_type": "code",
      "source": [
        "def add(a,b=5):\n",
        "  c=a+b\n",
        "  print(c)\n",
        "add(10,50)"
      ],
      "metadata": {
        "colab": {
          "base_uri": "https://localhost:8080/",
          "height": 141
        },
        "id": "X8wE-M_Tz7Go",
        "outputId": "5649d76e-20d9-4dcd-b053-32b83d5f72ee"
      },
      "execution_count": null,
      "outputs": [
        {
          "output_type": "error",
          "ename": "SyntaxError",
          "evalue": "non-default argument follows default argument (<ipython-input-15-f307c3d72fc1>, line 1)",
          "traceback": [
            "\u001b[0;36m  File \u001b[0;32m\"<ipython-input-15-f307c3d72fc1>\"\u001b[0;36m, line \u001b[0;32m1\u001b[0m\n\u001b[0;31m    def add(a=5,b):\u001b[0m\n\u001b[0m                ^\u001b[0m\n\u001b[0;31mSyntaxError\u001b[0m\u001b[0;31m:\u001b[0m non-default argument follows default argument\n"
          ]
        }
      ]
    },
    {
      "cell_type": "markdown",
      "source": [
        "**Default argument should follow non-default argument**"
      ],
      "metadata": {
        "id": "s0Er5ze70HpF"
      }
    },
    {
      "cell_type": "markdown",
      "source": [
        "**keyword arguments**"
      ],
      "metadata": {
        "id": "z5WmuWyAuv0v"
      }
    },
    {
      "cell_type": "code",
      "source": [
        "def addition(a,b,c,d):\n",
        "  s=a+b+c+d\n",
        "  print(s)\n",
        "x=10\n",
        "y=20\n",
        "addition(x,y,c=5,d=30)"
      ],
      "metadata": {
        "colab": {
          "base_uri": "https://localhost:8080/"
        },
        "id": "nd3lbM-KvgM_",
        "outputId": "19c7561f-0407-4b75-a841-66db731d120c"
      },
      "execution_count": null,
      "outputs": [
        {
          "output_type": "stream",
          "name": "stdout",
          "text": [
            "65\n"
          ]
        }
      ]
    },
    {
      "cell_type": "code",
      "source": [
        "def addition(a,b,c,d):\n",
        "  s=a+b+c+d\n",
        "  print(s)\n",
        "x=10\n",
        "y=20\n",
        "addition(c=5,d=30,x,y)"
      ],
      "metadata": {
        "colab": {
          "base_uri": "https://localhost:8080/",
          "height": 141
        },
        "id": "H55jMF4GwI-b",
        "outputId": "cb98d571-e7bf-40a5-b385-32de695aa7a3"
      },
      "execution_count": null,
      "outputs": [
        {
          "output_type": "error",
          "ename": "SyntaxError",
          "evalue": "positional argument follows keyword argument (<ipython-input-17-c5865efa8957>, line 6)",
          "traceback": [
            "\u001b[0;36m  File \u001b[0;32m\"<ipython-input-17-c5865efa8957>\"\u001b[0;36m, line \u001b[0;32m6\u001b[0m\n\u001b[0;31m    addition(c=5,d=30,x,y)\u001b[0m\n\u001b[0m                         ^\u001b[0m\n\u001b[0;31mSyntaxError\u001b[0m\u001b[0;31m:\u001b[0m positional argument follows keyword argument\n"
          ]
        }
      ]
    },
    {
      "cell_type": "markdown",
      "source": [
        "**positional arguments should be followed by keyword arguments**"
      ],
      "metadata": {
        "id": "hbH7uTpGwlAO"
      }
    },
    {
      "cell_type": "markdown",
      "source": [
        "Order of the arguments\n",
        "1. Positional Arguments\n",
        "2. keyword Arguments\n",
        "3. Default Arguments"
      ],
      "metadata": {
        "id": "n8w6qx1n0cj_"
      }
    },
    {
      "cell_type": "code",
      "source": [
        "def addition(a,b,c=5):\n",
        "  s=a+b+c\n",
        "  print(s)\n",
        "addition(10,b=5)"
      ],
      "metadata": {
        "colab": {
          "base_uri": "https://localhost:8080/"
        },
        "id": "kdFX5U-Cw8g8",
        "outputId": "feea04f3-2ac6-4a71-a4d8-79a95efddd21"
      },
      "execution_count": null,
      "outputs": [
        {
          "output_type": "stream",
          "name": "stdout",
          "text": [
            "20\n"
          ]
        }
      ]
    },
    {
      "cell_type": "code",
      "source": [
        "def addition(a,b,c=5):\n",
        "  s=a+b+c\n",
        "  print(s)\n",
        "addition(10,b=5,30)"
      ],
      "metadata": {
        "colab": {
          "base_uri": "https://localhost:8080/",
          "height": 141
        },
        "id": "BjWHlSkp1pxt",
        "outputId": "51fe089d-c24f-4381-df92-7be1cd1bdb66"
      },
      "execution_count": null,
      "outputs": [
        {
          "output_type": "error",
          "ename": "SyntaxError",
          "evalue": "positional argument follows keyword argument (<ipython-input-20-004c6d5e4231>, line 4)",
          "traceback": [
            "\u001b[0;36m  File \u001b[0;32m\"<ipython-input-20-004c6d5e4231>\"\u001b[0;36m, line \u001b[0;32m4\u001b[0m\n\u001b[0;31m    addition(10,b=5,30)\u001b[0m\n\u001b[0m                      ^\u001b[0m\n\u001b[0;31mSyntaxError\u001b[0m\u001b[0;31m:\u001b[0m positional argument follows keyword argument\n"
          ]
        }
      ]
    },
    {
      "cell_type": "markdown",
      "source": [
        "**Arbitary Arguments**"
      ],
      "metadata": {
        "id": "vBYRK29J2vj0"
      }
    },
    {
      "cell_type": "code",
      "source": [
        "a=10\n",
        "b=20\n",
        "print(a,b)"
      ],
      "metadata": {
        "colab": {
          "base_uri": "https://localhost:8080/"
        },
        "id": "3s6Lhaq3tNMm",
        "outputId": "657c04ee-fbdc-4af6-da45-fbb3b704ca78"
      },
      "execution_count": null,
      "outputs": [
        {
          "output_type": "stream",
          "name": "stdout",
          "text": [
            "10 20\n"
          ]
        }
      ]
    },
    {
      "cell_type": "code",
      "source": [
        "def values(*val):\n",
        "  for i in val:\n",
        "    print(i)\n",
        "print(\"Two Parameters\")\n",
        "values(20,30)\n",
        "print(\"Three Parameters\")\n",
        "values(10,20,30)\n",
        "print(\"Four Parameters\")\n",
        "values(10,20,30,40)"
      ],
      "metadata": {
        "colab": {
          "base_uri": "https://localhost:8080/"
        },
        "id": "fvIkKE4d2O2n",
        "outputId": "23507086-3751-49e6-ca1d-05d68cb0bffd"
      },
      "execution_count": null,
      "outputs": [
        {
          "output_type": "stream",
          "name": "stdout",
          "text": [
            "Two Parameters\n",
            "20\n",
            "30\n",
            "Three Parameters\n",
            "10\n",
            "20\n",
            "30\n",
            "Four Parameters\n",
            "10\n",
            "20\n",
            "30\n",
            "40\n"
          ]
        }
      ]
    },
    {
      "cell_type": "markdown",
      "source": [
        "**understanding unpacking of arguments**"
      ],
      "metadata": {
        "id": "mO3WIZEt4JMg"
      }
    },
    {
      "cell_type": "code",
      "source": [
        "def display(l):\n",
        "  print(l)\n",
        "\n",
        "lis = [10,20,30,40,50]\n",
        "display(lis)"
      ],
      "metadata": {
        "colab": {
          "base_uri": "https://localhost:8080/"
        },
        "id": "j_rJ4Y6b4Ono",
        "outputId": "26729d14-9f1d-4f8b-c3e4-eb525c62aadb"
      },
      "execution_count": null,
      "outputs": [
        {
          "output_type": "stream",
          "name": "stdout",
          "text": [
            "[10, 20, 30, 40, 50]\n"
          ]
        }
      ]
    },
    {
      "cell_type": "code",
      "source": [
        "def display(a,b,c):\n",
        "  print(a,b,c)\n",
        "\n",
        "lis = [10,20,30]\n",
        "display(lis)"
      ],
      "metadata": {
        "colab": {
          "base_uri": "https://localhost:8080/",
          "height": 211
        },
        "id": "IQje4oR25VIr",
        "outputId": "8f38cca7-6869-410a-a6cd-5a2c9073460e"
      },
      "execution_count": null,
      "outputs": [
        {
          "output_type": "error",
          "ename": "TypeError",
          "evalue": "display() missing 2 required positional arguments: 'b' and 'c'",
          "traceback": [
            "\u001b[0;31m---------------------------------------------------------------------------\u001b[0m",
            "\u001b[0;31mTypeError\u001b[0m                                 Traceback (most recent call last)",
            "\u001b[0;32m<ipython-input-30-d4afcd917f03>\u001b[0m in \u001b[0;36m<cell line: 5>\u001b[0;34m()\u001b[0m\n\u001b[1;32m      3\u001b[0m \u001b[0;34m\u001b[0m\u001b[0m\n\u001b[1;32m      4\u001b[0m \u001b[0mlis\u001b[0m \u001b[0;34m=\u001b[0m \u001b[0;34m[\u001b[0m\u001b[0;36m10\u001b[0m\u001b[0;34m,\u001b[0m\u001b[0;36m20\u001b[0m\u001b[0;34m,\u001b[0m\u001b[0;36m30\u001b[0m\u001b[0;34m]\u001b[0m\u001b[0;34m\u001b[0m\u001b[0;34m\u001b[0m\u001b[0m\n\u001b[0;32m----> 5\u001b[0;31m \u001b[0mdisplay\u001b[0m\u001b[0;34m(\u001b[0m\u001b[0mlis\u001b[0m\u001b[0;34m)\u001b[0m\u001b[0;34m\u001b[0m\u001b[0;34m\u001b[0m\u001b[0m\n\u001b[0m",
            "\u001b[0;31mTypeError\u001b[0m: display() missing 2 required positional arguments: 'b' and 'c'"
          ]
        }
      ]
    },
    {
      "cell_type": "code",
      "source": [
        "def display(a,b,c):\n",
        "  print(a,b,c)\n",
        "\n",
        "lis = [10,20,30]\n",
        "display(*lis)"
      ],
      "metadata": {
        "colab": {
          "base_uri": "https://localhost:8080/"
        },
        "id": "Wz_1GYCJ5luD",
        "outputId": "f3030432-f1b2-4b82-8c26-de440c222530"
      },
      "execution_count": null,
      "outputs": [
        {
          "output_type": "stream",
          "name": "stdout",
          "text": [
            "10 20 30\n"
          ]
        }
      ]
    },
    {
      "cell_type": "code",
      "source": [
        "def addition(a,b):\n",
        "  c=a+b\n",
        "  return(c)\n",
        "\n",
        "s=addition(30,20)\n",
        "print(s)"
      ],
      "metadata": {
        "colab": {
          "base_uri": "https://localhost:8080/"
        },
        "id": "QT8TkY-H6LGh",
        "outputId": "fdb6c70a-c623-4e17-82ce-7e62cfe2660e"
      },
      "execution_count": null,
      "outputs": [
        {
          "output_type": "stream",
          "name": "stdout",
          "text": [
            "50\n"
          ]
        }
      ]
    },
    {
      "cell_type": "code",
      "source": [
        "def greatest(a,b):\n",
        "  if(a>b):\n",
        "    return(a)\n",
        "  else:\n",
        "    return(b)\n",
        "\n",
        "g=greatest(15,20)\n",
        "print(g)\n",
        "g=greatest(25,10)\n",
        "print(g)"
      ],
      "metadata": {
        "colab": {
          "base_uri": "https://localhost:8080/"
        },
        "id": "JhmSAJ_c6xkm",
        "outputId": "62d78ddc-e4fc-4e41-fe2f-608193ca39f5"
      },
      "execution_count": null,
      "outputs": [
        {
          "output_type": "stream",
          "name": "stdout",
          "text": [
            "20\n",
            "25\n"
          ]
        }
      ]
    },
    {
      "cell_type": "code",
      "source": [
        "def display1():\n",
        "  print(\"in function display1\")\n",
        "  display2()\n",
        "  print(\"Back in display1\")\n",
        "\n",
        "def display2():\n",
        "  print(\"in function display2\")\n",
        "  display3()\n",
        "  print(\"Back in display2\")\n",
        "\n",
        "def display3():\n",
        "  print(\"in function display3\")\n",
        "\n",
        "display1()\n",
        "print(\"End\")"
      ],
      "metadata": {
        "id": "O8R8oP5i7P9S",
        "colab": {
          "base_uri": "https://localhost:8080/"
        },
        "outputId": "ccb861cd-9bad-423e-fbeb-e18746c806bf"
      },
      "execution_count": null,
      "outputs": [
        {
          "output_type": "stream",
          "name": "stdout",
          "text": [
            "in function display1\n",
            "in function display2\n",
            "in function display3\n",
            "Back in display2\n",
            "Back in display1\n",
            "End\n"
          ]
        }
      ]
    },
    {
      "cell_type": "markdown",
      "source": [
        "**Passing Function Calling as Parameter**"
      ],
      "metadata": {
        "id": "PNEE78dOi-RO"
      }
    },
    {
      "cell_type": "code",
      "source": [
        "def add(a,b):\n",
        "  c=a+b\n",
        "  return(c)\n",
        "\n",
        "def display(s):\n",
        "  print(s)\n",
        "display(add(30,30))\n"
      ],
      "metadata": {
        "colab": {
          "base_uri": "https://localhost:8080/"
        },
        "id": "591n1jxmig62",
        "outputId": "95a78931-1f0b-435c-8be6-70d0d1f87073"
      },
      "execution_count": null,
      "outputs": [
        {
          "output_type": "stream",
          "name": "stdout",
          "text": [
            "60\n"
          ]
        }
      ]
    },
    {
      "cell_type": "markdown",
      "source": [
        "**lambda function**\n",
        "Lambda functions are similar to user-defined functions but without a name. They are also called as anonymous functions.\n",
        "\n",
        "Lambda functions are used when\n",
        "1. when we need to create a function with simple expression\n",
        "\n",
        "**syntax**\n",
        "lambda argument(s) : expression"
      ],
      "metadata": {
        "id": "tCCh8PFFj0qY"
      }
    },
    {
      "cell_type": "code",
      "source": [
        "def add10(a):\n",
        "  return(a+10)\n",
        "print(add10(50))\n"
      ],
      "metadata": {
        "colab": {
          "base_uri": "https://localhost:8080/"
        },
        "id": "G3fe1NeUlXjW",
        "outputId": "dbc74e2b-1432-4efb-982e-915ac0b95330"
      },
      "execution_count": null,
      "outputs": [
        {
          "output_type": "stream",
          "name": "stdout",
          "text": [
            "60\n"
          ]
        }
      ]
    },
    {
      "cell_type": "code",
      "source": [
        "(lambda x : x * 2)(5)"
      ],
      "metadata": {
        "colab": {
          "base_uri": "https://localhost:8080/"
        },
        "id": "ZlhsaWIBnyxU",
        "outputId": "6e8490d5-dc1c-455e-cefb-90d83e07f75b"
      },
      "execution_count": null,
      "outputs": [
        {
          "output_type": "execute_result",
          "data": {
            "text/plain": [
              "10"
            ]
          },
          "metadata": {},
          "execution_count": 7
        }
      ]
    },
    {
      "cell_type": "code",
      "source": [
        "(lambda a: a + 10)(50)"
      ],
      "metadata": {
        "colab": {
          "base_uri": "https://localhost:8080/"
        },
        "id": "rGqs1aPUn6tz",
        "outputId": "bd47b468-8f84-4503-fe74-f02ecd4eab21"
      },
      "execution_count": null,
      "outputs": [
        {
          "output_type": "execute_result",
          "data": {
            "text/plain": [
              "60"
            ]
          },
          "metadata": {},
          "execution_count": 8
        }
      ]
    },
    {
      "cell_type": "code",
      "source": [
        "add10 = lambda a: a + 10\n",
        "print(add10(50))"
      ],
      "metadata": {
        "colab": {
          "base_uri": "https://localhost:8080/"
        },
        "id": "ArPqKc9cmr9Y",
        "outputId": "449af292-1447-4b5e-873e-a0bee0e59452"
      },
      "execution_count": null,
      "outputs": [
        {
          "output_type": "stream",
          "name": "stdout",
          "text": [
            "60\n"
          ]
        }
      ]
    },
    {
      "cell_type": "code",
      "source": [
        "square = lambda x: x**2\n",
        "print(square(5))"
      ],
      "metadata": {
        "colab": {
          "base_uri": "https://localhost:8080/"
        },
        "id": "wsHm7cIcnYhP",
        "outputId": "2b1be081-0c7c-4d22-db2f-8229ba45f363"
      },
      "execution_count": null,
      "outputs": [
        {
          "output_type": "stream",
          "name": "stdout",
          "text": [
            "25\n"
          ]
        }
      ]
    },
    {
      "cell_type": "code",
      "source": [
        "cube = lambda x: x**3\n",
        "print(cube(5))"
      ],
      "metadata": {
        "colab": {
          "base_uri": "https://localhost:8080/"
        },
        "id": "jdXztuhZniwD",
        "outputId": "33e7daf3-2959-4704-c427-5d2876047bd1"
      },
      "execution_count": null,
      "outputs": [
        {
          "output_type": "stream",
          "name": "stdout",
          "text": [
            "125\n"
          ]
        }
      ]
    },
    {
      "cell_type": "code",
      "source": [
        "is_even = lambda n: n % 2 == 0\n",
        "print(is_even(10))"
      ],
      "metadata": {
        "colab": {
          "base_uri": "https://localhost:8080/"
        },
        "id": "ij0X6d8knoIt",
        "outputId": "22fb7d79-2084-438b-c0f3-b6571986fdef"
      },
      "execution_count": null,
      "outputs": [
        {
          "output_type": "stream",
          "name": "stdout",
          "text": [
            "True\n"
          ]
        }
      ]
    },
    {
      "cell_type": "code",
      "source": [
        "d = dict(\"one\":1,\"Two\":2)"
      ],
      "metadata": {
        "colab": {
          "base_uri": "https://localhost:8080/",
          "height": 141
        },
        "id": "0G_9u4cW7KmS",
        "outputId": "47a17e3e-cd82-499b-a453-67a42842ea6c"
      },
      "execution_count": null,
      "outputs": [
        {
          "output_type": "error",
          "ename": "SyntaxError",
          "evalue": "invalid syntax (<ipython-input-48-6bd7aadd43c9>, line 1)",
          "traceback": [
            "\u001b[0;36m  File \u001b[0;32m\"<ipython-input-48-6bd7aadd43c9>\"\u001b[0;36m, line \u001b[0;32m1\u001b[0m\n\u001b[0;31m    d = dict(\"one\":1,\"Two\":2)\u001b[0m\n\u001b[0m                  ^\u001b[0m\n\u001b[0;31mSyntaxError\u001b[0m\u001b[0;31m:\u001b[0m invalid syntax\n"
          ]
        }
      ]
    }
  ]
}