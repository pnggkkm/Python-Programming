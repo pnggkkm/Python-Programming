{
  "nbformat": 4,
  "nbformat_minor": 0,
  "metadata": {
    "colab": {
      "provenance": [],
      "authorship_tag": "ABX9TyMBIS3d5yefzXIy4sO1MDSs",
      "include_colab_link": true
    },
    "kernelspec": {
      "name": "python3",
      "display_name": "Python 3"
    },
    "language_info": {
      "name": "python"
    }
  },
  "cells": [
    {
      "cell_type": "markdown",
      "metadata": {
        "id": "view-in-github",
        "colab_type": "text"
      },
      "source": [
        "<a href=\"https://colab.research.google.com/github/pnggkkm/Python-Programming/blob/main/prims.ipynb\" target=\"_parent\"><img src=\"https://colab.research.google.com/assets/colab-badge.svg\" alt=\"Open In Colab\"/></a>"
      ]
    },
    {
      "cell_type": "code",
      "execution_count": null,
      "metadata": {
        "id": "4Fg6HNAwQ6J1"
      },
      "outputs": [],
      "source": [
        "# Prim's Algorithm in Python\n",
        "\n",
        "INF = 9999999\n",
        "# number of vertices in graph\n",
        "N = 5\n",
        "#creating graph by adjacency matrix method\n",
        "G = [[0, 19, 5, 0, 0],\n",
        "     [19, 0, 5, 9, 2],\n",
        "     [5, 5, 0, 1, 6],\n",
        "     [0, 9, 1, 0, 1],\n",
        "     [0, 2, 6, 1, 0]]\n",
        "\n",
        "selected_node = [0, 0, 0, 0, 0]\n",
        "\n",
        "no_edge = 0\n",
        "\n",
        "selected_node[0] = True\n",
        "\n",
        "# printing for edge and weight\n",
        "print(\"Edge : Weight\\n\")\n",
        "while (no_edge < N - 1):\n",
        "\n",
        "    minimum = INF\n",
        "    a = 0\n",
        "    b = 0\n",
        "    for m in range(N):\n",
        "        if selected_node[m]:\n",
        "            for n in range(N):\n",
        "                if ((not selected_node[n]) and G[m][n]):\n",
        "                    # not in selected and there is an edge\n",
        "                    if minimum > G[m][n]:\n",
        "                        minimum = G[m][n]\n",
        "                        a = m\n",
        "                        b = n\n",
        "    print(str(a) + \"-\" + str(b) + \":\" + str(G[a][b]))\n",
        "    selected_node[b] = True\n",
        "    no_edge += 1"
      ]
    }
  ]
}