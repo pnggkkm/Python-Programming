{
  "nbformat": 4,
  "nbformat_minor": 0,
  "metadata": {
    "colab": {
      "provenance": [],
      "authorship_tag": "ABX9TyM57gI8EVfltLCbXTS+c4nd",
      "include_colab_link": true
    },
    "kernelspec": {
      "name": "python3",
      "display_name": "Python 3"
    },
    "language_info": {
      "name": "python"
    }
  },
  "cells": [
    {
      "cell_type": "markdown",
      "metadata": {
        "id": "view-in-github",
        "colab_type": "text"
      },
      "source": [
        "<a href=\"https://colab.research.google.com/github/pnggkkm/Python-Programming/blob/main/classes_and_objects_new.ipynb\" target=\"_parent\"><img src=\"https://colab.research.google.com/assets/colab-badge.svg\" alt=\"Open In Colab\"/></a>"
      ]
    },
    {
      "cell_type": "code",
      "execution_count": null,
      "metadata": {
        "colab": {
          "base_uri": "https://localhost:8080/"
        },
        "id": "EdlsMMpSz3Yx",
        "outputId": "f14c18b7-d2c7-41f4-b241-bbe9ff78ff99"
      },
      "outputs": [
        {
          "output_type": "stream",
          "name": "stdout",
          "text": [
            "100\n"
          ]
        }
      ],
      "source": [
        "def deposit(amt):\n",
        "  balance=amt\n",
        "  print(balance)\n",
        "\n",
        "deposit(100)"
      ]
    },
    {
      "cell_type": "code",
      "source": [
        "class Account:\n",
        "  def deposit(self,amt):\n",
        "    self.balance=amt\n",
        "    print(self.balance)\n",
        "\n",
        "c1= Account()\n",
        "c1.deposit(2000)"
      ],
      "metadata": {
        "colab": {
          "base_uri": "https://localhost:8080/"
        },
        "id": "zE8WGAh11H3m",
        "outputId": "028d96a7-4e06-4342-8b37-6cbd9b8960b5"
      },
      "execution_count": null,
      "outputs": [
        {
          "output_type": "stream",
          "name": "stdout",
          "text": [
            "2000\n"
          ]
        }
      ]
    },
    {
      "cell_type": "code",
      "source": [
        "class Account:\n",
        "  def deposit(self,amt):\n",
        "    self.balance=amt\n",
        "    print(self.balance)\n",
        "\n",
        "c1= Account()\n",
        "c1.deposit(500)\n",
        "c2=Account()\n",
        "c2.deposit(1000)\n"
      ],
      "metadata": {
        "colab": {
          "base_uri": "https://localhost:8080/"
        },
        "id": "JbcxaexX1twW",
        "outputId": "4e9673f4-b13c-4dab-ac36-23193ae664de"
      },
      "execution_count": null,
      "outputs": [
        {
          "output_type": "stream",
          "name": "stdout",
          "text": [
            "500\n",
            "1000\n"
          ]
        }
      ]
    },
    {
      "cell_type": "code",
      "source": [
        "class Account:\n",
        "  def deposit(self,amt):\n",
        "    self.balance=amt\n",
        "    print(self.balance)\n",
        "\n",
        "c1= Account()\n",
        "c1.deposit(500)\n",
        "c2=Account()\n",
        "c2.deposit(1000)\n",
        "print(c1.balance)\n",
        "print(c2.balance)"
      ],
      "metadata": {
        "colab": {
          "base_uri": "https://localhost:8080/"
        },
        "id": "_SfezOME2b8p",
        "outputId": "97b1c5d6-1f19-44d5-a73d-97ac251a9afa"
      },
      "execution_count": null,
      "outputs": [
        {
          "output_type": "stream",
          "name": "stdout",
          "text": [
            "500\n",
            "1000\n",
            "500\n",
            "1000\n"
          ]
        }
      ]
    },
    {
      "cell_type": "markdown",
      "source": [
        "**class or static variables**"
      ],
      "metadata": {
        "id": "KcftalT63rk2"
      }
    },
    {
      "cell_type": "markdown",
      "source": [
        "**Class variables or Static variables are common to all the instances of the class**"
      ],
      "metadata": {
        "id": "85d_nLCb3_S7"
      }
    },
    {
      "cell_type": "markdown",
      "source": [
        "**Class variables or static variables can be accesses with the class name**"
      ],
      "metadata": {
        "id": "8EMfwAPU4btV"
      }
    },
    {
      "cell_type": "code",
      "source": [
        "class Account:\n",
        "  balance=5000\n",
        "\n",
        "print(Account.balance)"
      ],
      "metadata": {
        "colab": {
          "base_uri": "https://localhost:8080/"
        },
        "id": "EYXR48DT31rq",
        "outputId": "6e1a98bf-ab51-48bd-b4c2-416abf90e485"
      },
      "execution_count": null,
      "outputs": [
        {
          "output_type": "stream",
          "name": "stdout",
          "text": [
            "5000\n"
          ]
        }
      ]
    },
    {
      "cell_type": "markdown",
      "source": [
        "class or static variables can also be accessed with the instances(objects)"
      ],
      "metadata": {
        "id": "RLPzjuJ24Psx"
      }
    },
    {
      "cell_type": "code",
      "source": [
        "class Account:\n",
        "  IFSCCODE=\"kvbl00128\"\n",
        "  BRANCH=\"KVBMAINDGL\"\n",
        "\n",
        "c1=Account()\n",
        "c2=Account()\n",
        "print(c1.IFSCCODE)\n",
        "print(c2.IFSCCODE)\n",
        "print(c1.BRANCH)\n",
        "print(c2.BRANCH)"
      ],
      "metadata": {
        "colab": {
          "base_uri": "https://localhost:8080/"
        },
        "id": "-bYicyFn3Q7w",
        "outputId": "55002dff-6411-44ab-f8da-6dd7333d3c13"
      },
      "execution_count": null,
      "outputs": [
        {
          "output_type": "stream",
          "name": "stdout",
          "text": [
            "kvbl00128\n",
            "kvbl00128\n",
            "KVBMAINDGL\n",
            "KVBMAINDGL\n"
          ]
        }
      ]
    },
    {
      "cell_type": "code",
      "source": [
        "class Account:\n",
        "  balance=1000\n",
        "\n",
        "c1=Account()\n",
        "c2=Account()\n",
        "print(c1.balance)\n",
        "print(c2.balance)\n",
        "c1.balance=5000\n",
        "print(c1.balance)\n",
        "print(c2.balance)"
      ],
      "metadata": {
        "colab": {
          "base_uri": "https://localhost:8080/"
        },
        "id": "chuAGS1q3xa8",
        "outputId": "2455c92d-02f0-4c1a-f6cb-755d89d5a03f"
      },
      "execution_count": null,
      "outputs": [
        {
          "output_type": "stream",
          "name": "stdout",
          "text": [
            "1000\n",
            "1000\n",
            "5000\n",
            "1000\n"
          ]
        }
      ]
    },
    {
      "cell_type": "code",
      "source": [
        "class Account:\n",
        "  balance=1000\n",
        "\n",
        "c1=Account()\n",
        "c2=Account()\n",
        "print(c1.balance)\n",
        "print(c2.balance)\n",
        "c1.balance=5000\n",
        "print(c1.balance)\n",
        "print(c2.balance)\n",
        "c3=Account()\n",
        "print(c3.balance)"
      ],
      "metadata": {
        "colab": {
          "base_uri": "https://localhost:8080/"
        },
        "id": "LKspLjZn7prp",
        "outputId": "80c56114-834b-4b43-dc08-0abb3697edd7"
      },
      "execution_count": null,
      "outputs": [
        {
          "output_type": "stream",
          "name": "stdout",
          "text": [
            "1000\n",
            "1000\n",
            "5000\n",
            "1000\n",
            "1000\n"
          ]
        }
      ]
    },
    {
      "cell_type": "markdown",
      "source": [
        "All classes have a function called init(), which is always executed when the class is being initiated.\n",
        "\n",
        "class is Initiated - it means an object is created\n",
        "\n",
        "it can be used for initializing the values"
      ],
      "metadata": {
        "id": "IZVo5i6S9P_4"
      }
    },
    {
      "cell_type": "code",
      "source": [
        "class customer:\n",
        "  def __init__(self,amt):\n",
        "    self.balance=amt\n",
        "\n",
        "c1=customer(1000)\n",
        "c2=customer(2000)\n",
        "print(c1.balance)\n",
        "print(c2.balance)"
      ],
      "metadata": {
        "colab": {
          "base_uri": "https://localhost:8080/"
        },
        "id": "VdQPQBAV8GX0",
        "outputId": "a3181719-7831-43ff-bb92-000931d49d41"
      },
      "execution_count": null,
      "outputs": [
        {
          "output_type": "stream",
          "name": "stdout",
          "text": [
            "1000\n",
            "2000\n"
          ]
        }
      ]
    },
    {
      "cell_type": "code",
      "source": [
        "class demo:\n",
        "  def __init__(self):\n",
        "    print(\"Constructor is called\")\n",
        "\n",
        "  def display(self):\n",
        "    print(\"Hello\")\n",
        "\n",
        "d1=demo()\n",
        "d2=demo()\n",
        "d3=demo()\n",
        "z=demo()\n"
      ],
      "metadata": {
        "colab": {
          "base_uri": "https://localhost:8080/"
        },
        "id": "RJw4ZMJs_GG2",
        "outputId": "7d66e9cc-abc3-4554-a8e9-69762f984d13"
      },
      "execution_count": null,
      "outputs": [
        {
          "output_type": "stream",
          "name": "stdout",
          "text": [
            "Constructor is called\n",
            "Constructor is called\n",
            "Constructor is called\n",
            "Constructor is called\n"
          ]
        }
      ]
    },
    {
      "cell_type": "markdown",
      "source": [
        "**init function is called as the constructor**"
      ],
      "metadata": {
        "id": "sl-9hRZd9nnQ"
      }
    },
    {
      "cell_type": "markdown",
      "source": [
        "**Adding Functions to the classes**"
      ],
      "metadata": {
        "id": "XuhSEp0s9uFs"
      }
    },
    {
      "cell_type": "code",
      "source": [
        "class customer:\n",
        "  def __init__(self,amt):\n",
        "    self.balance=amt\n",
        "\n",
        "  def withdraw(self,amount):\n",
        "    self.balance=self.balance-amount\n",
        "\n",
        "c1=customer(1000)\n",
        "c2=customer(2000)\n",
        "print(c1.balance)\n",
        "print(c2.balance)\n",
        "c1.withdraw(500)\n",
        "c2.withdraw(600)\n",
        "print(c1.balance)\n",
        "print(c2.balance)"
      ],
      "metadata": {
        "colab": {
          "base_uri": "https://localhost:8080/"
        },
        "id": "HWcwG2re9qIi",
        "outputId": "0185804a-6ff3-4ae7-d8f5-7639c55324bc"
      },
      "execution_count": null,
      "outputs": [
        {
          "output_type": "stream",
          "name": "stdout",
          "text": [
            "1000\n",
            "2000\n",
            "500\n",
            "1400\n"
          ]
        }
      ]
    },
    {
      "cell_type": "code",
      "source": [
        "class customer:\n",
        "  def __init__(self,amt):\n",
        "    self.balance=amt\n",
        "\n",
        "  def withdraw(self,amount):\n",
        "    self.balance=self.balance-amount\n",
        "\n",
        "  def display_balance(self):\n",
        "    print(self.balance)\n",
        "\n",
        "c1=customer(1000)\n",
        "c2=customer(2000)\n",
        "c1.display_balance()\n",
        "c2.display_balance()\n",
        "c1.withdraw(500)\n",
        "c2.withdraw(600)\n",
        "c1.display_balance()\n",
        "c2.display_balance()"
      ],
      "metadata": {
        "colab": {
          "base_uri": "https://localhost:8080/"
        },
        "id": "S_g0JUcT-0LF",
        "outputId": "ab42528f-90fc-4b04-c98f-8474debbb6f8"
      },
      "execution_count": null,
      "outputs": [
        {
          "output_type": "stream",
          "name": "stdout",
          "text": [
            "1000\n",
            "2000\n",
            "500\n",
            "1400\n"
          ]
        }
      ]
    },
    {
      "cell_type": "code",
      "source": [
        "class Employee:\n",
        "    def __init__(self, n, s):\n",
        "        self.name = n\n",
        "        self.salary = s\n",
        "\n",
        "\n",
        "    def display_salary(self):\n",
        "        print(f\"{self.name}'s salary is {self.salary}\")\n",
        "\n",
        "# Create employee objects\n",
        "employee1 = Employee(\"ABC\", 50000)\n",
        "employee2 = Employee(\"XYZ\", 60000)\n",
        "\n",
        "# Display their salaries\n",
        "employee1.display_salary()\n",
        "employee2.display_salary()\n"
      ],
      "metadata": {
        "colab": {
          "base_uri": "https://localhost:8080/"
        },
        "id": "3RAJZMZ6-7t8",
        "outputId": "210771d8-4cab-45a6-9ddb-5a431af61800"
      },
      "execution_count": null,
      "outputs": [
        {
          "output_type": "stream",
          "name": "stdout",
          "text": [
            "ABC's salary is 50000\n",
            "XYZ's salary is 60000\n"
          ]
        }
      ]
    },
    {
      "cell_type": "code",
      "source": [
        "class Employee:\n",
        "    def __init__(self, name, salary):\n",
        "        self.name = name\n",
        "        self.salary = salary\n",
        "\n",
        "    def calculate_salary(self,hoursworked):\n",
        "        self.salary=hoursworked*500\n",
        "\n",
        "    def display_salary(self):\n",
        "        print(f\"{self.name}'s salary is {self.salary}\")\n",
        "\n",
        "# Create employee objects\n",
        "employee1 = Employee(\"ABC\", 0)\n",
        "employee2 = Employee(\"XYZ\", 0)\n",
        "\n",
        "employee1.calculate_salary(48)\n",
        "employee2.calculate_salary(46)\n",
        "# Display their salaries\n",
        "employee1.display_salary()\n",
        "employee2.display_salary()\n"
      ],
      "metadata": {
        "colab": {
          "base_uri": "https://localhost:8080/"
        },
        "id": "Tsh42qzIA80l",
        "outputId": "66e68e4f-df8e-49cb-ec57-a2558b7ebfaf"
      },
      "execution_count": null,
      "outputs": [
        {
          "output_type": "stream",
          "name": "stdout",
          "text": [
            "ABC's salary is 24000\n",
            "XYZ's salary is 23000\n"
          ]
        }
      ]
    },
    {
      "cell_type": "markdown",
      "source": [
        "**del()**"
      ],
      "metadata": {
        "id": "g6wRpxPPBfF1"
      }
    },
    {
      "cell_type": "code",
      "source": [
        "class customer:\n",
        "  def __init__(self):\n",
        "    print(\"Customer Created\")\n",
        "\n",
        "  def __del__(self):\n",
        "    print(\"Customer Deleted\")\n",
        "\n",
        "c1=customer()\n",
        "c2=customer()\n",
        "c3=customer()\n",
        "del c1\n",
        "del c2\n",
        "del c3"
      ],
      "metadata": {
        "colab": {
          "base_uri": "https://localhost:8080/"
        },
        "id": "UveXMsFYBiUe",
        "outputId": "68f6d734-6498-455a-d487-cff26f32372a"
      },
      "execution_count": null,
      "outputs": [
        {
          "output_type": "stream",
          "name": "stdout",
          "text": [
            "Customer Created\n",
            "Customer Created\n",
            "Customer Created\n",
            "Customer Deleted\n",
            "Customer Deleted\n",
            "Customer Deleted\n"
          ]
        }
      ]
    },
    {
      "cell_type": "code",
      "source": [
        "class customer:\n",
        "  def __init__(self):\n",
        "    print(\"Customer Created\")\n",
        "\n",
        "  def __del__(self):\n",
        "    print(\"Customer Deleted\")\n",
        "\n",
        "def createobject():\n",
        "  cust1 = customer()\n",
        "\n",
        "\n",
        "\n",
        "createobject()"
      ],
      "metadata": {
        "colab": {
          "base_uri": "https://localhost:8080/"
        },
        "id": "EwW0RBTQBpqG",
        "outputId": "776ad811-0216-491c-9691-7788caeb3461"
      },
      "execution_count": null,
      "outputs": [
        {
          "output_type": "stream",
          "name": "stdout",
          "text": [
            "Customer Created\n",
            "Customer Deleted\n"
          ]
        }
      ]
    }
  ]
}