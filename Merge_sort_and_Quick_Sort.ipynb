{
  "nbformat": 4,
  "nbformat_minor": 0,
  "metadata": {
    "colab": {
      "provenance": [],
      "authorship_tag": "ABX9TyOqN/yBL+PLX198o/lwfQ9H",
      "include_colab_link": true
    },
    "kernelspec": {
      "name": "python3",
      "display_name": "Python 3"
    },
    "language_info": {
      "name": "python"
    }
  },
  "cells": [
    {
      "cell_type": "markdown",
      "metadata": {
        "id": "view-in-github",
        "colab_type": "text"
      },
      "source": [
        "<a href=\"https://colab.research.google.com/github/pnggkkm/Python-Programming/blob/main/Merge_sort_and_Quick_Sort.ipynb\" target=\"_parent\"><img src=\"https://colab.research.google.com/assets/colab-badge.svg\" alt=\"Open In Colab\"/></a>"
      ]
    },
    {
      "cell_type": "code",
      "source": [
        "def quicksort(arr):\n",
        "\n",
        "    if len(arr) <= 1:\n",
        "\n",
        "     return arr\n",
        "\n",
        "    else:\n",
        "\n",
        "        pivot = arr[0]\n",
        "\n",
        "        left = [x for x in arr[1:] if x < pivot]\n",
        "\n",
        "        right = [x for x in arr[1:] if x >= pivot]\n",
        "\n",
        "        return quicksort(left) + [pivot] + quicksort(right)\n",
        "\n",
        "arr = [5, 1, 8, 3, 2]\n",
        "\n",
        "print(\"original array:\", arr)\n",
        "\n",
        "sorted_arr = quicksort(arr)\n",
        "\n",
        "print(\"Sorted array:\", sorted_arr)"
      ],
      "metadata": {
        "colab": {
          "base_uri": "https://localhost:8080/"
        },
        "id": "ybX3yDVbSj3b",
        "outputId": "5bebb21b-cd0f-4f59-bdee-1f3cecb7c5fa"
      },
      "execution_count": 2,
      "outputs": [
        {
          "output_type": "stream",
          "name": "stdout",
          "text": [
            "original array: [5, 1, 8, 3, 2]\n",
            "Sorted array: [1, 2, 3, 5, 8]\n"
          ]
        }
      ]
    },
    {
      "cell_type": "code",
      "execution_count": 3,
      "metadata": {
        "colab": {
          "base_uri": "https://localhost:8080/"
        },
        "id": "-ShA0sxJRlCp",
        "outputId": "71bb081c-eff8-41c4-b5c2-25be9e89cdba"
      },
      "outputs": [
        {
          "output_type": "stream",
          "name": "stdout",
          "text": [
            "Sorted array: [-13, -10, 3, 6, 7, 15, 23.5, 55]\n"
          ]
        }
      ],
      "source": [
        "def mergeSort(arr):\n",
        "    if len(arr) <= 1:\n",
        "        return arr\n",
        "\n",
        "    mid = len(arr) // 2\n",
        "    leftHalf = arr[:mid]\n",
        "    rightHalf = arr[mid:]\n",
        "\n",
        "    sortedLeft = mergeSort(leftHalf)\n",
        "    sortedRight = mergeSort(rightHalf)\n",
        "\n",
        "    return merge(sortedLeft, sortedRight)\n",
        "\n",
        "def merge(left, right):\n",
        "    result = []\n",
        "    i = j = 0\n",
        "\n",
        "    while i < len(left) and j < len(right):\n",
        "        if left[i] < right[j]:\n",
        "            result.append(left[i])\n",
        "            i += 1\n",
        "        else:\n",
        "            result.append(right[j])\n",
        "            j += 1\n",
        "\n",
        "    result.extend(left[i:])\n",
        "    result.extend(right[j:])\n",
        "\n",
        "    return result\n",
        "\n",
        "unsortedArr = [3, 7, 6, -10, 15, 23.5, 55, -13]\n",
        "sortedArr = mergeSort(unsortedArr)\n",
        "print(\"Sorted array:\", sortedArr)\n"
      ]
    }
  ]
}