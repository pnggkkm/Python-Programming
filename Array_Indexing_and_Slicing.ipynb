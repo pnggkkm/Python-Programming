{
  "nbformat": 4,
  "nbformat_minor": 0,
  "metadata": {
    "colab": {
      "provenance": [],
      "authorship_tag": "ABX9TyNKjy6cvnR+NCwPiPc1JYNT",
      "include_colab_link": true
    },
    "kernelspec": {
      "name": "python3",
      "display_name": "Python 3"
    },
    "language_info": {
      "name": "python"
    }
  },
  "cells": [
    {
      "cell_type": "markdown",
      "metadata": {
        "id": "view-in-github",
        "colab_type": "text"
      },
      "source": [
        "<a href=\"https://colab.research.google.com/github/pnggkkm/Python-Programming/blob/main/Array_Indexing_and_Slicing.ipynb\" target=\"_parent\"><img src=\"https://colab.research.google.com/assets/colab-badge.svg\" alt=\"Open In Colab\"/></a>"
      ]
    },
    {
      "cell_type": "markdown",
      "source": [
        "**Indexing**\n",
        "Array indexing in NumPy refers to accessing individual elements or groups of elements within an array.\n",
        "\n",
        "**Array Indexing**\n",
        "Array indexing in NumPy refers to accessing individual elements or groups of elements within an array.\n",
        "indexing commonly used in NumPy arrays:\n",
        "\n",
        "**Basic Indexing:** Accessing individual elements of an array using integer indices.\n",
        "\n",
        "**Slicing:** Extracting a subset of elements from an array by specifying a range of indices.\n",
        "\n",
        "**Boolean Indexing:** Selecting elements based on a boolean condition.\n",
        "\n",
        "**Fancy Indexing:** Accessing multiple elements at once using arrays of indices.\n",
        "\n",
        "**Reverse Indexing:** Accessing elements from the end of an array using negative indices.\n",
        "\n",
        "Understanding and effectively utilizing these indexing techniques is essential for working efficiently with NumPy arrays and manipulating data according to specific requirements."
      ],
      "metadata": {
        "id": "vz8YAH8ObwDr"
      }
    },
    {
      "cell_type": "markdown",
      "source": [
        "**Basic Indexing:**"
      ],
      "metadata": {
        "id": "SOpVX2VudJgQ"
      }
    },
    {
      "cell_type": "code",
      "execution_count": 1,
      "metadata": {
        "colab": {
          "base_uri": "https://localhost:8080/"
        },
        "id": "lxkafP1Ubl6c",
        "outputId": "0cd39c6b-2f35-4c51-d49c-76000c1c66b8"
      },
      "outputs": [
        {
          "output_type": "stream",
          "name": "stdout",
          "text": [
            "3\n"
          ]
        }
      ],
      "source": [
        "import numpy as np\n",
        "\n",
        "arr = np.array([1, 2, 3, 4, 5])\n",
        "\n",
        "# Access the element at index 2\n",
        "print(arr[2])  # Output: 3\n"
      ]
    },
    {
      "cell_type": "markdown",
      "source": [
        "**Boolean Indexing:**"
      ],
      "metadata": {
        "id": "ynsd8TCdddOO"
      }
    },
    {
      "cell_type": "code",
      "source": [
        "import numpy as np\n",
        "\n",
        "arr = np.array([1, 2, 3, 4, 5])\n",
        "\n",
        "# Boolean indexing to select elements greater than 2\n",
        "print(arr[arr > 2])  # Output: [3 4 5]\n"
      ],
      "metadata": {
        "colab": {
          "base_uri": "https://localhost:8080/"
        },
        "id": "eUVVkXn7dfx_",
        "outputId": "a6bd413c-1c3f-42e3-c245-5da63fd2d8ee"
      },
      "execution_count": 3,
      "outputs": [
        {
          "output_type": "stream",
          "name": "stdout",
          "text": [
            "[3 4 5]\n"
          ]
        }
      ]
    },
    {
      "cell_type": "markdown",
      "source": [
        "**Fancy Indexing:**"
      ],
      "metadata": {
        "id": "Nq5bKYcTdmwU"
      }
    },
    {
      "cell_type": "code",
      "source": [
        "import numpy as np\n",
        "\n",
        "arr = np.array([1, 2, 3, 4, 5])\n",
        "\n",
        "# Fancy indexing to select elements at indices 1 and 3\n",
        "print(arr[[1, 3, 4]])  # Output: [2 4]\n"
      ],
      "metadata": {
        "colab": {
          "base_uri": "https://localhost:8080/"
        },
        "id": "LzHdy2-VrFDJ",
        "outputId": "1b0a529a-e93f-4777-ea92-196bd0a9fa3a"
      },
      "execution_count": 2,
      "outputs": [
        {
          "output_type": "stream",
          "name": "stdout",
          "text": [
            "[2 4 5]\n"
          ]
        }
      ]
    },
    {
      "cell_type": "markdown",
      "source": [
        " **Reverse Indexing**\n",
        " arrays in NumPy support reverse indexing, similar to Python lists. Reverse indexing allows you to access elements from the end of the array using negative indices.\n",
        "\n",
        "For example, given an array arr, you can access the last element using -1, the second-to-last element using -2, and so on."
      ],
      "metadata": {
        "id": "mNyN_IbNrpOj"
      }
    },
    {
      "cell_type": "code",
      "source": [
        "import numpy as np\n",
        "\n",
        "arr = np.array([1, 2, 3, 4, 5])\n",
        "\n",
        "# Access the last element\n",
        "print(arr[-1])  # Output: 5\n",
        "\n",
        "# Access the second-to-last element\n",
        "print(arr[-2])  # Output: 4\n"
      ],
      "metadata": {
        "colab": {
          "base_uri": "https://localhost:8080/"
        },
        "id": "TE_HXldKr-Rl",
        "outputId": "c648e3bb-d7c4-41d6-97e6-6ec7c45d5a10"
      },
      "execution_count": 3,
      "outputs": [
        {
          "output_type": "stream",
          "name": "stdout",
          "text": [
            "5\n",
            "4\n"
          ]
        }
      ]
    },
    {
      "cell_type": "markdown",
      "source": [
        "**Slicing**\n",
        "Array slicing in NumPy refers to extracting a subset of elements from an array based on specified indices or ranges. It allows you to create views of the original array without making a copy, which is useful for efficiently working with large datasets."
      ],
      "metadata": {
        "id": "AMBiBgtbVQje"
      }
    },
    {
      "cell_type": "markdown",
      "source": [
        "**1D Arrays:**\n",
        "To slice a 1D array, you specify the start, stop, and step indices using the syntax array[start:stop:step].\n",
        "If you omit the start index, it defaults to 0. If you omit the stop index, it defaults to the end of the array. If you omit the step, it defaults to 1."
      ],
      "metadata": {
        "id": "QSWD2Hf4Vh9f"
      }
    },
    {
      "cell_type": "code",
      "source": [
        "import numpy as np\n",
        "\n",
        "arr = np.array([0, 1, 2, 3, 4, 5, 6, 7, 8, 9])\n",
        "\n",
        "# Slice from index 2 to 6 (exclusive) with a step of 2\n",
        "print(arr[2:6:2])  # Output: [2 4]\n"
      ],
      "metadata": {
        "colab": {
          "base_uri": "https://localhost:8080/"
        },
        "id": "ibRUFV_WVb86",
        "outputId": "3deed4a9-dd17-4fc0-c80d-1f5c1edc05b5"
      },
      "execution_count": 12,
      "outputs": [
        {
          "output_type": "stream",
          "name": "stdout",
          "text": [
            "[2 4]\n"
          ]
        }
      ]
    },
    {
      "cell_type": "code",
      "source": [
        "import numpy as np\n",
        "\n",
        "arr = np.array([0, 1, 2, 3, 4, 5, 6, 7, 8, 9])\n",
        "\n",
        "print(arr[2:6])"
      ],
      "metadata": {
        "colab": {
          "base_uri": "https://localhost:8080/"
        },
        "id": "n74DsbMhVqM8",
        "outputId": "ecf781e0-7e3b-4981-e1a7-a2f6a5f90e05"
      },
      "execution_count": 13,
      "outputs": [
        {
          "output_type": "stream",
          "name": "stdout",
          "text": [
            "[2 3 4 5]\n"
          ]
        }
      ]
    },
    {
      "cell_type": "markdown",
      "source": [
        "**2D Arrays:**\n",
        "For 2D arrays, you specify the row and column ranges separated by a comma.\n",
        "You can also use slicing to extract entire rows or columns."
      ],
      "metadata": {
        "id": "VsrsgA9rWBiL"
      }
    },
    {
      "cell_type": "code",
      "source": [
        "import numpy as np\n",
        "\n",
        "arr = np.array([[0, 1, 2], [3, 4, 5], [6, 7, 8]])\n",
        "\n",
        "# Slice rows 1 to 2 (exclusive) and columns 0 to 2 (exclusive)\n",
        "print(arr[1:2, 0:2])  # Output: [[3 4]]\n",
        "\n",
        "# Extract the second column\n",
        "print(arr[:, 1])  # Output: [1 4 7]\n"
      ],
      "metadata": {
        "colab": {
          "base_uri": "https://localhost:8080/"
        },
        "id": "q-BsvZAUWD-S",
        "outputId": "ee8fc6a9-2b54-4003-ac7f-535a3d4a259c"
      },
      "execution_count": 14,
      "outputs": [
        {
          "output_type": "stream",
          "name": "stdout",
          "text": [
            "[[3 4]]\n",
            "[1 4 7]\n"
          ]
        }
      ]
    },
    {
      "cell_type": "markdown",
      "source": [
        "**Indexing in multidimensional arrays**\n",
        "Indexing in multidimensional arrays in NumPy allows you to access individual elements, rows, columns, or subarrays using indices. Each dimension of the array has its own index, separated by commas."
      ],
      "metadata": {
        "id": "vIpwDLXxx5Rw"
      }
    },
    {
      "cell_type": "code",
      "source": [
        "import numpy as np\n",
        "\n",
        "arr = np.array([[1, 2, 3], [4, 5, 6], [7, 8, 9]])\n",
        "\n",
        "# Access element at row 1, column 2\n",
        "print(arr[1, 2])  # Output: 6\n"
      ],
      "metadata": {
        "colab": {
          "base_uri": "https://localhost:8080/"
        },
        "id": "Pcup1quXsCoY",
        "outputId": "536b6afa-7ecb-421e-d215-5f238a820326"
      },
      "execution_count": 4,
      "outputs": [
        {
          "output_type": "stream",
          "name": "stdout",
          "text": [
            "6\n"
          ]
        }
      ]
    },
    {
      "cell_type": "markdown",
      "source": [
        "**Accessing a Row or Column:**"
      ],
      "metadata": {
        "id": "By_Msqd10xTf"
      }
    },
    {
      "cell_type": "code",
      "source": [
        "import numpy as np\n",
        "\n",
        "arr = np.array([[1, 2, 3], [4, 5, 6], [7, 8, 9]])\n",
        "\n",
        "# Access the second row\n",
        "print(arr[1])  # Output: [4 5 6]\n",
        "\n",
        "# Access the third column\n",
        "print(arr[:, 2])  # Output: [3 6 9]\n"
      ],
      "metadata": {
        "colab": {
          "base_uri": "https://localhost:8080/"
        },
        "id": "MBdVuLYbraDI",
        "outputId": "31694e94-8f58-4c7d-a708-b988f6ee50f8"
      },
      "execution_count": 5,
      "outputs": [
        {
          "output_type": "stream",
          "name": "stdout",
          "text": [
            "[4 5 6]\n",
            "[3 6 9]\n"
          ]
        }
      ]
    },
    {
      "cell_type": "markdown",
      "source": [
        "**Accessing a Subarray:**"
      ],
      "metadata": {
        "id": "A5o0SXgQU7dO"
      }
    },
    {
      "cell_type": "code",
      "source": [
        "import numpy as np\n",
        "\n",
        "arr = np.array([[1, 2, 3], [4, 5, 6], [7, 8, 9]])\n",
        "\n",
        "# Access a 2x2 subarray from the top-left corner\n",
        "print(arr[:2, :2])  # Output: [[1 2]\n",
        "                    #          [4 5]]\n",
        "\n",
        "# Access a 2x2 subarray from the bottom-right corner\n",
        "print(arr[1:, 1:])  # Output: [[5 6]\n",
        "                    #          [8 9]]\n"
      ],
      "metadata": {
        "colab": {
          "base_uri": "https://localhost:8080/"
        },
        "id": "kthHM3Rg3dap",
        "outputId": "e04e0bd8-198c-40b7-bdeb-dc86ab92d4f0"
      },
      "execution_count": 11,
      "outputs": [
        {
          "output_type": "stream",
          "name": "stdout",
          "text": [
            "[[1 2]\n",
            " [4 5]]\n",
            "[[5 6]\n",
            " [8 9]]\n"
          ]
        }
      ]
    },
    {
      "cell_type": "markdown",
      "source": [
        "**Using Slicing with Steps:**"
      ],
      "metadata": {
        "id": "YtwPxulaWg5k"
      }
    },
    {
      "cell_type": "code",
      "source": [
        "import numpy as np\n",
        "\n",
        "arr = np.array([[1, 2, 3], [4, 5, 6], [7, 8, 9]])\n",
        "\n",
        "# Access every other element in the first row\n",
        "print(arr[0, ::2])  # Output: [1 3]\n",
        "\n",
        "# Access every other row and every other element in those rows\n",
        "print(arr[::2, ::2])  # Output: [[1 3]\n",
        "                       #          [7 9]]\n"
      ],
      "metadata": {
        "colab": {
          "base_uri": "https://localhost:8080/"
        },
        "id": "YxvktjtqWi-l",
        "outputId": "18d77146-a3ec-4fdb-dc17-96444dcdd965"
      },
      "execution_count": 15,
      "outputs": [
        {
          "output_type": "stream",
          "name": "stdout",
          "text": [
            "[1 3]\n",
            "[[1 3]\n",
            " [7 9]]\n"
          ]
        }
      ]
    },
    {
      "cell_type": "markdown",
      "source": [
        "**Using Negative Indices:**"
      ],
      "metadata": {
        "id": "AamNTvR8WoXY"
      }
    },
    {
      "cell_type": "code",
      "source": [
        "import numpy as np\n",
        "\n",
        "arr = np.array([[1, 2, 3], [4, 5, 6], [7, 8, 9]])\n",
        "\n",
        "# Access the last element in the last row\n",
        "print(arr[-1, -1])  # Output: 9\n"
      ],
      "metadata": {
        "colab": {
          "base_uri": "https://localhost:8080/"
        },
        "id": "3tEwYoaRWr_T",
        "outputId": "f19f3526-729d-4941-fd8b-1ed8e989e699"
      },
      "execution_count": 16,
      "outputs": [
        {
          "output_type": "stream",
          "name": "stdout",
          "text": [
            "9\n"
          ]
        }
      ]
    }
  ]
}