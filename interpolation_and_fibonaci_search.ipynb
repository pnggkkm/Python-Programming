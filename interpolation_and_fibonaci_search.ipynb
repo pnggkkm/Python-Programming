{
  "nbformat": 4,
  "nbformat_minor": 0,
  "metadata": {
    "colab": {
      "provenance": [],
      "authorship_tag": "ABX9TyPmime/ucibwp+1OjMqhSPU",
      "include_colab_link": true
    },
    "kernelspec": {
      "name": "python3",
      "display_name": "Python 3"
    },
    "language_info": {
      "name": "python"
    }
  },
  "cells": [
    {
      "cell_type": "markdown",
      "metadata": {
        "id": "view-in-github",
        "colab_type": "text"
      },
      "source": [
        "<a href=\"https://colab.research.google.com/github/pnggkkm/Python-Programming/blob/main/interpolation_and_fibonaci_search.ipynb\" target=\"_parent\"><img src=\"https://colab.research.google.com/assets/colab-badge.svg\" alt=\"Open In Colab\"/></a>"
      ]
    },
    {
      "cell_type": "code",
      "execution_count": 1,
      "metadata": {
        "colab": {
          "base_uri": "https://localhost:8080/"
        },
        "id": "wX2kENA-6JPO",
        "outputId": "733109bb-d3eb-4ea8-eb80-6a790d7f19a3"
      },
      "outputs": [
        {
          "output_type": "stream",
          "name": "stdout",
          "text": [
            "Found 22 at index 2\n"
          ]
        }
      ],
      "source": [
        "def interpolation_search(arr, target):\n",
        "    low = 0\n",
        "    high = len(arr) - 1\n",
        "\n",
        "    while low <= high and arr[low] <= target <= arr[high]:\n",
        "        if low == high:\n",
        "            if arr[low] == target:\n",
        "                return low\n",
        "            return -1\n",
        "\n",
        "        pos = low + ((target - arr[low]) * (high - low)) // (arr[high] - arr[low])\n",
        "\n",
        "        if arr[pos] == target:\n",
        "            return pos\n",
        "        elif arr[pos] < target:\n",
        "            low = pos + 1\n",
        "        else:\n",
        "            high = pos - 1\n",
        "\n",
        "    return -1\n",
        "\n",
        "# Example usage\n",
        "arr = [5, 12, 22, 33, 39, 42, 46, 55, 60, 63]\n",
        "target = 22\n",
        "result = interpolation_search(arr, target)\n",
        "\n",
        "if result != -1:\n",
        "    print(f\"Found {target} at index {result}\")\n",
        "else:\n",
        "    print(f\"{target} not found in the array\")\n"
      ]
    },
    {
      "cell_type": "code",
      "source": [
        "def fibonacci_search(arr, n, key):\n",
        "   offset = -1\n",
        "   Fm2 = 0\n",
        "   Fm1 = 1\n",
        "   Fm = Fm2 + Fm1\n",
        "   while (Fm < n):\n",
        "      Fm2 = Fm1\n",
        "      Fm1 = Fm\n",
        "      Fm = Fm2 + Fm1\n",
        "   while (Fm > 1):\n",
        "      i = min(offset + Fm2, n - 1)\n",
        "      if (arr[i] < key):\n",
        "         Fm = Fm1\n",
        "         Fm1 = Fm2\n",
        "         Fm2 = Fm - Fm1\n",
        "         offset = i\n",
        "      elif (arr[i] > key):\n",
        "         Fm = Fm2\n",
        "         Fm1 = Fm1 - Fm2\n",
        "         Fm2 = Fm - Fm1\n",
        "      else:\n",
        "         return i\n",
        "   if (Fm1 == 1 and arr[offset + 1] == key):\n",
        "      return offset + 1\n",
        "   return -1\n",
        "arr = [12, 14, 16, 17, 20, 24, 31, 43, 50, 62]\n",
        "print(\"Array elements are: \")\n",
        "for j in range(len(arr)):\n",
        "   print(arr[j], end = \" \")\n",
        "n = len(arr);\n",
        "key = 20\n",
        "print(\"\\nThe element to be searched:\", key)\n",
        "index = fibonacci_search(arr, n, key)\n",
        "if(index >= 0):\n",
        "   print(\"The element is found at index: \", (index))\n",
        "else:\n",
        "   print(\"Unsuccessful Search\")"
      ],
      "metadata": {
        "id": "lm-u06QvPzoi"
      },
      "execution_count": null,
      "outputs": []
    }
  ]
}