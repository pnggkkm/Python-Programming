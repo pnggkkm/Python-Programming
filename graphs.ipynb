{
  "nbformat": 4,
  "nbformat_minor": 0,
  "metadata": {
    "colab": {
      "provenance": [],
      "authorship_tag": "ABX9TyMEO1xCBf2vyFg/MloFplu0",
      "include_colab_link": true
    },
    "kernelspec": {
      "name": "python3",
      "display_name": "Python 3"
    },
    "language_info": {
      "name": "python"
    }
  },
  "cells": [
    {
      "cell_type": "markdown",
      "metadata": {
        "id": "view-in-github",
        "colab_type": "text"
      },
      "source": [
        "<a href=\"https://colab.research.google.com/github/pnggkkm/Python-Programming/blob/main/graphs.ipynb\" target=\"_parent\"><img src=\"https://colab.research.google.com/assets/colab-badge.svg\" alt=\"Open In Colab\"/></a>"
      ]
    },
    {
      "cell_type": "code",
      "source": [
        "g={\"a\":1,\"b\":1,\"c\":1}\n",
        "print(g)"
      ],
      "metadata": {
        "colab": {
          "base_uri": "https://localhost:8080/"
        },
        "id": "SiRZOkbaLaOS",
        "outputId": "26ed9190-1990-4f96-f7ef-303df3dcf78e"
      },
      "execution_count": null,
      "outputs": [
        {
          "output_type": "stream",
          "name": "stdout",
          "text": [
            "{'a': 1, 'b': 1, 'c': 1}\n"
          ]
        }
      ]
    },
    {
      "cell_type": "code",
      "source": [
        "print(g[\"c\"])"
      ],
      "metadata": {
        "colab": {
          "base_uri": "https://localhost:8080/"
        },
        "id": "vwSyww9vME68",
        "outputId": "31f3e1f5-7c65-4084-b602-cbb672eb7ade"
      },
      "execution_count": null,
      "outputs": [
        {
          "output_type": "stream",
          "name": "stdout",
          "text": [
            "1\n"
          ]
        }
      ]
    },
    {
      "cell_type": "code",
      "source": [
        "g[\"d\"]=10"
      ],
      "metadata": {
        "id": "cevEMY7AMTxD"
      },
      "execution_count": null,
      "outputs": []
    },
    {
      "cell_type": "code",
      "source": [
        "print(g)"
      ],
      "metadata": {
        "colab": {
          "base_uri": "https://localhost:8080/"
        },
        "id": "YwlHPTifMa2c",
        "outputId": "a8dc17d5-f433-483f-886d-8d84e8a1d3ba"
      },
      "execution_count": null,
      "outputs": [
        {
          "output_type": "stream",
          "name": "stdout",
          "text": [
            "{'a': 1, 'b': 1, 'c': 1, 'd': 10}\n"
          ]
        }
      ]
    },
    {
      "cell_type": "code",
      "source": [
        "print(g.keys())"
      ],
      "metadata": {
        "colab": {
          "base_uri": "https://localhost:8080/"
        },
        "id": "vSMpIJH_P9q7",
        "outputId": "22399b48-34b7-4386-8f30-3b37b867d6d3"
      },
      "execution_count": null,
      "outputs": [
        {
          "output_type": "stream",
          "name": "stdout",
          "text": [
            "dict_keys(['a', 'b', 'c'])\n"
          ]
        }
      ]
    },
    {
      "cell_type": "code",
      "source": [
        "g[\"e\"]=[10,20]"
      ],
      "metadata": {
        "id": "lmYD1G4PMiN5"
      },
      "execution_count": null,
      "outputs": []
    },
    {
      "cell_type": "code",
      "source": [
        "print(g)"
      ],
      "metadata": {
        "colab": {
          "base_uri": "https://localhost:8080/"
        },
        "id": "HVbTO3_vMo5Z",
        "outputId": "b816977d-2584-43b5-bb2a-cc0d04340867"
      },
      "execution_count": null,
      "outputs": [
        {
          "output_type": "stream",
          "name": "stdout",
          "text": [
            "{'a': 1, 'b': 1, 'c': 1, 'd': 10, 'e': [10, 20]}\n"
          ]
        }
      ]
    },
    {
      "cell_type": "code",
      "execution_count": null,
      "metadata": {
        "colab": {
          "base_uri": "https://localhost:8080/"
        },
        "id": "AUDqQraH260u",
        "outputId": "be74f718-1c82-4574-a12c-09558c052247"
      },
      "outputs": [
        {
          "output_type": "stream",
          "name": "stdout",
          "text": [
            "{'a': ['b', 'c'], 'b': ['a', 'd'], 'c': ['a', 'd'], 'd': ['e'], 'e': ['d']}\n",
            "dict_keys(['a', 'b', 'c', 'd', 'e'])\n"
          ]
        }
      ],
      "source": [
        "graph = {\n",
        "   \"a\" : [\"b\",\"c\"],\n",
        "   \"b\" : [\"a\", \"d\"],\n",
        "   \"c\" : [\"a\", \"d\"],\n",
        "   \"d\" : [\"e\"],\n",
        "   \"e\" : [\"d\"]\n",
        "}\n",
        "# Print the graph\n",
        "print(graph)\n",
        "print(graph.keys())"
      ]
    },
    {
      "cell_type": "code",
      "source": [
        "class graph:\n",
        "   def __init__(self,g1):\n",
        "      self.gdict = g1\n",
        "# Get the keys of the dictionary\n",
        "   def getVertices(self):\n",
        "      return list(self.gdict.keys())\n",
        "# Create the dictionary with graph elements\n",
        "graph_elements = {\n",
        "   \"a\" : [\"b\",\"c\"],\n",
        "   \"b\" : [\"a\", \"d\"],\n",
        "   \"c\" : [\"a\", \"d\"],\n",
        "   \"d\" : [\"e\"],\n",
        "   \"e\" : [\"d\"]\n",
        "}\n",
        "g = graph(graph_elements)\n",
        "print(g.getVertices())"
      ],
      "metadata": {
        "colab": {
          "base_uri": "https://localhost:8080/"
        },
        "id": "cBpzp7qf3cea",
        "outputId": "303e689d-9e56-4cc1-fe4d-8af5f703b061"
      },
      "execution_count": null,
      "outputs": [
        {
          "output_type": "stream",
          "name": "stdout",
          "text": [
            "['a', 'b', 'c', 'd', 'e']\n"
          ]
        }
      ]
    },
    {
      "cell_type": "code",
      "source": [
        "class graph:\n",
        "   def __init__(self,g):\n",
        "      self.gdict = g\n",
        "\n",
        "   def edges(self):\n",
        "      return self.findedges()\n",
        "# Find the distinct list of edges\n",
        "   def findedges(self):\n",
        "      edgename = []\n",
        "      for vrtx in self.gdict:\n",
        "         for ele in self.gdict[vrtx]:\n",
        "            if {ele, vrtx} not in edgename:\n",
        "               edgename.append({vrtx, ele})\n",
        "      return edgename\n",
        "# Create the dictionary with graph elements\n",
        "graph_elements = {\n",
        "   \"a\" : [\"b\",\"c\"],\n",
        "   \"b\" : [\"a\", \"d\"],\n",
        "   \"c\" : [\"a\", \"d\"],\n",
        "   \"d\" : [\"e\"],\n",
        "   \"e\" : [\"d\"]\n",
        "}\n",
        "g = graph(graph_elements)\n",
        "print(g.edges())"
      ],
      "metadata": {
        "colab": {
          "base_uri": "https://localhost:8080/"
        },
        "id": "4zdrj9tN4DKu",
        "outputId": "49bda4aa-4011-422a-877d-f18000742f8a"
      },
      "execution_count": null,
      "outputs": [
        {
          "output_type": "stream",
          "name": "stdout",
          "text": [
            "[{'b', 'a'}, {'a', 'c'}, {'b', 'd'}, {'d', 'c'}, {'e', 'd'}]\n"
          ]
        }
      ]
    },
    {
      "cell_type": "code",
      "source": [
        "graph_elements = {\n",
        "   \"a\" : [\"b\",\"c\"],\n",
        "   \"b\" : [\"a\", \"d\"],\n",
        "   \"c\" : [\"a\", \"d\"],\n",
        "   \"d\" : [\"e\"],\n",
        "   \"e\" : [\"d\"]\n",
        "}\n",
        "for vrtx in graph_elements:\n",
        "  print(vrtx)"
      ],
      "metadata": {
        "colab": {
          "base_uri": "https://localhost:8080/"
        },
        "id": "h2OkFkwi7Jah",
        "outputId": "1d89abf4-2a27-4d63-c4b5-80bbaad59a83"
      },
      "execution_count": null,
      "outputs": [
        {
          "output_type": "stream",
          "name": "stdout",
          "text": [
            "a\n",
            "b\n",
            "c\n",
            "d\n",
            "e\n"
          ]
        }
      ]
    },
    {
      "cell_type": "code",
      "source": [
        "graph_elements = {\n",
        "   \"a\" : [\"b\",\"c\"],\n",
        "   \"b\" : [\"a\", \"d\"],\n",
        "   \"c\" : [\"a\", \"d\"],\n",
        "   \"d\" : [\"e\"],\n",
        "   \"e\" : [\"d\"]\n",
        "}\n",
        "for vrtx in graph_elements:\n",
        "  for ele in graph_elements[vrtx]:\n",
        "    print(ele, end=\"\")\n",
        "  print()"
      ],
      "metadata": {
        "colab": {
          "base_uri": "https://localhost:8080/"
        },
        "id": "m6yPf7FJ7Z0C",
        "outputId": "2e29d43f-efb8-4d5f-9683-ac2cad4b7556"
      },
      "execution_count": null,
      "outputs": [
        {
          "output_type": "stream",
          "name": "stdout",
          "text": [
            "bc\n",
            "ad\n",
            "ad\n",
            "e\n",
            "d\n"
          ]
        }
      ]
    },
    {
      "cell_type": "code",
      "source": [
        "graph_elements = {\n",
        "   \"a\" : [\"b\",\"c\"],\n",
        "   \"b\" : [\"a\", \"d\"],\n",
        "   \"c\" : [\"a\", \"d\"],\n",
        "   \"d\" : [\"e\"],\n",
        "   \"e\" : [\"d\"]\n",
        "}\n",
        "for vrtx in graph_elements:\n",
        "  for ele in graph_elements[vrtx]:\n",
        "    print(ele, end=\"\")\n",
        "  print()\n",
        "\n",
        "graph_elements[\"f\"]=[]"
      ],
      "metadata": {
        "colab": {
          "base_uri": "https://localhost:8080/"
        },
        "id": "NpvacbAq-fSF",
        "outputId": "ef81cb7a-81a2-41e5-aa40-eedf7c9fd105"
      },
      "execution_count": null,
      "outputs": [
        {
          "output_type": "stream",
          "name": "stdout",
          "text": [
            "bc\n",
            "ad\n",
            "ad\n",
            "e\n",
            "d\n"
          ]
        }
      ]
    },
    {
      "cell_type": "code",
      "source": [
        "class graph:\n",
        "   def __init__(self,g):\n",
        "      self.gdict = g\n",
        "   def getVertices(self):\n",
        "      return list(self.gdict.keys())\n",
        "# Add the vertex as a key\n",
        "   def addVertex(self, vrtx):\n",
        "      if vrtx not in self.gdict:\n",
        "         self.gdict[vrtx] = []\n",
        "# Create the dictionary with graph elements\n",
        "graph_elements = {\n",
        "   \"a\" : [\"b\",\"c\"],\n",
        "   \"b\" : [\"a\", \"d\"],\n",
        "   \"c\" : [\"a\", \"d\"],\n",
        "   \"d\" : [\"e\"],\n",
        "   \"e\" : [\"d\"]\n",
        "}\n",
        "g = graph(graph_elements)\n",
        "g.addVertex(\"f\")\n",
        "print(g.getVertices())\n",
        "print(graph_elements[\"a\"])"
      ],
      "metadata": {
        "colab": {
          "base_uri": "https://localhost:8080/"
        },
        "id": "H8jXLMvx8ASS",
        "outputId": "7139438e-a18e-4be9-efc2-a3a8f970a856"
      },
      "execution_count": null,
      "outputs": [
        {
          "output_type": "stream",
          "name": "stdout",
          "text": [
            "['a', 'b', 'c', 'd', 'e', 'f']\n",
            "['b', 'c']\n"
          ]
        }
      ]
    },
    {
      "cell_type": "code",
      "source": [
        "{5,10}=={10,5}"
      ],
      "metadata": {
        "colab": {
          "base_uri": "https://localhost:8080/"
        },
        "id": "cp4tmGZQ_jsr",
        "outputId": "3f5c46c6-3728-4952-ce3b-c06466fef953"
      },
      "execution_count": null,
      "outputs": [
        {
          "output_type": "execute_result",
          "data": {
            "text/plain": [
              "True"
            ]
          },
          "metadata": {},
          "execution_count": 7
        }
      ]
    },
    {
      "cell_type": "code",
      "source": [
        "class graph:\n",
        "   def __init__(self,g):\n",
        "      self.gdict = g\n",
        "   def edges(self):\n",
        "      return self.findedges()\n",
        "# Add the new edge\n",
        "   def AddEdge(self, edge):\n",
        "      (vrtx1, vrtx2) = tuple(edge)\n",
        "      if vrtx1 in self.gdict:\n",
        "         self.gdict[vrtx1].append(vrtx2)\n",
        "      else:\n",
        "         self.gdict[vrtx1] = [vrtx2]\n",
        "# List the edge names\n",
        "   def findedges(self):\n",
        "      edgename = []\n",
        "      for vrtx in self.gdict:\n",
        "         for nxtvrtx in self.gdict[vrtx]:\n",
        "            if {nxtvrtx, vrtx} not in edgename:\n",
        "               edgename.append({vrtx, nxtvrtx})\n",
        "      return edgename\n",
        "# Create the dictionary with graph elements\n",
        "graph_elements = {\n",
        "   \"a\" : [\"b\",\"c\"],\n",
        "   \"b\" : [\"a\", \"d\"],\n",
        "   \"c\" : [\"a\", \"d\"],\n",
        "   \"d\" : [\"e\"],\n",
        "   \"e\" : [\"d\"]\n",
        "}\n",
        "g = graph(graph_elements)\n",
        "g.AddEdge({'a','e'})\n",
        "g.AddEdge({'a','d'})\n",
        "print(g.edges())\n",
        "print(graph_elements[\"a\"])"
      ],
      "metadata": {
        "colab": {
          "base_uri": "https://localhost:8080/"
        },
        "id": "F7mamiu7AHB_",
        "outputId": "73be3da2-8360-4328-ecda-34776e78fce8"
      },
      "execution_count": null,
      "outputs": [
        {
          "output_type": "stream",
          "name": "stdout",
          "text": [
            "[{'a', 'b'}, {'a', 'c'}, {'a', 'e'}, {'a', 'd'}, {'b', 'd'}, {'d', 'c'}, {'d', 'e'}]\n",
            "['b', 'c', 'e', 'd']\n"
          ]
        }
      ]
    },
    {
      "cell_type": "code",
      "source": [
        "gdict[\"a\"]"
      ],
      "metadata": {
        "id": "WtkR9hG3X8eE"
      },
      "execution_count": null,
      "outputs": []
    },
    {
      "cell_type": "code",
      "source": [
        "s={\"a\",\"b\"}\n",
        "t=tuple(s)\n",
        "print(t)\n",
        "(t1,t2)=tuple(s)\n",
        "print(t1)\n",
        "print(t2)"
      ],
      "metadata": {
        "colab": {
          "base_uri": "https://localhost:8080/"
        },
        "id": "jzL5MU36WOp7",
        "outputId": "6ea6ba87-e99e-499c-dfd9-c3e6c1c15cd4"
      },
      "execution_count": null,
      "outputs": [
        {
          "output_type": "stream",
          "name": "stdout",
          "text": [
            "('b', 'a')\n",
            "b\n",
            "a\n"
          ]
        }
      ]
    },
    {
      "cell_type": "code",
      "source": [
        "graph_elements = {\n",
        "   \"a\" : [\"b\",\"c\"],\n",
        "   \"b\" : [\"a\", \"d\"],\n",
        "   \"c\" : [\"a\", \"d\"],\n",
        "   \"d\" : [\"e\"],\n",
        "   \"e\" : [\"d\"]\n",
        "}\n",
        "for vrtx in graph_elements:\n",
        "  for ele in graph_elements[vrtx]:\n",
        "    print(ele, end=\"\")\n",
        "  print()\n",
        "\n",
        "graph_elements[\"f\"]=[]\n",
        "graph_elements[\"f\"].append([\"e\",\"d\"])\n",
        "print(\"After adding f\")\n",
        "for vrtx in graph_elements:\n",
        "  for ele in graph_elements[vrtx]:\n",
        "    print(ele, end=\"\")\n",
        "  print()"
      ],
      "metadata": {
        "colab": {
          "base_uri": "https://localhost:8080/"
        },
        "id": "imRQpMCHHXXj",
        "outputId": "ef098a4b-2bb1-4dc0-93ab-7e010318b1b2"
      },
      "execution_count": null,
      "outputs": [
        {
          "output_type": "stream",
          "name": "stdout",
          "text": [
            "bc\n",
            "ad\n",
            "ad\n",
            "e\n",
            "d\n",
            "After adding f\n",
            "bc\n",
            "ad\n",
            "ad\n",
            "e\n",
            "d\n",
            "['e', 'd']\n"
          ]
        }
      ]
    },
    {
      "cell_type": "code",
      "source": [
        "l=[10,20,30,40,50,60,70]\n",
        "print(l.pop())"
      ],
      "metadata": {
        "colab": {
          "base_uri": "https://localhost:8080/"
        },
        "id": "ZC6LcW3gKzmY",
        "outputId": "319c8475-f471-4692-8370-69bfc8a05de0"
      },
      "execution_count": null,
      "outputs": [
        {
          "output_type": "stream",
          "name": "stdout",
          "text": [
            "70\n"
          ]
        }
      ]
    },
    {
      "cell_type": "code",
      "source": [
        "print(l)"
      ],
      "metadata": {
        "colab": {
          "base_uri": "https://localhost:8080/"
        },
        "id": "NybKX0ePK9q6",
        "outputId": "f066fe94-b6dc-43e3-f796-e68eb164de6f"
      },
      "execution_count": null,
      "outputs": [
        {
          "output_type": "stream",
          "name": "stdout",
          "text": [
            "[10, 20, 30, 40, 50, 60]\n"
          ]
        }
      ]
    },
    {
      "cell_type": "code",
      "source": [
        "queue =[10,20,30,40,50]\n",
        "print(queue.pop(0))\n",
        "print(queue)"
      ],
      "metadata": {
        "colab": {
          "base_uri": "https://localhost:8080/"
        },
        "id": "ZpT_aClu_8ea",
        "outputId": "d9448962-924e-4e3a-96e4-19c00e2c0d50"
      },
      "execution_count": null,
      "outputs": [
        {
          "output_type": "stream",
          "name": "stdout",
          "text": [
            "10\n",
            "[20, 30, 40, 50]\n"
          ]
        }
      ]
    },
    {
      "cell_type": "code",
      "source": [
        "graph = {\n",
        "    'A': ['B', 'C', 'D'],\n",
        "    'B': ['A'],\n",
        "    'C': ['A', 'D'],\n",
        "    'D': ['A', 'C', 'E'],\n",
        "    'E': ['D'],\n",
        "}\n",
        "def bfs(node):\n",
        "    visited = []\n",
        "    queue = []\n",
        "    visited.append(node)\n",
        "    queue.append(node)\n",
        "    while queue:\n",
        "        v = queue.pop(0)\n",
        "        print(v, end=\" \")\n",
        "        for neigh in graph[v]:\n",
        "            if neigh not in visited:\n",
        "                visited.append(neigh)\n",
        "                queue.append(neigh)\n",
        "bfs('A')"
      ],
      "metadata": {
        "colab": {
          "base_uri": "https://localhost:8080/"
        },
        "id": "AYQ7sXBaWwLl",
        "outputId": "3ba0edfc-3b03-469b-c062-ab5b76959b63"
      },
      "execution_count": null,
      "outputs": [
        {
          "output_type": "stream",
          "name": "stdout",
          "text": [
            "A B C D E "
          ]
        }
      ]
    },
    {
      "cell_type": "code",
      "source": [
        "visited = [False]*5\n",
        "print(visited)"
      ],
      "metadata": {
        "colab": {
          "base_uri": "https://localhost:8080/"
        },
        "id": "gZrjk4YXaGL7",
        "outputId": "54f4c0a3-d36e-438b-e52a-858c77f6b66c"
      },
      "execution_count": null,
      "outputs": [
        {
          "output_type": "stream",
          "name": "stdout",
          "text": [
            "[False, False, False, False, False]\n"
          ]
        }
      ]
    },
    {
      "cell_type": "code",
      "source": [
        "def dfs(node, graph, visited, component):\n",
        "    component.append(node)  # Store answer\n",
        "    visited[node] = True  # Mark visited\n",
        "\n",
        "    # Traverse to each adjacent node of a node\n",
        "    for child in graph[node]:\n",
        "        if not visited[child]:  # Check whether the node is visited or not\n",
        "            dfs(child, graph, visited, component)  # Call the dfs recursively\n",
        "\n",
        "graph = {\n",
        "        0: [2],\n",
        "        1: [2, 3],\n",
        "        2: [0, 1, 4],\n",
        "        3: [1, 4],\n",
        "        4: [2, 3]\n",
        "    }\n",
        "node = 0  # Starting node\n",
        "visited = [False]*len(graph)  # Make all nodes to False initially\n",
        "component = []\n",
        "dfs(node, graph, visited, component)  # Traverse to each node of a graph\n",
        "print(f\"Following is the Depth-first search: {component}\")  # Print the answer\n"
      ],
      "metadata": {
        "colab": {
          "base_uri": "https://localhost:8080/"
        },
        "id": "_MCb_yYjFE4X",
        "outputId": "80953f99-a121-47f8-95be-5dc460affdfe"
      },
      "execution_count": null,
      "outputs": [
        {
          "output_type": "stream",
          "name": "stdout",
          "text": [
            "Following is the Depth-first search: [0, 2, 1, 3, 4]\n"
          ]
        }
      ]
    }
  ]
}