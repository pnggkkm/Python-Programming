{
  "nbformat": 4,
  "nbformat_minor": 0,
  "metadata": {
    "colab": {
      "provenance": [],
      "authorship_tag": "ABX9TyPXnqHgR3DMH/hgsAdvFUdw",
      "include_colab_link": true
    },
    "kernelspec": {
      "name": "python3",
      "display_name": "Python 3"
    },
    "language_info": {
      "name": "python"
    }
  },
  "cells": [
    {
      "cell_type": "markdown",
      "metadata": {
        "id": "view-in-github",
        "colab_type": "text"
      },
      "source": [
        "<a href=\"https://colab.research.google.com/github/pnggkkm/Python-Programming/blob/main/Sentinel_search_and_Binary_Search.ipynb\" target=\"_parent\"><img src=\"https://colab.research.google.com/assets/colab-badge.svg\" alt=\"Open In Colab\"/></a>"
      ]
    },
    {
      "cell_type": "code",
      "execution_count": null,
      "metadata": {
        "id": "osAHoyHei3-_"
      },
      "outputs": [],
      "source": [
        "def sentinelsearch(l,target):\n",
        "  l.append(target)\n",
        "  i=0\n",
        "  while(l[i]!=target):\n",
        "    i=i+1\n",
        "  l.pop()\n",
        "  if(i<len(l)):\n",
        "    return(i)\n",
        "  else:\n",
        "    return(-1)\n",
        "l=[5,10,15,20,25,30]\n",
        "target=20\n",
        "index=sentinelsearch(l,target)\n",
        "if(index==-1):\n",
        "  print(\"Element not found\")\n",
        "else:\n",
        "  print(\"Element found in index\", index)"
      ]
    },
    {
      "cell_type": "code",
      "source": [
        "def binarysearch(l,target):\n",
        "  low=0\n",
        "  high=len(l)-1\n",
        "  while(low<=high):\n",
        "    midindex=(low+high)//2\n",
        "    if(l[midindex]==target):\n",
        "      return midindex\n",
        "    elif (l[midindex]<target):\n",
        "      low=midindex+1\n",
        "    else:\n",
        "      high=midindex-1\n",
        "  return -1\n",
        "a=[2,5,7,12,15,20,25,30]\n",
        "target= 18\n",
        "index=binarysearch(a,target)\n",
        "if(index==-1):\n",
        "  print(\"Element not found\")\n",
        "else:\n",
        "  print(\"Element found in index\", index)"
      ],
      "metadata": {
        "id": "fR69_Wtxi8I2"
      },
      "execution_count": null,
      "outputs": []
    }
  ]
}