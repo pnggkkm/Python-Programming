{
  "nbformat": 4,
  "nbformat_minor": 0,
  "metadata": {
    "colab": {
      "provenance": [],
      "authorship_tag": "ABX9TyMvJpqcF24R9RkVAycC/utD",
      "include_colab_link": true
    },
    "kernelspec": {
      "name": "python3",
      "display_name": "Python 3"
    },
    "language_info": {
      "name": "python"
    }
  },
  "cells": [
    {
      "cell_type": "markdown",
      "metadata": {
        "id": "view-in-github",
        "colab_type": "text"
      },
      "source": [
        "<a href=\"https://colab.research.google.com/github/pnggkkm/Python-Programming/blob/main/inheritance.ipynb\" target=\"_parent\"><img src=\"https://colab.research.google.com/assets/colab-badge.svg\" alt=\"Open In Colab\"/></a>"
      ]
    },
    {
      "cell_type": "code",
      "execution_count": 1,
      "metadata": {
        "colab": {
          "base_uri": "https://localhost:8080/"
        },
        "id": "Z79viJqtnMBA",
        "outputId": "0570e656-a680-4597-80b6-03bbe185d259"
      },
      "outputs": [
        {
          "output_type": "stream",
          "name": "stdout",
          "text": [
            "Base class function\n"
          ]
        }
      ],
      "source": [
        "class base:\n",
        "  def base_func(self):\n",
        "    print(\"Base class function\")\n",
        "\n",
        "b1=base()\n",
        "b1.base_func()"
      ]
    },
    {
      "cell_type": "markdown",
      "source": [
        "**syntax for deriving a class from another**\n",
        "class baseclassname:\n",
        "\n",
        "class derivedclassname(baseclassname):\n",
        "\n",
        "all the propoerties of the base class can be accessed with the help of the derived class object"
      ],
      "metadata": {
        "id": "yGL4qJxOfo3k"
      }
    },
    {
      "cell_type": "code",
      "source": [
        "class base:\n",
        "  def base_func(self):\n",
        "    print(\"Base class function\")\n",
        "\n",
        "class derived(base):  #class derived is inherited from the class base\n",
        "  def derv_func(self):\n",
        "    print(\"Derived class function\")\n",
        "\n",
        "d1=derived()  #object created for derived class\n",
        "d1.base_func()\n",
        "d1.derv_func()"
      ],
      "metadata": {
        "colab": {
          "base_uri": "https://localhost:8080/"
        },
        "id": "_MMy_yzqoGRv",
        "outputId": "ac0df39e-b6dd-4b25-fcf9-fde254055dae"
      },
      "execution_count": 2,
      "outputs": [
        {
          "output_type": "stream",
          "name": "stdout",
          "text": [
            "Base class function\n",
            "Derived class function\n"
          ]
        }
      ]
    },
    {
      "cell_type": "code",
      "source": [
        "class x:\n",
        "  def display(self):\n",
        "    print(\"Hello\")\n",
        "\n",
        "class y(x):\n",
        "  def display1(self):\n",
        "    print(\"in derived\")\n",
        "\n",
        "y1=y()\n",
        "y1.display()\n",
        "y1.display1()"
      ],
      "metadata": {
        "colab": {
          "base_uri": "https://localhost:8080/"
        },
        "id": "Yozbxc5zpdmp",
        "outputId": "8980a433-47f2-4b96-f45f-c9033ee5e509"
      },
      "execution_count": 6,
      "outputs": [
        {
          "output_type": "stream",
          "name": "stdout",
          "text": [
            "Hello\n",
            "in derived\n"
          ]
        }
      ]
    },
    {
      "cell_type": "markdown",
      "source": [
        "**object of the base class cannot be used to access the properties of the derived class**"
      ],
      "metadata": {
        "id": "rHKEQfp3gKaJ"
      }
    },
    {
      "cell_type": "code",
      "source": [
        "class base:\n",
        "  def base_func(self):\n",
        "    print(\"Base class function\")\n",
        "\n",
        "class derived(base):\n",
        "  def derv_func(self):\n",
        "    print(\"Derived class function\")\n",
        "\n",
        "d1=derived()\n",
        "d1.base_func()\n",
        "d1.derv_func()\n",
        "b1=base()\n",
        "b1.base_func()\n",
        "b1.derv_func()"
      ],
      "metadata": {
        "colab": {
          "base_uri": "https://localhost:8080/",
          "height": 263
        },
        "id": "ykcmsBN8gK3p",
        "outputId": "b07b60bf-5040-4700-e6bd-d04e396a6337"
      },
      "execution_count": 4,
      "outputs": [
        {
          "output_type": "stream",
          "name": "stdout",
          "text": [
            "Base class function\n",
            "Derived class function\n",
            "Base class function\n"
          ]
        },
        {
          "output_type": "error",
          "ename": "AttributeError",
          "evalue": "'base' object has no attribute 'derv_func'",
          "traceback": [
            "\u001b[0;31m---------------------------------------------------------------------------\u001b[0m",
            "\u001b[0;31mAttributeError\u001b[0m                            Traceback (most recent call last)",
            "\u001b[0;32m<ipython-input-4-dc156d4f45e0>\u001b[0m in \u001b[0;36m<cell line: 14>\u001b[0;34m()\u001b[0m\n\u001b[1;32m     12\u001b[0m \u001b[0mb1\u001b[0m\u001b[0;34m=\u001b[0m\u001b[0mbase\u001b[0m\u001b[0;34m(\u001b[0m\u001b[0;34m)\u001b[0m\u001b[0;34m\u001b[0m\u001b[0;34m\u001b[0m\u001b[0m\n\u001b[1;32m     13\u001b[0m \u001b[0mb1\u001b[0m\u001b[0;34m.\u001b[0m\u001b[0mbase_func\u001b[0m\u001b[0;34m(\u001b[0m\u001b[0;34m)\u001b[0m\u001b[0;34m\u001b[0m\u001b[0;34m\u001b[0m\u001b[0m\n\u001b[0;32m---> 14\u001b[0;31m \u001b[0mb1\u001b[0m\u001b[0;34m.\u001b[0m\u001b[0mderv_func\u001b[0m\u001b[0;34m(\u001b[0m\u001b[0;34m)\u001b[0m\u001b[0;34m\u001b[0m\u001b[0;34m\u001b[0m\u001b[0m\n\u001b[0m",
            "\u001b[0;31mAttributeError\u001b[0m: 'base' object has no attribute 'derv_func'"
          ]
        }
      ]
    },
    {
      "cell_type": "code",
      "source": [
        "class base:\n",
        "  def __init__(self):\n",
        "    print(\"In base class constructor\")\n",
        "\n",
        "class derived(base):\n",
        "  def __init__(self):\n",
        "    print(\"In derived class constructor\")\n",
        "\n",
        "b1=base()\n",
        "d1=derived()"
      ],
      "metadata": {
        "colab": {
          "base_uri": "https://localhost:8080/"
        },
        "id": "LEPgJHzxoz5H",
        "outputId": "432f697e-b018-4f39-e7eb-6f7d1914becf"
      },
      "execution_count": 7,
      "outputs": [
        {
          "output_type": "stream",
          "name": "stdout",
          "text": [
            "In base class constructor\n",
            "In derived class constructor\n"
          ]
        }
      ]
    },
    {
      "cell_type": "code",
      "source": [
        "class base:\n",
        "  def __init__(self):\n",
        "    print(\"In base class constructor\")\n",
        "\n",
        "class derived(base):\n",
        "  def __init__(self):\n",
        "    print(\"In derived class constructor\")\n",
        "\n",
        "d1=derived()"
      ],
      "metadata": {
        "colab": {
          "base_uri": "https://localhost:8080/"
        },
        "id": "k2O5FlKrhYYN",
        "outputId": "7363c034-42d5-4d9e-ae71-f1c03622b992"
      },
      "execution_count": 8,
      "outputs": [
        {
          "output_type": "stream",
          "name": "stdout",
          "text": [
            "In derived class constructor\n"
          ]
        }
      ]
    },
    {
      "cell_type": "code",
      "source": [
        "class base:\n",
        "  def __init__(self,a):\n",
        "    print(a)\n",
        "\n",
        "class derived(base):\n",
        "  def __init__(self,x):\n",
        "    super().__init__(x)\n",
        "    print(x)\n",
        "\n",
        "d1=derived(10)"
      ],
      "metadata": {
        "colab": {
          "base_uri": "https://localhost:8080/"
        },
        "id": "nkQ_WeLIm8yJ",
        "outputId": "e4357c66-14e2-4cd2-d035-c26cd7cc199f"
      },
      "execution_count": 9,
      "outputs": [
        {
          "output_type": "stream",
          "name": "stdout",
          "text": [
            "10\n",
            "10\n"
          ]
        }
      ]
    },
    {
      "cell_type": "code",
      "source": [
        "class base:\n",
        "  def __init__(self):\n",
        "    print(\"In base class constructor\")\n",
        "\n",
        "class derived(base):\n",
        "  def __init__(self):\n",
        "    super().__init__()\n",
        "    print(\"In derived class constructor\")\n",
        "\n",
        "d1=derived()"
      ],
      "metadata": {
        "colab": {
          "base_uri": "https://localhost:8080/"
        },
        "id": "CX5mTPFdmnhJ",
        "outputId": "123dda22-8ff4-4732-b8dc-d1dcaa23aa7c"
      },
      "execution_count": 10,
      "outputs": [
        {
          "output_type": "stream",
          "name": "stdout",
          "text": [
            "In base class constructor\n",
            "In derived class constructor\n"
          ]
        }
      ]
    },
    {
      "cell_type": "code",
      "source": [
        "class employee:\n",
        "  def initialize(self,i):\n",
        "    self.id=i\n",
        "\n",
        "class parttime_employee(employee):\n",
        "  def display_name(self):\n",
        "    print(self.id)\n",
        "\n",
        "p1=parttime_employee()\n",
        "p1.initialize(\"A123\")\n",
        "p1.display_name()\n",
        "print(p1.id)"
      ],
      "metadata": {
        "colab": {
          "base_uri": "https://localhost:8080/"
        },
        "id": "M0qibdWOqiGa",
        "outputId": "eca709bc-11b9-4311-e067-1cdc8e11f5aa"
      },
      "execution_count": 13,
      "outputs": [
        {
          "output_type": "stream",
          "name": "stdout",
          "text": [
            "A123\n",
            "A123\n"
          ]
        }
      ]
    },
    {
      "cell_type": "code",
      "source": [
        "class employee:\n",
        "  def initialize(self,n,i):\n",
        "    self.name=n\n",
        "    self.id=i\n",
        "\n",
        "  def display(self):\n",
        "    print(self.id,self.name)\n",
        "\n",
        "class parttime_employee(employee):\n",
        "  def display_name(self):\n",
        "    print(self.id,self.name)\n",
        "\n",
        "p1=parttime_employee()\n",
        "p1.initialize(\"ABC\",\"A123\")\n",
        "p1.display_name()\n",
        "e1=employee()\n",
        "e1.initialize(\"XYZ\",\"X456\")\n"
      ],
      "metadata": {
        "colab": {
          "base_uri": "https://localhost:8080/"
        },
        "id": "By_5lIV2sn8K",
        "outputId": "20acdb00-789c-405b-944d-9e0616823883"
      },
      "execution_count": 16,
      "outputs": [
        {
          "output_type": "stream",
          "name": "stdout",
          "text": [
            "A123 ABC\n"
          ]
        }
      ]
    },
    {
      "cell_type": "code",
      "source": [
        "class employee:\n",
        "  def initialize(self,n,i,r):\n",
        "    self.name=n\n",
        "    self.id=i\n",
        "    self.role=r\n",
        "\n",
        "  def assign_salary(self,s):\n",
        "    self.salary=s\n",
        "\n",
        "\n",
        "  def display_details(self):\n",
        "    print(self.id,self.name,self.role,self.salary)\n",
        "\n",
        "class overtime_employee(employee):\n",
        "  def cal_ot_and_utsalary(self,nhw):\n",
        "    self.salary=self.salary+(nhw*500)\n",
        "\n",
        "e1=employee()\n",
        "e1.initialize(\"ABC\",\"A123\",\"Manager\")\n",
        "e1.assign_salary(45000)\n",
        "e1.display_details()\n",
        "\n",
        "e2=overtime_employee()\n",
        "e2.initialize(\"XYZ\",\"X123\",\"Developer\")\n",
        "e2.assign_salary(30000)\n",
        "e2.display_details()\n",
        "e2.cal_ot_and_utsalary(10)\n",
        "e2.display_details()"
      ],
      "metadata": {
        "colab": {
          "base_uri": "https://localhost:8080/"
        },
        "id": "dO4GcaW8s4XR",
        "outputId": "6c92ff6c-4231-41f9-9825-db80d4a11fb1"
      },
      "execution_count": 17,
      "outputs": [
        {
          "output_type": "stream",
          "name": "stdout",
          "text": [
            "A123 ABC Manager 45000\n",
            "X123 XYZ Developer 30000\n",
            "X123 XYZ Developer 35000\n"
          ]
        }
      ]
    },
    {
      "cell_type": "code",
      "source": [
        "class employee:\n",
        "  def __init__(self,n,i,r):\n",
        "    self.name=n\n",
        "    self.id=i\n",
        "    self.role=r\n",
        "\n",
        "  def assign_salary(self,s):\n",
        "    self.salary=s\n",
        "\n",
        "\n",
        "  def display_details(self):\n",
        "    print(self.id,self.name,self.role,self.salary)\n",
        "\n",
        "class overtime_employee(employee):\n",
        "  def __init__(self,na,i1,ro):\n",
        "    super().__init__(na,i1,ro)\n",
        "\n",
        "  def cal_ot_and_utsalary(self,nhw):\n",
        "    self.salary=self.salary+(nhw*500)\n",
        "\n",
        "e1=employee(\"ABC\",\"A123\",\"Manager\")\n",
        "e1.assign_salary(45000)\n",
        "e1.display_details()\n",
        "\n",
        "e2=overtime_employee(\"XYZ\",\"X123\",\"Developer\")\n",
        "e2.assign_salary(30000)\n",
        "e2.display_details()\n",
        "e2.cal_ot_and_utsalary(10)\n",
        "e2.display_details()"
      ],
      "metadata": {
        "colab": {
          "base_uri": "https://localhost:8080/"
        },
        "id": "MBtpgyVYn5Ow",
        "outputId": "b84f7338-33e0-461d-d1db-55a9837ab09a"
      },
      "execution_count": null,
      "outputs": [
        {
          "output_type": "stream",
          "name": "stdout",
          "text": [
            "A123 ABC Manager 45000\n",
            "X123 XYZ Developer 30000\n",
            "X123 XYZ Developer 35000\n"
          ]
        }
      ]
    },
    {
      "cell_type": "markdown",
      "source": [
        "**Multiple Inheritance**"
      ],
      "metadata": {
        "id": "duXnvnWhq1BV"
      }
    },
    {
      "cell_type": "code",
      "source": [
        "class base1:\n",
        "  base1_var=0\n",
        "\n",
        "class base2:\n",
        "  base2_var=0\n",
        "\n",
        "class derived(base1,base2):\n",
        "  derived_var=0\n",
        "\n",
        "b1=base1()\n",
        "b1.base1_var=10\n",
        "\n",
        "b2=base2()\n",
        "b2.base2_var=30\n",
        "\n",
        "d1=derived()\n",
        "d1.base1_var=100\n",
        "d1.base2_var=200\n",
        "d1.derived_var=300\n",
        "\n",
        "print(\"base1_var\",b1.base1_var)\n",
        "print(\"base2_var\",b2.base2_var)\n",
        "print(\"base1_var\",d1.base1_var)\n",
        "print(\"base2_var\",d1.base2_var)\n",
        "print(\"derived_var\",d1.derived_var)"
      ],
      "metadata": {
        "colab": {
          "base_uri": "https://localhost:8080/"
        },
        "id": "nKTzmCJDqLxr",
        "outputId": "d18c3e02-7296-4a71-d056-3e658e047abe"
      },
      "execution_count": 18,
      "outputs": [
        {
          "output_type": "stream",
          "name": "stdout",
          "text": [
            "base1_var 10\n",
            "base2_var 30\n",
            "base1_var 100\n",
            "base2_var 200\n",
            "derived_var 300\n"
          ]
        }
      ]
    },
    {
      "cell_type": "markdown",
      "source": [
        "**Multilevel Inheritance**"
      ],
      "metadata": {
        "id": "ejEIZVoQwM3Q"
      }
    },
    {
      "cell_type": "code",
      "source": [
        "class grandparent:\n",
        "  base1_var=0\n",
        "\n",
        "class parent(base1):\n",
        "  base2_var=0\n",
        "\n",
        "class child(base2):\n",
        "  derived_var=0\n",
        "\n",
        "b1=grandparent()\n",
        "b1.base1_var=10\n",
        "\n",
        "b2=parent()\n",
        "b2.base1_var=20\n",
        "b2.base2_var=30\n",
        "\n",
        "d1=child()\n",
        "d1.base1_var=100\n",
        "d1.base2_var=200\n",
        "d1.derived_var=300\n",
        "\n",
        "print(\"base1_var\",b1.base1_var)\n",
        "print(\"base1_var\",b2.base1_var)\n",
        "print(\"base2_var\",b2.base2_var)\n",
        "print(\"base1_var\",d1.base1_var)\n",
        "print(\"base2_var\",d1.base2_var)\n",
        "print(\"derived_var\",d1.derived_var)"
      ],
      "metadata": {
        "colab": {
          "base_uri": "https://localhost:8080/"
        },
        "id": "8ftExiegwWcS",
        "outputId": "7ae7f547-e23f-452a-f1ef-32d2df575d65"
      },
      "execution_count": 20,
      "outputs": [
        {
          "output_type": "stream",
          "name": "stdout",
          "text": [
            "base1_var 10\n",
            "base1_var 20\n",
            "base2_var 30\n",
            "base1_var 100\n",
            "base2_var 200\n",
            "derived_var 300\n"
          ]
        }
      ]
    },
    {
      "cell_type": "markdown",
      "source": [
        "**Polymorphism - Function Overriding**"
      ],
      "metadata": {
        "id": "UkhQ-_ZWVhnt"
      }
    },
    {
      "cell_type": "code",
      "source": [
        "class base:\n",
        "  def display(self):\n",
        "    print(\"In base class, This function will be overrided\")\n",
        "\n",
        "  def display1(self):\n",
        "    print(\"In base class, This function is not overrided\")\n",
        "\n",
        "class derived(base):\n",
        "  def display(self):\n",
        "    print(\"In derived class, overrided\")\n",
        "\n",
        "b1=base()\n",
        "b1.display()\n",
        "b1.display1()\n",
        "\n",
        "d1=derived()\n",
        "d1.display()\n",
        "d1.display1()"
      ],
      "metadata": {
        "id": "C-o7MljkyA8f",
        "colab": {
          "base_uri": "https://localhost:8080/"
        },
        "outputId": "534991c4-4078-4d54-eaf3-f39b06ab10e6"
      },
      "execution_count": null,
      "outputs": [
        {
          "output_type": "stream",
          "name": "stdout",
          "text": [
            "In base class, This function will be overided\n",
            "In base class, This function is not overrided\n",
            "In derived class, overrided\n",
            "In base class, This function is not overrided\n"
          ]
        }
      ]
    },
    {
      "cell_type": "code",
      "source": [
        "class base:\n",
        "  def display(self):\n",
        "    print(\"In base class, This function will be overrided\")\n",
        "\n",
        "  def display1(self):\n",
        "    print(\"In base class, This function is not overrided\")\n",
        "\n",
        "class derived(base):\n",
        "  def display(self):\n",
        "    print(\"In derived class, overrided\")\n",
        "    super().display()\n",
        "\n",
        "b1=base()\n",
        "b1.display()\n",
        "b1.display1()\n",
        "\n",
        "d1=derived()\n",
        "d1.display()\n",
        "d1.display1()"
      ],
      "metadata": {
        "colab": {
          "base_uri": "https://localhost:8080/"
        },
        "id": "o40MinrlZZ6l",
        "outputId": "834927dd-ff6c-4339-d0a2-2d3b59ac049a"
      },
      "execution_count": null,
      "outputs": [
        {
          "output_type": "stream",
          "name": "stdout",
          "text": [
            "In base class, This function will be overrided\n",
            "In base class, This function is not overrided\n",
            "In derived class, overrided\n",
            "In base class, This function will be overrided\n",
            "In base class, This function is not overrided\n"
          ]
        }
      ]
    },
    {
      "cell_type": "code",
      "source": [
        "class rectangle:\n",
        "  def calarea(self,l,b):\n",
        "    self.area=l*b\n",
        "    print(self.area)\n",
        "\n",
        "class cuboid(rectangle):\n",
        "  def calarea(self,l,b,h):\n",
        "    self.area=l*b*h\n",
        "    print(self.area)\n",
        "\n",
        "r1=rectangle()\n",
        "r1.calarea(2,3)\n",
        "c1=cuboid()\n",
        "c1.calarea(2,3,4)\n"
      ],
      "metadata": {
        "colab": {
          "base_uri": "https://localhost:8080/"
        },
        "id": "KctgGIytbkRM",
        "outputId": "d649383a-34d1-44c7-f3c0-415913fc8878"
      },
      "execution_count": null,
      "outputs": [
        {
          "output_type": "stream",
          "name": "stdout",
          "text": [
            "6\n",
            "24\n"
          ]
        }
      ]
    },
    {
      "cell_type": "markdown",
      "source": [
        "**Encasulation**"
      ],
      "metadata": {
        "id": "WZND0O1Jcw3K"
      }
    },
    {
      "cell_type": "code",
      "source": [
        "class rectangle:\n",
        "  def calarea(self,l,b):\n",
        "    self.area=l*b\n",
        "    print(self.area)\n",
        "\n",
        "class cuboid(rectangle):\n",
        "  def calarea(self,l,b,h):\n",
        "    self.area=l*b*h\n",
        "    print(self.area)\n",
        "\n",
        "r1=rectangle()\n",
        "r1.calarea(2,3)\n",
        "c1=cuboid()\n",
        "c1.calarea(2,3,4)\n",
        "print(r1.area)\n",
        "print(c1.area)"
      ],
      "metadata": {
        "colab": {
          "base_uri": "https://localhost:8080/"
        },
        "id": "V0fcp59vcvzy",
        "outputId": "968656b0-72dd-4785-c326-e17f0a16e7dd"
      },
      "execution_count": null,
      "outputs": [
        {
          "output_type": "stream",
          "name": "stdout",
          "text": [
            "6\n",
            "24\n",
            "6\n",
            "24\n"
          ]
        }
      ]
    },
    {
      "cell_type": "markdown",
      "source": [
        "**Private Members**"
      ],
      "metadata": {
        "id": "ulUkGNXFe-Iw"
      }
    },
    {
      "cell_type": "code",
      "source": [
        "class rectangle:\n",
        "  def calarea(self,l,b):\n",
        "    self.__area=l*b\n",
        "    print(self.__area)\n",
        "\n",
        "class cuboid(rectangle):\n",
        "  def calarea(self,l,b,h):\n",
        "    self.__area=l*b*h\n",
        "    print(self.__area)\n",
        "\n",
        "r1=rectangle()\n",
        "r1.calarea(2,3)\n",
        "c1=cuboid()\n",
        "c1.calarea(2,3,4)\n",
        "print(r1.__area)\n",
        "print(c1.__area)"
      ],
      "metadata": {
        "colab": {
          "base_uri": "https://localhost:8080/",
          "height": 263
        },
        "id": "adICd3MXfCxV",
        "outputId": "1623b6c0-e831-4677-9b2c-f1a92ddbbbf9"
      },
      "execution_count": null,
      "outputs": [
        {
          "output_type": "stream",
          "name": "stdout",
          "text": [
            "6\n",
            "24\n"
          ]
        },
        {
          "output_type": "error",
          "ename": "AttributeError",
          "evalue": "'rectangle' object has no attribute '__area'",
          "traceback": [
            "\u001b[0;31m---------------------------------------------------------------------------\u001b[0m",
            "\u001b[0;31mAttributeError\u001b[0m                            Traceback (most recent call last)",
            "\u001b[0;32m<ipython-input-9-16c893eff912>\u001b[0m in \u001b[0;36m<cell line: 15>\u001b[0;34m()\u001b[0m\n\u001b[1;32m     13\u001b[0m \u001b[0mc1\u001b[0m\u001b[0;34m=\u001b[0m\u001b[0mcuboid\u001b[0m\u001b[0;34m(\u001b[0m\u001b[0;34m)\u001b[0m\u001b[0;34m\u001b[0m\u001b[0;34m\u001b[0m\u001b[0m\n\u001b[1;32m     14\u001b[0m \u001b[0mc1\u001b[0m\u001b[0;34m.\u001b[0m\u001b[0mcalarea\u001b[0m\u001b[0;34m(\u001b[0m\u001b[0;36m2\u001b[0m\u001b[0;34m,\u001b[0m\u001b[0;36m3\u001b[0m\u001b[0;34m,\u001b[0m\u001b[0;36m4\u001b[0m\u001b[0;34m)\u001b[0m\u001b[0;34m\u001b[0m\u001b[0;34m\u001b[0m\u001b[0m\n\u001b[0;32m---> 15\u001b[0;31m \u001b[0mprint\u001b[0m\u001b[0;34m(\u001b[0m\u001b[0mr1\u001b[0m\u001b[0;34m.\u001b[0m\u001b[0m__area\u001b[0m\u001b[0;34m)\u001b[0m\u001b[0;34m\u001b[0m\u001b[0;34m\u001b[0m\u001b[0m\n\u001b[0m\u001b[1;32m     16\u001b[0m \u001b[0mprint\u001b[0m\u001b[0;34m(\u001b[0m\u001b[0mc1\u001b[0m\u001b[0;34m.\u001b[0m\u001b[0m__area\u001b[0m\u001b[0;34m)\u001b[0m\u001b[0;34m\u001b[0m\u001b[0;34m\u001b[0m\u001b[0m\n",
            "\u001b[0;31mAttributeError\u001b[0m: 'rectangle' object has no attribute '__area'"
          ]
        }
      ]
    },
    {
      "cell_type": "markdown",
      "source": [
        "**Portected Members**"
      ],
      "metadata": {
        "id": "VhXxzwKKfYvW"
      }
    },
    {
      "cell_type": "code",
      "source": [
        "class rectangle:\n",
        "  def calarea(self,l,b):\n",
        "    self._area=l*b\n",
        "    print(self._area)\n",
        "\n",
        "class cuboid(rectangle):\n",
        "  def calarea(self,l,b,h):\n",
        "    self._area=l*b*h\n",
        "    print(self._area)\n",
        "\n",
        "r1=rectangle()\n",
        "r1.calarea(2,3)\n",
        "c1=cuboid()\n",
        "c1.calarea(2,3,4)\n",
        "print(r1._area)\n",
        "print(c1._area)"
      ],
      "metadata": {
        "colab": {
          "base_uri": "https://localhost:8080/"
        },
        "id": "bPPw37yAfcgw",
        "outputId": "2e3e0a51-d905-4226-e54a-8e8cbf90f887"
      },
      "execution_count": null,
      "outputs": [
        {
          "output_type": "stream",
          "name": "stdout",
          "text": [
            "6\n",
            "24\n",
            "6\n",
            "24\n"
          ]
        }
      ]
    },
    {
      "cell_type": "code",
      "source": [
        "class cal:\n",
        "  def add(self,a,b):\n",
        "    return a+b\n",
        "\n",
        "  def add(self,a,b,c):\n",
        "    return a+b+c\n",
        "\n",
        "  def add(self,a,b,c,d):\n",
        "    return a+b+c+d\n",
        "\n",
        "c1=cal()\n",
        "print(c1.add(2,3))\n",
        "print(c1.add(2,3,4))\n",
        "print(c1.add(2,3,4,5))\n"
      ],
      "metadata": {
        "id": "Usbx9NOQMcak",
        "colab": {
          "base_uri": "https://localhost:8080/",
          "height": 245
        },
        "outputId": "6f13aaac-fdec-46dd-8b95-343b5273051a"
      },
      "execution_count": null,
      "outputs": [
        {
          "output_type": "error",
          "ename": "TypeError",
          "evalue": "cal.add() missing 2 required positional arguments: 'c' and 'd'",
          "traceback": [
            "\u001b[0;31m---------------------------------------------------------------------------\u001b[0m",
            "\u001b[0;31mTypeError\u001b[0m                                 Traceback (most recent call last)",
            "\u001b[0;32m<ipython-input-1-28ca17915d74>\u001b[0m in \u001b[0;36m<cell line: 14>\u001b[0;34m()\u001b[0m\n\u001b[1;32m     12\u001b[0m \u001b[0;34m\u001b[0m\u001b[0m\n\u001b[1;32m     13\u001b[0m \u001b[0mc1\u001b[0m\u001b[0;34m=\u001b[0m\u001b[0mcal\u001b[0m\u001b[0;34m(\u001b[0m\u001b[0;34m)\u001b[0m\u001b[0;34m\u001b[0m\u001b[0;34m\u001b[0m\u001b[0m\n\u001b[0;32m---> 14\u001b[0;31m \u001b[0mprint\u001b[0m\u001b[0;34m(\u001b[0m\u001b[0mc1\u001b[0m\u001b[0;34m.\u001b[0m\u001b[0madd\u001b[0m\u001b[0;34m(\u001b[0m\u001b[0;36m2\u001b[0m\u001b[0;34m,\u001b[0m\u001b[0;36m3\u001b[0m\u001b[0;34m)\u001b[0m\u001b[0;34m)\u001b[0m\u001b[0;34m\u001b[0m\u001b[0;34m\u001b[0m\u001b[0m\n\u001b[0m\u001b[1;32m     15\u001b[0m \u001b[0mprint\u001b[0m\u001b[0;34m(\u001b[0m\u001b[0mc1\u001b[0m\u001b[0;34m.\u001b[0m\u001b[0madd\u001b[0m\u001b[0;34m(\u001b[0m\u001b[0;36m2\u001b[0m\u001b[0;34m,\u001b[0m\u001b[0;36m3\u001b[0m\u001b[0;34m,\u001b[0m\u001b[0;36m4\u001b[0m\u001b[0;34m)\u001b[0m\u001b[0;34m)\u001b[0m\u001b[0;34m\u001b[0m\u001b[0;34m\u001b[0m\u001b[0m\n\u001b[1;32m     16\u001b[0m \u001b[0mprint\u001b[0m\u001b[0;34m(\u001b[0m\u001b[0mc1\u001b[0m\u001b[0;34m.\u001b[0m\u001b[0madd\u001b[0m\u001b[0;34m(\u001b[0m\u001b[0;36m2\u001b[0m\u001b[0;34m,\u001b[0m\u001b[0;36m3\u001b[0m\u001b[0;34m,\u001b[0m\u001b[0;36m4\u001b[0m\u001b[0;34m,\u001b[0m\u001b[0;36m5\u001b[0m\u001b[0;34m)\u001b[0m\u001b[0;34m)\u001b[0m\u001b[0;34m\u001b[0m\u001b[0;34m\u001b[0m\u001b[0m\n",
            "\u001b[0;31mTypeError\u001b[0m: cal.add() missing 2 required positional arguments: 'c' and 'd'"
          ]
        }
      ]
    },
    {
      "cell_type": "code",
      "source": [
        "class cal:\n",
        "  def add(self,a=None,b=None,c=None,d=None):\n",
        "    if a!=None and b!=None and c!=None and d!=None:\n",
        "      print(a+b+c+d)\n",
        "    elif a!=None and b!=None and c!=None and d==None:\n",
        "      print(a+b+c)\n",
        "    elif a!=None and b!=None and c==None and d==None:\n",
        "      print(a+b)\n",
        "    else:\n",
        "      print(\"None\")\n",
        "\n",
        "c1=cal()\n",
        "c1.add()\n",
        "c1.add(2)\n",
        "c1.add(2,3)\n",
        "c1.add(2,3,4)\n",
        "c1.add(2,3,4,5)"
      ],
      "metadata": {
        "colab": {
          "base_uri": "https://localhost:8080/"
        },
        "id": "Jk7zjTmBNZWI",
        "outputId": "2ec649e5-a9e3-43c4-d715-d4e2c8fc69ba"
      },
      "execution_count": null,
      "outputs": [
        {
          "output_type": "stream",
          "name": "stdout",
          "text": [
            "None\n",
            "None\n",
            "5\n",
            "9\n",
            "14\n"
          ]
        }
      ]
    }
  ]
}